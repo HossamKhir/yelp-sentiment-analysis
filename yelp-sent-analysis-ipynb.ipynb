{
 "cells": [
  {
   "cell_type": "markdown",
   "id": "aa4214c9",
   "metadata": {
    "papermill": {
     "duration": 0.009041,
     "end_time": "2022-06-27T16:03:28.832979",
     "exception": false,
     "start_time": "2022-06-27T16:03:28.823938",
     "status": "completed"
    },
    "tags": []
   },
   "source": [
    "# Sentiment Analysis on Yelp dataset\n",
    "\n",
    "## Loading libraries\n"
   ]
  },
  {
   "cell_type": "code",
   "execution_count": 1,
   "id": "858f8c0e",
   "metadata": {
    "execution": {
     "iopub.execute_input": "2022-06-27T16:03:28.846502Z",
     "iopub.status.busy": "2022-06-27T16:03:28.845992Z",
     "iopub.status.idle": "2022-06-27T16:03:40.841875Z",
     "shell.execute_reply": "2022-06-27T16:03:40.840945Z"
    },
    "papermill": {
     "duration": 12.005687,
     "end_time": "2022-06-27T16:03:40.844484",
     "exception": false,
     "start_time": "2022-06-27T16:03:28.838797",
     "status": "completed"
    },
    "tags": []
   },
   "outputs": [],
   "source": [
    "import joblib\n",
    "import numpy as np\n",
    "import pandas as pd\n",
    "import spacy\n",
    "from sklearn.naive_bayes import MultinomialNB\n",
    "from sklearn.feature_extraction.text import TfidfVectorizer\n",
    "from sklearn.model_selection import cross_validate, train_test_split\n",
    "from sklearn.pipeline import make_pipeline\n",
    "from sklearn.metrics import classification_report\n",
    "from gensim.parsing.preprocessing import STOPWORDS\n",
    "from nltk.corpus import stopwords\n"
   ]
  },
  {
   "cell_type": "markdown",
   "id": "414f9341",
   "metadata": {
    "papermill": {
     "duration": 0.005733,
     "end_time": "2022-06-27T16:03:40.856657",
     "exception": false,
     "start_time": "2022-06-27T16:03:40.850924",
     "status": "completed"
    },
    "tags": []
   },
   "source": [
    "## Loading the dataset\n"
   ]
  },
  {
   "cell_type": "code",
   "execution_count": 2,
   "id": "532126cf",
   "metadata": {
    "execution": {
     "iopub.execute_input": "2022-06-27T16:03:40.871234Z",
     "iopub.status.busy": "2022-06-27T16:03:40.869869Z",
     "iopub.status.idle": "2022-06-27T16:03:45.709039Z",
     "shell.execute_reply": "2022-06-27T16:03:45.707908Z"
    },
    "papermill": {
     "duration": 4.849614,
     "end_time": "2022-06-27T16:03:45.712178",
     "exception": false,
     "start_time": "2022-06-27T16:03:40.862564",
     "status": "completed"
    },
    "tags": []
   },
   "outputs": [
    {
     "data": {
      "text/html": [
       "<div>\n",
       "<style scoped>\n",
       "    .dataframe tbody tr th:only-of-type {\n",
       "        vertical-align: middle;\n",
       "    }\n",
       "\n",
       "    .dataframe tbody tr th {\n",
       "        vertical-align: top;\n",
       "    }\n",
       "\n",
       "    .dataframe thead th {\n",
       "        text-align: right;\n",
       "    }\n",
       "</style>\n",
       "<table border=\"1\" class=\"dataframe\">\n",
       "  <thead>\n",
       "    <tr style=\"text-align: right;\">\n",
       "      <th></th>\n",
       "      <th>sentiment</th>\n",
       "      <th>review</th>\n",
       "    </tr>\n",
       "  </thead>\n",
       "  <tbody>\n",
       "    <tr>\n",
       "      <th>0</th>\n",
       "      <td>NEG</td>\n",
       "      <td>unfortunately frustration dr goldberg patient ...</td>\n",
       "    </tr>\n",
       "    <tr>\n",
       "      <th>1</th>\n",
       "      <td>POS</td>\n",
       "      <td>going dr goldberg years think st patients star...</td>\n",
       "    </tr>\n",
       "    <tr>\n",
       "      <th>2</th>\n",
       "      <td>NEG</td>\n",
       "      <td>know dr goldberg like moving arizona let tell ...</td>\n",
       "    </tr>\n",
       "    <tr>\n",
       "      <th>3</th>\n",
       "      <td>NEG</td>\n",
       "      <td>writing review heads doctor office staff admin...</td>\n",
       "    </tr>\n",
       "    <tr>\n",
       "      <th>4</th>\n",
       "      <td>POS</td>\n",
       "      <td>food great best thing wings wings simply fanta...</td>\n",
       "    </tr>\n",
       "  </tbody>\n",
       "</table>\n",
       "</div>"
      ],
      "text/plain": [
       "  sentiment                                             review\n",
       "0       NEG  unfortunately frustration dr goldberg patient ...\n",
       "1       POS  going dr goldberg years think st patients star...\n",
       "2       NEG  know dr goldberg like moving arizona let tell ...\n",
       "3       NEG  writing review heads doctor office staff admin...\n",
       "4       POS  food great best thing wings wings simply fanta..."
      ]
     },
     "execution_count": 2,
     "metadata": {},
     "output_type": "execute_result"
    }
   ],
   "source": [
    "IO_TRAIN = \"../input/yelp-sent-analysis-preprocess/train_processed.csv\"\n",
    "ylp_processed = pd.read_csv(\n",
    "    IO_TRAIN, index_col=0, dtype={\"sentiment\": \"category\", \"review\": str}\n",
    ")\n",
    "ylp_processed.head()\n"
   ]
  },
  {
   "cell_type": "markdown",
   "id": "dd9363d0",
   "metadata": {
    "papermill": {
     "duration": 0.005809,
     "end_time": "2022-06-27T16:03:45.724303",
     "exception": false,
     "start_time": "2022-06-27T16:03:45.718494",
     "status": "completed"
    },
    "tags": []
   },
   "source": [
    "to be able to deal with classes, it should be in some human interpretable form, so using knowledge from `readme.txt`, class 1 is `NEG` for negative, and class 2 is `POS` for positive\n"
   ]
  },
  {
   "cell_type": "code",
   "execution_count": 3,
   "id": "0edf4de9",
   "metadata": {
    "execution": {
     "iopub.execute_input": "2022-06-27T16:03:45.738103Z",
     "iopub.status.busy": "2022-06-27T16:03:45.737721Z",
     "iopub.status.idle": "2022-06-27T16:03:52.224884Z",
     "shell.execute_reply": "2022-06-27T16:03:52.223928Z"
    },
    "papermill": {
     "duration": 6.496979,
     "end_time": "2022-06-27T16:03:52.227350",
     "exception": false,
     "start_time": "2022-06-27T16:03:45.730371",
     "status": "completed"
    },
    "tags": []
   },
   "outputs": [],
   "source": [
    "nlp = spacy.load(\"en_core_web_lg\")\n",
    "# combining the stopwords from gensim & nltk\n",
    "STOPWORDS = STOPWORDS.union(frozenset(stopwords.words(\"english\")), nlp.Defaults.stop_words)\n"
   ]
  },
  {
   "cell_type": "markdown",
   "id": "0a513d60",
   "metadata": {
    "papermill": {
     "duration": 0.00566,
     "end_time": "2022-06-27T16:03:52.239864",
     "exception": false,
     "start_time": "2022-06-27T16:03:52.234204",
     "status": "completed"
    },
    "tags": []
   },
   "source": [
    "## Variation on naive Bayes\n",
    "\n",
    "after making a benchmark of naive bayes with unigrams, and got accuracy of $0.875$\n",
    "\n",
    "let's try a variant of a naive Bayes with mixture of unigrams, bigrams, & trigrams\n",
    "\n",
    "> The dataset is too large for classic ML to run trigrams or mixture of polygrams, even for pyspark, locally or on cloud (kaggle, colab)\n"
   ]
  },
  {
   "cell_type": "code",
   "execution_count": 4,
   "id": "444d754d",
   "metadata": {
    "execution": {
     "iopub.execute_input": "2022-06-27T16:03:52.253823Z",
     "iopub.status.busy": "2022-06-27T16:03:52.253233Z",
     "iopub.status.idle": "2022-06-27T16:03:53.366818Z",
     "shell.execute_reply": "2022-06-27T16:03:53.365843Z"
    },
    "papermill": {
     "duration": 1.123814,
     "end_time": "2022-06-27T16:03:53.369819",
     "exception": false,
     "start_time": "2022-06-27T16:03:52.246005",
     "status": "completed"
    },
    "tags": []
   },
   "outputs": [],
   "source": [
    "X = ylp_processed[\"review\"]\n",
    "y = ylp_processed[\"sentiment\"]\n",
    "\n",
    "X_train, X_test, y_train, y_test = train_test_split(\n",
    "    X, y, test_size=0.2, random_state=42, stratify=y\n",
    ")\n"
   ]
  },
  {
   "cell_type": "code",
   "execution_count": 5,
   "id": "4f245bdd",
   "metadata": {
    "execution": {
     "iopub.execute_input": "2022-06-27T16:03:53.388121Z",
     "iopub.status.busy": "2022-06-27T16:03:53.387720Z",
     "iopub.status.idle": "2022-06-27T16:04:31.622804Z",
     "shell.execute_reply": "2022-06-27T16:04:31.621004Z"
    },
    "papermill": {
     "duration": 38.255658,
     "end_time": "2022-06-27T16:04:31.634555",
     "exception": false,
     "start_time": "2022-06-27T16:03:53.378897",
     "status": "completed"
    },
    "tags": []
   },
   "outputs": [
    {
     "data": {
      "text/plain": [
       "['benchmark-unigram-naive-bayes.joblib']"
      ]
     },
     "execution_count": 5,
     "metadata": {},
     "output_type": "execute_result"
    }
   ],
   "source": [
    "benchmark = make_pipeline(TfidfVectorizer(), MultinomialNB())\n",
    "\n",
    "_ = benchmark.fit(X_train, y_train)\n",
    "joblib.dump(benchmark, \"benchmark-unigram-naive-bayes.joblib\")\n"
   ]
  },
  {
   "cell_type": "code",
   "execution_count": 6,
   "id": "be6cfd7b",
   "metadata": {
    "execution": {
     "iopub.execute_input": "2022-06-27T16:04:31.649651Z",
     "iopub.status.busy": "2022-06-27T16:04:31.649172Z",
     "iopub.status.idle": "2022-06-27T16:04:31.654689Z",
     "shell.execute_reply": "2022-06-27T16:04:31.653977Z"
    },
    "papermill": {
     "duration": 0.015665,
     "end_time": "2022-06-27T16:04:31.656472",
     "exception": false,
     "start_time": "2022-06-27T16:04:31.640807",
     "status": "completed"
    },
    "tags": []
   },
   "outputs": [],
   "source": [
    "# the dataset is too large to be handled locally or on cloud, even with pyspark\n",
    "# so check the full dataset in bigram\n",
    "vectoriser = TfidfVectorizer(ngram_range=(2,2))\n",
    "clf = MultinomialNB()\n",
    "\n",
    "nb_bigram = make_pipeline(vectoriser, clf)\n"
   ]
  },
  {
   "cell_type": "code",
   "execution_count": 7,
   "id": "cde7cb49",
   "metadata": {
    "execution": {
     "iopub.execute_input": "2022-06-27T16:04:31.670877Z",
     "iopub.status.busy": "2022-06-27T16:04:31.670303Z",
     "iopub.status.idle": "2022-06-27T16:10:12.132908Z",
     "shell.execute_reply": "2022-06-27T16:10:12.131464Z"
    },
    "papermill": {
     "duration": 340.482312,
     "end_time": "2022-06-27T16:10:12.145078",
     "exception": false,
     "start_time": "2022-06-27T16:04:31.662766",
     "status": "completed"
    },
    "tags": []
   },
   "outputs": [
    {
     "name": "stderr",
     "output_type": "stream",
     "text": [
      "[Parallel(n_jobs=-1)]: Using backend LokyBackend with 4 concurrent workers.\n",
      "[Parallel(n_jobs=-1)]: Done   5 out of   5 | elapsed:  5.7min finished\n"
     ]
    },
    {
     "data": {
      "text/plain": [
       "0.902598126606194"
      ]
     },
     "execution_count": 7,
     "metadata": {},
     "output_type": "execute_result"
    }
   ],
   "source": [
    "scores_bigram = cross_validate(nb_bigram, X, y, cv=5, n_jobs=-1, verbose=1)\n",
    "np.mean(scores_bigram[\"test_score\"])\n"
   ]
  },
  {
   "cell_type": "markdown",
   "id": "7135beff",
   "metadata": {
    "papermill": {
     "duration": 0.005975,
     "end_time": "2022-06-27T16:10:12.157353",
     "exception": false,
     "start_time": "2022-06-27T16:10:12.151378",
     "status": "completed"
    },
    "tags": []
   },
   "source": [
    "using a bigram has raised the accuracy to $0.9$\n"
   ]
  },
  {
   "cell_type": "code",
   "execution_count": 8,
   "id": "5debb5fd",
   "metadata": {
    "execution": {
     "iopub.execute_input": "2022-06-27T16:10:12.172966Z",
     "iopub.status.busy": "2022-06-27T16:10:12.172002Z",
     "iopub.status.idle": "2022-06-27T16:12:34.585777Z",
     "shell.execute_reply": "2022-06-27T16:12:34.584912Z"
    },
    "papermill": {
     "duration": 142.430885,
     "end_time": "2022-06-27T16:12:34.594575",
     "exception": false,
     "start_time": "2022-06-27T16:10:12.163690",
     "status": "completed"
    },
    "tags": []
   },
   "outputs": [
    {
     "name": "stdout",
     "output_type": "stream",
     "text": [
      "              precision    recall  f1-score   support\n",
      "\n",
      "         NEG     0.9090    0.9019    0.9054     55986\n",
      "         POS     0.9027    0.9097    0.9062     55996\n",
      "\n",
      "    accuracy                         0.9058    111982\n",
      "   macro avg     0.9058    0.9058    0.9058    111982\n",
      "weighted avg     0.9058    0.9058    0.9058    111982\n",
      "\n"
     ]
    }
   ],
   "source": [
    "_ = nb_bigram.fit(X_train, y_train)\n",
    "y_pred = nb_bigram.predict(X_test)\n",
    "\n",
    "print(classification_report(y_test, y_pred, digits=4))\n"
   ]
  },
  {
   "cell_type": "code",
   "execution_count": 9,
   "id": "930f35b7",
   "metadata": {
    "execution": {
     "iopub.execute_input": "2022-06-27T16:12:34.610463Z",
     "iopub.status.busy": "2022-06-27T16:12:34.609666Z",
     "iopub.status.idle": "2022-06-27T16:14:03.226759Z",
     "shell.execute_reply": "2022-06-27T16:14:03.222962Z"
    },
    "papermill": {
     "duration": 88.65049,
     "end_time": "2022-06-27T16:14:03.252464",
     "exception": false,
     "start_time": "2022-06-27T16:12:34.601974",
     "status": "completed"
    },
    "tags": []
   },
   "outputs": [
    {
     "data": {
      "text/plain": [
       "['bigram-naive-bayes.joblib']"
      ]
     },
     "execution_count": 9,
     "metadata": {},
     "output_type": "execute_result"
    }
   ],
   "source": [
    "joblib.dump(nb_bigram, \"bigram-naive-bayes.joblib\")\n"
   ]
  },
  {
   "cell_type": "code",
   "execution_count": 10,
   "id": "cd0d62a2",
   "metadata": {
    "execution": {
     "iopub.execute_input": "2022-06-27T16:14:03.303060Z",
     "iopub.status.busy": "2022-06-27T16:14:03.300520Z",
     "iopub.status.idle": "2022-06-27T16:14:07.431051Z",
     "shell.execute_reply": "2022-06-27T16:14:07.429293Z"
    },
    "papermill": {
     "duration": 4.159785,
     "end_time": "2022-06-27T16:14:07.433800",
     "exception": false,
     "start_time": "2022-06-27T16:14:03.274015",
     "status": "completed"
    },
    "tags": []
   },
   "outputs": [],
   "source": [
    "!cp '../input/yelp-sent-analysis-preprocess/train_processed.csv' './'\n"
   ]
  },
  {
   "cell_type": "markdown",
   "id": "a6e6bd80",
   "metadata": {
    "papermill": {
     "duration": 0.006797,
     "end_time": "2022-06-27T16:14:07.448833",
     "exception": false,
     "start_time": "2022-06-27T16:14:07.442036",
     "status": "completed"
    },
    "tags": []
   },
   "source": [
    "---\n",
    "\n",
    "## Using a pre-trained model\n",
    "\n",
    "using spaCy pre-trained model [spacytextblob](https://spacy.io/universe/project/spacy-textblob) for sentiment analysis\n"
   ]
  },
  {
   "cell_type": "code",
   "execution_count": 11,
   "id": "03a44982",
   "metadata": {
    "execution": {
     "iopub.execute_input": "2022-06-27T16:14:07.464907Z",
     "iopub.status.busy": "2022-06-27T16:14:07.464058Z",
     "iopub.status.idle": "2022-06-27T16:14:36.345404Z",
     "shell.execute_reply": "2022-06-27T16:14:36.343940Z"
    },
    "papermill": {
     "duration": 28.89189,
     "end_time": "2022-06-27T16:14:36.347692",
     "exception": false,
     "start_time": "2022-06-27T16:14:07.455802",
     "status": "completed"
    },
    "tags": []
   },
   "outputs": [
    {
     "name": "stdout",
     "output_type": "stream",
     "text": [
      "Collecting spacytextblob\r\n",
      "  Downloading spacytextblob-4.0.0-py3-none-any.whl (4.5 kB)\r\n",
      "Requirement already satisfied: spacy<4.0,>=3.0 in /opt/conda/lib/python3.7/site-packages (from spacytextblob) (3.2.4)\r\n",
      "Collecting textblob<0.16.0,>=0.15.3\r\n",
      "  Downloading textblob-0.15.3-py2.py3-none-any.whl (636 kB)\r\n",
      "\u001b[2K     \u001b[90m━━━━━━━━━━━━━━━━━━━━━━━━━━━━━━━━━━━━━\u001b[0m \u001b[32m636.5/636.5 kB\u001b[0m \u001b[31m863.8 kB/s\u001b[0m eta \u001b[36m0:00:00\u001b[0m\r\n",
      "\u001b[?25hRequirement already satisfied: preshed<3.1.0,>=3.0.2 in /opt/conda/lib/python3.7/site-packages (from spacy<4.0,>=3.0->spacytextblob) (3.0.6)\r\n",
      "Requirement already satisfied: thinc<8.1.0,>=8.0.12 in /opt/conda/lib/python3.7/site-packages (from spacy<4.0,>=3.0->spacytextblob) (8.0.16)\r\n",
      "Requirement already satisfied: cymem<2.1.0,>=2.0.2 in /opt/conda/lib/python3.7/site-packages (from spacy<4.0,>=3.0->spacytextblob) (2.0.6)\r\n",
      "Requirement already satisfied: pathy>=0.3.5 in /opt/conda/lib/python3.7/site-packages (from spacy<4.0,>=3.0->spacytextblob) (0.6.1)\r\n",
      "Requirement already satisfied: langcodes<4.0.0,>=3.2.0 in /opt/conda/lib/python3.7/site-packages (from spacy<4.0,>=3.0->spacytextblob) (3.3.0)\r\n",
      "Requirement already satisfied: requests<3.0.0,>=2.13.0 in /opt/conda/lib/python3.7/site-packages (from spacy<4.0,>=3.0->spacytextblob) (2.27.1)\r\n",
      "Requirement already satisfied: blis<0.8.0,>=0.4.0 in /opt/conda/lib/python3.7/site-packages (from spacy<4.0,>=3.0->spacytextblob) (0.7.7)\r\n",
      "Requirement already satisfied: click<8.1.0 in /opt/conda/lib/python3.7/site-packages (from spacy<4.0,>=3.0->spacytextblob) (8.0.4)\r\n",
      "Requirement already satisfied: tqdm<5.0.0,>=4.38.0 in /opt/conda/lib/python3.7/site-packages (from spacy<4.0,>=3.0->spacytextblob) (4.64.0)\r\n",
      "Requirement already satisfied: setuptools in /opt/conda/lib/python3.7/site-packages (from spacy<4.0,>=3.0->spacytextblob) (59.8.0)\r\n",
      "Requirement already satisfied: wasabi<1.1.0,>=0.8.1 in /opt/conda/lib/python3.7/site-packages (from spacy<4.0,>=3.0->spacytextblob) (0.9.1)\r\n",
      "Requirement already satisfied: spacy-legacy<3.1.0,>=3.0.8 in /opt/conda/lib/python3.7/site-packages (from spacy<4.0,>=3.0->spacytextblob) (3.0.9)\r\n",
      "Requirement already satisfied: spacy-loggers<2.0.0,>=1.0.0 in /opt/conda/lib/python3.7/site-packages (from spacy<4.0,>=3.0->spacytextblob) (1.0.2)\r\n",
      "Requirement already satisfied: jinja2 in /opt/conda/lib/python3.7/site-packages (from spacy<4.0,>=3.0->spacytextblob) (3.1.2)\r\n",
      "Requirement already satisfied: typer<0.5.0,>=0.3.0 in /opt/conda/lib/python3.7/site-packages (from spacy<4.0,>=3.0->spacytextblob) (0.4.1)\r\n",
      "Requirement already satisfied: murmurhash<1.1.0,>=0.28.0 in /opt/conda/lib/python3.7/site-packages (from spacy<4.0,>=3.0->spacytextblob) (1.0.7)\r\n",
      "Requirement already satisfied: numpy>=1.15.0 in /opt/conda/lib/python3.7/site-packages (from spacy<4.0,>=3.0->spacytextblob) (1.21.6)\r\n",
      "Requirement already satisfied: srsly<3.0.0,>=2.4.1 in /opt/conda/lib/python3.7/site-packages (from spacy<4.0,>=3.0->spacytextblob) (2.4.3)\r\n",
      "Requirement already satisfied: pydantic!=1.8,!=1.8.1,<1.9.0,>=1.7.4 in /opt/conda/lib/python3.7/site-packages (from spacy<4.0,>=3.0->spacytextblob) (1.8.2)\r\n",
      "Requirement already satisfied: packaging>=20.0 in /opt/conda/lib/python3.7/site-packages (from spacy<4.0,>=3.0->spacytextblob) (21.3)\r\n",
      "Collecting typing-extensions<4.0.0.0,>=3.7.4\r\n",
      "  Downloading typing_extensions-3.10.0.2-py3-none-any.whl (26 kB)\r\n",
      "Requirement already satisfied: catalogue<2.1.0,>=2.0.6 in /opt/conda/lib/python3.7/site-packages (from spacy<4.0,>=3.0->spacytextblob) (2.0.7)\r\n",
      "Requirement already satisfied: nltk>=3.1 in /opt/conda/lib/python3.7/site-packages (from textblob<0.16.0,>=0.15.3->spacytextblob) (3.2.4)\r\n",
      "Requirement already satisfied: zipp>=0.5 in /opt/conda/lib/python3.7/site-packages (from catalogue<2.1.0,>=2.0.6->spacy<4.0,>=3.0->spacytextblob) (3.8.0)\r\n",
      "Requirement already satisfied: importlib-metadata in /opt/conda/lib/python3.7/site-packages (from click<8.1.0->spacy<4.0,>=3.0->spacytextblob) (4.11.4)\r\n",
      "Requirement already satisfied: six in /opt/conda/lib/python3.7/site-packages (from nltk>=3.1->textblob<0.16.0,>=0.15.3->spacytextblob) (1.16.0)\r\n",
      "Requirement already satisfied: pyparsing!=3.0.5,>=2.0.2 in /opt/conda/lib/python3.7/site-packages (from packaging>=20.0->spacy<4.0,>=3.0->spacytextblob) (3.0.9)\r\n",
      "Requirement already satisfied: smart-open<6.0.0,>=5.0.0 in /opt/conda/lib/python3.7/site-packages (from pathy>=0.3.5->spacy<4.0,>=3.0->spacytextblob) (5.2.1)\r\n",
      "Requirement already satisfied: charset-normalizer~=2.0.0 in /opt/conda/lib/python3.7/site-packages (from requests<3.0.0,>=2.13.0->spacy<4.0,>=3.0->spacytextblob) (2.0.12)\r\n",
      "Requirement already satisfied: urllib3<1.27,>=1.21.1 in /opt/conda/lib/python3.7/site-packages (from requests<3.0.0,>=2.13.0->spacy<4.0,>=3.0->spacytextblob) (1.26.9)\r\n",
      "Requirement already satisfied: idna<4,>=2.5 in /opt/conda/lib/python3.7/site-packages (from requests<3.0.0,>=2.13.0->spacy<4.0,>=3.0->spacytextblob) (3.3)\r\n",
      "Requirement already satisfied: certifi>=2017.4.17 in /opt/conda/lib/python3.7/site-packages (from requests<3.0.0,>=2.13.0->spacy<4.0,>=3.0->spacytextblob) (2022.5.18.1)\r\n",
      "Requirement already satisfied: MarkupSafe>=2.0 in /opt/conda/lib/python3.7/site-packages (from jinja2->spacy<4.0,>=3.0->spacytextblob) (2.0.1)\r\n",
      "Installing collected packages: typing-extensions, textblob, spacytextblob\r\n",
      "  Attempting uninstall: typing-extensions\r\n",
      "    Found existing installation: typing_extensions 4.2.0\r\n",
      "    Uninstalling typing_extensions-4.2.0:\r\n",
      "      Successfully uninstalled typing_extensions-4.2.0\r\n",
      "  Attempting uninstall: textblob\r\n",
      "    Found existing installation: textblob 0.17.1\r\n",
      "    Uninstalling textblob-0.17.1:\r\n",
      "      Successfully uninstalled textblob-0.17.1\r\n",
      "\u001b[31mERROR: pip's dependency resolver does not currently take into account all the packages that are installed. This behaviour is the source of the following dependency conflicts.\r\n",
      "tensorflow-io 0.21.0 requires tensorflow-io-gcs-filesystem==0.21.0, which is not installed.\r\n",
      "tensorflow 2.6.4 requires absl-py~=0.10, but you have absl-py 1.0.0 which is incompatible.\r\n",
      "tensorflow 2.6.4 requires numpy~=1.19.2, but you have numpy 1.21.6 which is incompatible.\r\n",
      "tensorflow 2.6.4 requires six~=1.15.0, but you have six 1.16.0 which is incompatible.\r\n",
      "tensorflow 2.6.4 requires wrapt~=1.12.1, but you have wrapt 1.14.1 which is incompatible.\r\n",
      "tensorflow-transform 1.8.0 requires pyarrow<6,>=1, but you have pyarrow 8.0.0 which is incompatible.\r\n",
      "tensorflow-transform 1.8.0 requires tensorflow!=2.0.*,!=2.1.*,!=2.2.*,!=2.3.*,!=2.4.*,!=2.5.*,!=2.6.*,!=2.7.*,<2.9,>=1.15.5, but you have tensorflow 2.6.4 which is incompatible.\r\n",
      "tensorflow-serving-api 2.8.0 requires tensorflow<3,>=2.8.0, but you have tensorflow 2.6.4 which is incompatible.\r\n",
      "rich 12.4.4 requires typing-extensions<5.0,>=4.0.0; python_version < \"3.9\", but you have typing-extensions 3.10.0.2 which is incompatible.\r\n",
      "pytorch-lightning 1.6.3 requires typing-extensions>=4.0.0, but you have typing-extensions 3.10.0.2 which is incompatible.\r\n",
      "flax 0.5.0 requires typing-extensions>=4.1.1, but you have typing-extensions 3.10.0.2 which is incompatible.\r\n",
      "flake8 4.0.1 requires importlib-metadata<4.3; python_version < \"3.8\", but you have importlib-metadata 4.11.4 which is incompatible.\r\n",
      "apache-beam 2.38.0 requires dill<0.3.2,>=0.3.1.1, but you have dill 0.3.5.1 which is incompatible.\r\n",
      "apache-beam 2.38.0 requires httplib2<0.20.0,>=0.8, but you have httplib2 0.20.4 which is incompatible.\r\n",
      "apache-beam 2.38.0 requires pyarrow<7.0.0,>=0.15.1, but you have pyarrow 8.0.0 which is incompatible.\r\n",
      "aioitertools 0.10.0 requires typing_extensions>=4.0; python_version < \"3.10\", but you have typing-extensions 3.10.0.2 which is incompatible.\r\n",
      "aiobotocore 2.3.2 requires botocore<1.24.22,>=1.24.21, but you have botocore 1.26.7 which is incompatible.\u001b[0m\u001b[31m\r\n",
      "\u001b[0mSuccessfully installed spacytextblob-4.0.0 textblob-0.15.3 typing-extensions-3.10.0.2\r\n",
      "\u001b[33mWARNING: Running pip as the 'root' user can result in broken permissions and conflicting behaviour with the system package manager. It is recommended to use a virtual environment instead: https://pip.pypa.io/warnings/venv\u001b[0m\u001b[33m\r\n",
      "\u001b[0m"
     ]
    }
   ],
   "source": [
    "!python3 -m pip install spacytextblob\n"
   ]
  },
  {
   "cell_type": "code",
   "execution_count": 12,
   "id": "a7c75553",
   "metadata": {
    "execution": {
     "iopub.execute_input": "2022-06-27T16:14:36.368370Z",
     "iopub.status.busy": "2022-06-27T16:14:36.367511Z",
     "iopub.status.idle": "2022-06-27T16:14:36.433041Z",
     "shell.execute_reply": "2022-06-27T16:14:36.431947Z"
    },
    "papermill": {
     "duration": 0.078594,
     "end_time": "2022-06-27T16:14:36.435451",
     "exception": false,
     "start_time": "2022-06-27T16:14:36.356857",
     "status": "completed"
    },
    "tags": []
   },
   "outputs": [],
   "source": [
    "from spacytextblob.spacytextblob import SpacyTextBlob\n",
    "\n",
    "_ = nlp.add_pipe(\"spacytextblob\")\n"
   ]
  },
  {
   "cell_type": "code",
   "execution_count": 13,
   "id": "90209662",
   "metadata": {
    "execution": {
     "iopub.execute_input": "2022-06-27T16:14:36.455621Z",
     "iopub.status.busy": "2022-06-27T16:14:36.455176Z",
     "iopub.status.idle": "2022-06-27T16:14:36.467484Z",
     "shell.execute_reply": "2022-06-27T16:14:36.466356Z"
    },
    "papermill": {
     "duration": 0.02502,
     "end_time": "2022-06-27T16:14:36.469582",
     "exception": false,
     "start_time": "2022-06-27T16:14:36.444562",
     "status": "completed"
    },
    "tags": []
   },
   "outputs": [],
   "source": [
    "def predict(doc:str)->str:\n",
    "    \"\"\"\n",
    "    TODO: fill pydoc\n",
    "    \n",
    "    \"\"\"\n",
    "    polarity = nlp(doc)._.blob.polarity\n",
    "    if polarity < 0:\n",
    "        return \"NEG\"\n",
    "    else:\n",
    "        return \"POS\"\n"
   ]
  },
  {
   "cell_type": "code",
   "execution_count": 14,
   "id": "3f60cfa0",
   "metadata": {
    "execution": {
     "iopub.execute_input": "2022-06-27T16:14:36.489629Z",
     "iopub.status.busy": "2022-06-27T16:14:36.489230Z",
     "iopub.status.idle": "2022-06-27T19:06:37.641576Z",
     "shell.execute_reply": "2022-06-27T19:06:37.640459Z"
    },
    "papermill": {
     "duration": 10321.174424,
     "end_time": "2022-06-27T19:06:37.653354",
     "exception": false,
     "start_time": "2022-06-27T16:14:36.478930",
     "status": "completed"
    },
    "tags": []
   },
   "outputs": [
    {
     "name": "stdout",
     "output_type": "stream",
     "text": [
      "              precision    recall  f1-score   support\n",
      "\n",
      "         NEG     0.9365    0.3943    0.5549    279931\n",
      "         POS     0.6164    0.9732    0.7548    279976\n",
      "\n",
      "    accuracy                         0.6838    559907\n",
      "   macro avg     0.7764    0.6838    0.6549    559907\n",
      "weighted avg     0.7764    0.6838    0.6549    559907\n",
      "\n"
     ]
    }
   ],
   "source": [
    "y_pred = ylp_processed[\"review\"].apply(predict)\n",
    "\n",
    "print(classification_report(y, y_pred, digits=4))\n"
   ]
  },
  {
   "cell_type": "markdown",
   "id": "3c71a215",
   "metadata": {
    "papermill": {
     "duration": 0.009073,
     "end_time": "2022-06-27T19:06:37.671526",
     "exception": false,
     "start_time": "2022-06-27T19:06:37.662453",
     "status": "completed"
    },
    "tags": []
   },
   "source": [
    "a pre-trained model gave a weak accuracy (f1-score) of $0.68$, the benchmark is better $0.875$\n"
   ]
  }
 ],
 "metadata": {
  "kernelspec": {
   "display_name": "Python 3",
   "language": "python",
   "name": "python3"
  },
  "language_info": {
   "codemirror_mode": {
    "name": "ipython",
    "version": 3
   },
   "file_extension": ".py",
   "mimetype": "text/x-python",
   "name": "python",
   "nbconvert_exporter": "python",
   "pygments_lexer": "ipython3",
   "version": "3.7.12"
  },
  "papermill": {
   "default_parameters": {},
   "duration": 11001.227076,
   "end_time": "2022-06-27T19:06:40.429304",
   "environment_variables": {},
   "exception": null,
   "input_path": "__notebook__.ipynb",
   "output_path": "__notebook__.ipynb",
   "parameters": {},
   "start_time": "2022-06-27T16:03:19.202228",
   "version": "2.3.4"
  }
 },
 "nbformat": 4,
 "nbformat_minor": 5
}
