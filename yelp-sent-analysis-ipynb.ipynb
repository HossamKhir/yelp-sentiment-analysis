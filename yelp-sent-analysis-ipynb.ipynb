{
 "cells": [
  {
   "cell_type": "code",
   "execution_count": 1,
   "id": "652b848e",
   "metadata": {
    "execution": {
     "iopub.execute_input": "2022-06-25T19:55:33.781173Z",
     "iopub.status.busy": "2022-06-25T19:55:33.780704Z",
     "iopub.status.idle": "2022-06-25T19:55:33.785356Z",
     "shell.execute_reply": "2022-06-25T19:55:33.784635Z"
    },
    "papermill": {
     "duration": 0.014231,
     "end_time": "2022-06-25T19:55:33.787185",
     "exception": false,
     "start_time": "2022-06-25T19:55:33.772954",
     "status": "completed"
    },
    "tags": []
   },
   "outputs": [],
   "source": [
    "# pyspellchecker helps with fixing typos\n",
    "# !python3 -m pip install pyspellchecker\n",
    "# !python3 -m spacy download en_core_web_lg\n"
   ]
  },
  {
   "cell_type": "markdown",
   "id": "fccd258d",
   "metadata": {
    "papermill": {
     "duration": 0.004596,
     "end_time": "2022-06-25T19:55:33.799670",
     "exception": false,
     "start_time": "2022-06-25T19:55:33.795074",
     "status": "completed"
    },
    "tags": []
   },
   "source": [
    "# Sentiment Analysis on Yelp dataset\n",
    "\n",
    "## Loading libraries\n"
   ]
  },
  {
   "cell_type": "code",
   "execution_count": 2,
   "id": "1d9a3930",
   "metadata": {
    "execution": {
     "iopub.execute_input": "2022-06-25T19:55:33.811394Z",
     "iopub.status.busy": "2022-06-25T19:55:33.810742Z",
     "iopub.status.idle": "2022-06-25T19:55:46.099217Z",
     "shell.execute_reply": "2022-06-25T19:55:46.098142Z"
    },
    "papermill": {
     "duration": 12.29699,
     "end_time": "2022-06-25T19:55:46.101552",
     "exception": false,
     "start_time": "2022-06-25T19:55:33.804562",
     "status": "completed"
    },
    "tags": []
   },
   "outputs": [],
   "source": [
    "import matplotlib.pyplot as plt\n",
    "import numpy as np\n",
    "import pandas as pd\n",
    "import re\n",
    "import seaborn as sns\n",
    "from matplotlib import rcParams\n",
    "\n",
    "# import modules to help with preprocessing\n",
    "from gensim.utils import simple_preprocess\n",
    "from gensim.parsing.preprocessing import STOPWORDS\n",
    "from nltk.corpus import stopwords\n",
    "import spacy\n",
    "\n",
    "# import modules to help with collecting & counting the tokens\n",
    "from itertools import chain\n",
    "\n",
    "# from collections import Counter\n",
    "from nltk.probability import FreqDist\n",
    "from typing import Union\n",
    "\n",
    "# to lemmatise tokens in corpus\n",
    "from nltk.stem import WordNetLemmatizer\n",
    "from nltk.tag import pos_tag\n",
    "\n",
    "# to trying to fix typos\n",
    "# from spellchecker import SpellChecker\n",
    "\n",
    "%matplotlib inline\n",
    "rcParams[\"figure.figsize\"] = (16, 9)\n",
    "plt.style.use(\"ggplot\")  # personal preference\n"
   ]
  },
  {
   "cell_type": "markdown",
   "id": "f7fe14e2",
   "metadata": {
    "papermill": {
     "duration": 0.005173,
     "end_time": "2022-06-25T19:55:46.112624",
     "exception": false,
     "start_time": "2022-06-25T19:55:46.107451",
     "status": "completed"
    },
    "tags": []
   },
   "source": [
    "## Loading the dataset\n"
   ]
  },
  {
   "cell_type": "code",
   "execution_count": 3,
   "id": "a07cbcdf",
   "metadata": {
    "execution": {
     "iopub.execute_input": "2022-06-25T19:55:46.125670Z",
     "iopub.status.busy": "2022-06-25T19:55:46.124825Z",
     "iopub.status.idle": "2022-06-25T19:55:55.399780Z",
     "shell.execute_reply": "2022-06-25T19:55:55.398769Z"
    },
    "papermill": {
     "duration": 9.284236,
     "end_time": "2022-06-25T19:55:55.402529",
     "exception": false,
     "start_time": "2022-06-25T19:55:46.118293",
     "status": "completed"
    },
    "tags": []
   },
   "outputs": [
    {
     "data": {
      "text/html": [
       "<div>\n",
       "<style scoped>\n",
       "    .dataframe tbody tr th:only-of-type {\n",
       "        vertical-align: middle;\n",
       "    }\n",
       "\n",
       "    .dataframe tbody tr th {\n",
       "        vertical-align: top;\n",
       "    }\n",
       "\n",
       "    .dataframe thead th {\n",
       "        text-align: right;\n",
       "    }\n",
       "</style>\n",
       "<table border=\"1\" class=\"dataframe\">\n",
       "  <thead>\n",
       "    <tr style=\"text-align: right;\">\n",
       "      <th></th>\n",
       "      <th>sentiment</th>\n",
       "      <th>review</th>\n",
       "    </tr>\n",
       "  </thead>\n",
       "  <tbody>\n",
       "    <tr>\n",
       "      <th>0</th>\n",
       "      <td>1</td>\n",
       "      <td>Unfortunately, the frustration of being Dr. Go...</td>\n",
       "    </tr>\n",
       "    <tr>\n",
       "      <th>1</th>\n",
       "      <td>2</td>\n",
       "      <td>Been going to Dr. Goldberg for over 10 years. ...</td>\n",
       "    </tr>\n",
       "    <tr>\n",
       "      <th>2</th>\n",
       "      <td>1</td>\n",
       "      <td>I don't know what Dr. Goldberg was like before...</td>\n",
       "    </tr>\n",
       "    <tr>\n",
       "      <th>3</th>\n",
       "      <td>1</td>\n",
       "      <td>I'm writing this review to give you a heads up...</td>\n",
       "    </tr>\n",
       "    <tr>\n",
       "      <th>4</th>\n",
       "      <td>2</td>\n",
       "      <td>All the food is great here. But the best thing...</td>\n",
       "    </tr>\n",
       "  </tbody>\n",
       "</table>\n",
       "</div>"
      ],
      "text/plain": [
       "   sentiment                                             review\n",
       "0          1  Unfortunately, the frustration of being Dr. Go...\n",
       "1          2  Been going to Dr. Goldberg for over 10 years. ...\n",
       "2          1  I don't know what Dr. Goldberg was like before...\n",
       "3          1  I'm writing this review to give you a heads up...\n",
       "4          2  All the food is great here. But the best thing..."
      ]
     },
     "execution_count": 3,
     "metadata": {},
     "output_type": "execute_result"
    }
   ],
   "source": [
    "IO_TRAIN = \"../input/yelp-review-dataset/yelp_review_polarity_csv/train.csv\"\n",
    "# quick checking the file, turns out it is missing the header\n",
    "ylp = pd.read_csv(IO_TRAIN, header=None)\n",
    "ylp.columns = [\"sentiment\", \"review\"]  # replacing numeric columns with meaningful names\n",
    "# from readme.txt, newlines are replaced by '\\n', which appears in string as escaped '\\\\n'\n",
    "ylp[\"review\"] = ylp[\"review\"].apply(lambda rev: re.sub(r\"\\\\n\", \"\\n\", rev))\n",
    "# preview the data\n",
    "ylp.head()\n"
   ]
  },
  {
   "cell_type": "markdown",
   "id": "a4116c6d",
   "metadata": {
    "papermill": {
     "duration": 0.00499,
     "end_time": "2022-06-25T19:55:55.412843",
     "exception": false,
     "start_time": "2022-06-25T19:55:55.407853",
     "status": "completed"
    },
    "tags": []
   },
   "source": [
    "to be able to deal with classes, it should be in some human interpretable form, so using knowledge from `readme.txt`, class 1 is `NEG` for negative, and class 2 is `POS` for positive\n"
   ]
  },
  {
   "cell_type": "code",
   "execution_count": 4,
   "id": "458e72cd",
   "metadata": {
    "execution": {
     "iopub.execute_input": "2022-06-25T19:55:55.426887Z",
     "iopub.status.busy": "2022-06-25T19:55:55.426467Z",
     "iopub.status.idle": "2022-06-25T19:55:55.824949Z",
     "shell.execute_reply": "2022-06-25T19:55:55.823976Z"
    },
    "papermill": {
     "duration": 0.409428,
     "end_time": "2022-06-25T19:55:55.827484",
     "exception": false,
     "start_time": "2022-06-25T19:55:55.418056",
     "status": "completed"
    },
    "tags": []
   },
   "outputs": [],
   "source": [
    "ylp.replace({1: \"NEG\", 2: \"POS\"}, inplace=True)\n",
    "ylp[\"sentiment\"] = ylp[\"sentiment\"].astype(\"category\")\n"
   ]
  },
  {
   "cell_type": "markdown",
   "id": "9f8e340d",
   "metadata": {
    "papermill": {
     "duration": 0.004758,
     "end_time": "2022-06-25T19:55:55.837421",
     "exception": false,
     "start_time": "2022-06-25T19:55:55.832663",
     "status": "completed"
    },
    "tags": []
   },
   "source": [
    "### define globals\n"
   ]
  },
  {
   "cell_type": "code",
   "execution_count": 5,
   "id": "353a9f53",
   "metadata": {
    "execution": {
     "iopub.execute_input": "2022-06-25T19:55:55.849266Z",
     "iopub.status.busy": "2022-06-25T19:55:55.848849Z",
     "iopub.status.idle": "2022-06-25T19:56:01.503365Z",
     "shell.execute_reply": "2022-06-25T19:56:01.502339Z"
    },
    "papermill": {
     "duration": 5.663172,
     "end_time": "2022-06-25T19:56:01.505873",
     "exception": false,
     "start_time": "2022-06-25T19:55:55.842701",
     "status": "completed"
    },
    "tags": []
   },
   "outputs": [],
   "source": [
    "REGEX_URL = r\"(?:https?://|www\\.)\\S+\"\n",
    "nlp = spacy.load(\"en_core_web_lg\")\n",
    "# combining the stopwords from gensim & nltk\n",
    "STOPWORDS = STOPWORDS.union(frozenset(stopwords.words(\"english\")), nlp.Defaults.stop_words)\n"
   ]
  },
  {
   "cell_type": "markdown",
   "id": "7b15ca8a",
   "metadata": {
    "papermill": {
     "duration": 0.004947,
     "end_time": "2022-06-25T19:56:01.516273",
     "exception": false,
     "start_time": "2022-06-25T19:56:01.511326",
     "status": "completed"
    },
    "tags": []
   },
   "source": [
    "## Preprocessing\n",
    "\n",
    "load libraries to help with preprocessing, & define preprocessing subroutine\n"
   ]
  },
  {
   "cell_type": "code",
   "execution_count": 6,
   "id": "5c0dc85c",
   "metadata": {
    "execution": {
     "iopub.execute_input": "2022-06-25T19:56:01.527992Z",
     "iopub.status.busy": "2022-06-25T19:56:01.527630Z",
     "iopub.status.idle": "2022-06-25T19:56:04.048025Z",
     "shell.execute_reply": "2022-06-25T19:56:04.047096Z"
    },
    "papermill": {
     "duration": 2.529153,
     "end_time": "2022-06-25T19:56:04.050532",
     "exception": false,
     "start_time": "2022-06-25T19:56:01.521379",
     "status": "completed"
    },
    "tags": []
   },
   "outputs": [],
   "source": [
    "# import spacy\n",
    "\n",
    "# correct = SpellChecker().correctionspacy.lang.en\n",
    "nlp = spacy.load(\"en_core_web_lg\")\n",
    "STOPWORDS = STOPWORDS.union(nlp.Defaults.stop_words)\n",
    "\n",
    "# to_disable = [\"tok2vec\", \"tagger\", \"parser\", \"attribute_ruler\", \"ner\"]\n",
    "to_disable = [\"tok2vec\", \"parser\", \"ner\"]\n",
    "\n",
    "# define preprocess subroutine\n",
    "def preprocess(\n",
    "    doc: str, stopwords: frozenset = STOPWORDS, **kwargs\n",
    ") -> spacy.tokens.doc.Doc:\n",
    "    \"\"\"\n",
    "    TODO: fill in pydoc\n",
    "    \"\"\"\n",
    "    # remove any hyperlinks\n",
    "    doc_processed = re.sub(REGEX_URL, \"\", doc)\n",
    "\n",
    "    # takes care of tokenising, lowercasing, and removing punctuations\n",
    "    doc_processed = simple_preprocess(\n",
    "        doc_processed,\n",
    "        min_len=kwargs.get(\"min_len\", 2),\n",
    "        max_len=kwargs.get(\"max_len\", 15),\n",
    "    )\n",
    "\n",
    "    # dropping stopwords & fixing typos (if any)\n",
    "    doc_processed = [\n",
    "        # FIXME: correct takes a long time, skip for now\n",
    "        # correct(token) for token in doc_processed if token not in stopwords\n",
    "        token\n",
    "        for token in doc_processed\n",
    "        if token not in stopwords\n",
    "    ]\n",
    "\n",
    "    # lemmatising the tokens\n",
    "    return nlp(\" \".join(doc_processed), disable=to_disable)\n",
    "\n",
    "\n",
    "def preprocess_generator(\n",
    "    docs,\n",
    "    batch_size=10000,\n",
    "    stopwords: frozenset = STOPWORDS,\n",
    "    **kwargs\n",
    "):\n",
    "    \"\"\"\n",
    "    TODO:\n",
    "\n",
    "    \"\"\"\n",
    "    n = len(docs)\n",
    "    for i in range(0, n, batch_size):\n",
    "        yield docs.iloc[i : i + batch_size].apply(preprocess)\n"
   ]
  },
  {
   "cell_type": "code",
   "execution_count": 7,
   "id": "7049432b",
   "metadata": {
    "execution": {
     "iopub.execute_input": "2022-06-25T19:56:04.063071Z",
     "iopub.status.busy": "2022-06-25T19:56:04.062126Z",
     "iopub.status.idle": "2022-06-25T19:56:04.078391Z",
     "shell.execute_reply": "2022-06-25T19:56:04.077668Z"
    },
    "papermill": {
     "duration": 0.024818,
     "end_time": "2022-06-25T19:56:04.080558",
     "exception": false,
     "start_time": "2022-06-25T19:56:04.055740",
     "status": "completed"
    },
    "tags": []
   },
   "outputs": [],
   "source": [
    "ylp_processed = ylp.copy()  # a clean copy of raw data for preprocessing\n",
    "reviews = ylp_processed[\"review\"]\n"
   ]
  },
  {
   "cell_type": "code",
   "execution_count": 8,
   "id": "1845ec96",
   "metadata": {
    "execution": {
     "iopub.execute_input": "2022-06-25T19:56:04.092981Z",
     "iopub.status.busy": "2022-06-25T19:56:04.092111Z",
     "iopub.status.idle": "2022-06-25T20:26:47.284863Z",
     "shell.execute_reply": "2022-06-25T20:26:47.283335Z"
    },
    "papermill": {
     "duration": 1843.203953,
     "end_time": "2022-06-25T20:26:47.289792",
     "exception": false,
     "start_time": "2022-06-25T19:56:04.085839",
     "status": "completed"
    },
    "tags": []
   },
   "outputs": [],
   "source": [
    "result = pd.Series(dtype='object')\n",
    "for res in preprocess_generator(reviews):\n",
    "    result = result.append(res)\n"
   ]
  },
  {
   "cell_type": "code",
   "execution_count": 9,
   "id": "70b65fce",
   "metadata": {
    "execution": {
     "iopub.execute_input": "2022-06-25T20:26:47.305081Z",
     "iopub.status.busy": "2022-06-25T20:26:47.304139Z",
     "iopub.status.idle": "2022-06-25T20:26:47.677716Z",
     "shell.execute_reply": "2022-06-25T20:26:47.676755Z"
    },
    "papermill": {
     "duration": 0.38308,
     "end_time": "2022-06-25T20:26:47.680534",
     "exception": false,
     "start_time": "2022-06-25T20:26:47.297454",
     "status": "completed"
    },
    "tags": []
   },
   "outputs": [
    {
     "data": {
      "text/plain": [
       "((559907, 2), (560000, 2))"
      ]
     },
     "execution_count": 9,
     "metadata": {},
     "output_type": "execute_result"
    }
   ],
   "source": [
    "ylp_processed[\"review\"] = result\n",
    "# dropping empty reviews\n",
    "ylp_processed = ylp_processed[ylp_processed[\"review\"].apply(len) > 0]\n",
    "ylp_processed.shape, ylp.shape\n"
   ]
  },
  {
   "cell_type": "markdown",
   "id": "34b93ce7",
   "metadata": {
    "execution": {
     "iopub.execute_input": "2022-06-24T16:12:53.829068Z",
     "iopub.status.busy": "2022-06-24T16:12:53.828647Z",
     "iopub.status.idle": "2022-06-24T16:12:53.834187Z",
     "shell.execute_reply": "2022-06-24T16:12:53.833151Z",
     "shell.execute_reply.started": "2022-06-24T16:12:53.829035Z"
    },
    "papermill": {
     "duration": 0.004888,
     "end_time": "2022-06-25T20:26:47.690707",
     "exception": false,
     "start_time": "2022-06-25T20:26:47.685819",
     "status": "completed"
    },
    "tags": []
   },
   "source": [
    "let's compare the processed reviews against raw reviews\n"
   ]
  },
  {
   "cell_type": "code",
   "execution_count": 10,
   "id": "3011cd08",
   "metadata": {
    "execution": {
     "iopub.execute_input": "2022-06-25T20:26:47.702542Z",
     "iopub.status.busy": "2022-06-25T20:26:47.702173Z",
     "iopub.status.idle": "2022-06-25T20:26:47.708739Z",
     "shell.execute_reply": "2022-06-25T20:26:47.707836Z"
    },
    "papermill": {
     "duration": 0.015246,
     "end_time": "2022-06-25T20:26:47.711101",
     "exception": false,
     "start_time": "2022-06-25T20:26:47.695855",
     "status": "completed"
    },
    "tags": []
   },
   "outputs": [
    {
     "data": {
      "text/plain": [
       "93"
      ]
     },
     "execution_count": 10,
     "metadata": {},
     "output_type": "execute_result"
    }
   ],
   "source": [
    "ylp.shape[0] - ylp_processed.shape[0]\n"
   ]
  },
  {
   "cell_type": "markdown",
   "id": "657a3a7c",
   "metadata": {
    "papermill": {
     "duration": 0.00497,
     "end_time": "2022-06-25T20:26:47.722161",
     "exception": false,
     "start_time": "2022-06-25T20:26:47.717191",
     "status": "completed"
    },
    "tags": []
   },
   "source": [
    "we have dropped $93$ records on account of being empty reviews, after preprocessing\n"
   ]
  }
 ],
 "metadata": {
  "kernelspec": {
   "display_name": "Python 3",
   "language": "python",
   "name": "python3"
  },
  "language_info": {
   "codemirror_mode": {
    "name": "ipython",
    "version": 3
   },
   "file_extension": ".py",
   "mimetype": "text/x-python",
   "name": "python",
   "nbconvert_exporter": "python",
   "pygments_lexer": "ipython3",
   "version": "3.7.12"
  },
  "papermill": {
   "default_parameters": {},
   "duration": 1886.790096,
   "end_time": "2022-06-25T20:26:50.752811",
   "environment_variables": {},
   "exception": null,
   "input_path": "__notebook__.ipynb",
   "output_path": "__notebook__.ipynb",
   "parameters": {},
   "start_time": "2022-06-25T19:55:23.962715",
   "version": "2.3.4"
  }
 },
 "nbformat": 4,
 "nbformat_minor": 5
}
