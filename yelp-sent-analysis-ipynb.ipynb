{
 "cells": [
  {
   "cell_type": "code",
   "execution_count": 1,
   "id": "0da2d725",
   "metadata": {
    "execution": {
     "iopub.execute_input": "2022-06-26T13:09:54.092365Z",
     "iopub.status.busy": "2022-06-26T13:09:54.091500Z",
     "iopub.status.idle": "2022-06-26T13:09:54.097355Z",
     "shell.execute_reply": "2022-06-26T13:09:54.096467Z"
    },
    "papermill": {
     "duration": 0.01795,
     "end_time": "2022-06-26T13:09:54.099435",
     "exception": false,
     "start_time": "2022-06-26T13:09:54.081485",
     "status": "completed"
    },
    "tags": []
   },
   "outputs": [],
   "source": [
    "# pyspellchecker helps with fixing typos\n",
    "# !python3 -m pip install pyspellchecker\n",
    "# !python3 -m spacy download en_core_web_lg\n"
   ]
  },
  {
   "cell_type": "markdown",
   "id": "935c771d",
   "metadata": {
    "papermill": {
     "duration": 0.004748,
     "end_time": "2022-06-26T13:09:54.109173",
     "exception": false,
     "start_time": "2022-06-26T13:09:54.104425",
     "status": "completed"
    },
    "tags": []
   },
   "source": [
    "# Sentiment Analysis on Yelp dataset\n",
    "\n",
    "## Loading libraries\n"
   ]
  },
  {
   "cell_type": "code",
   "execution_count": 2,
   "id": "0e6c9970",
   "metadata": {
    "execution": {
     "iopub.execute_input": "2022-06-26T13:09:54.120745Z",
     "iopub.status.busy": "2022-06-26T13:09:54.120051Z",
     "iopub.status.idle": "2022-06-26T13:10:06.719687Z",
     "shell.execute_reply": "2022-06-26T13:10:06.718614Z"
    },
    "papermill": {
     "duration": 12.607979,
     "end_time": "2022-06-26T13:10:06.721953",
     "exception": false,
     "start_time": "2022-06-26T13:09:54.113974",
     "status": "completed"
    },
    "tags": []
   },
   "outputs": [],
   "source": [
    "import matplotlib.pyplot as plt\n",
    "import numpy as np\n",
    "import pandas as pd\n",
    "import re\n",
    "import seaborn as sns\n",
    "import spacy\n",
    "from matplotlib import rcParams\n",
    "\n",
    "# import modules to help with preprocessing\n",
    "from gensim.utils import simple_preprocess\n",
    "from gensim.parsing.preprocessing import STOPWORDS\n",
    "from nltk.corpus import stopwords\n",
    "from nltk.probability import FreqDist\n",
    "\n",
    "# import modules to help with collecting & counting the tokens\n",
    "from itertools import chain\n",
    "\n",
    "from typing import Union\n",
    "\n",
    "# to trying to fix typos\n",
    "# from spellchecker import SpellChecker\n",
    "\n",
    "%matplotlib inline\n",
    "rcParams[\"figure.figsize\"] = (16, 9)\n",
    "plt.style.use(\"ggplot\")  # personal preference\n"
   ]
  },
  {
   "cell_type": "markdown",
   "id": "e195e443",
   "metadata": {
    "papermill": {
     "duration": 0.004878,
     "end_time": "2022-06-26T13:10:06.732059",
     "exception": false,
     "start_time": "2022-06-26T13:10:06.727181",
     "status": "completed"
    },
    "tags": []
   },
   "source": [
    "## Loading the dataset\n"
   ]
  },
  {
   "cell_type": "code",
   "execution_count": 3,
   "id": "7d7b4f8a",
   "metadata": {
    "execution": {
     "iopub.execute_input": "2022-06-26T13:10:06.744324Z",
     "iopub.status.busy": "2022-06-26T13:10:06.743656Z",
     "iopub.status.idle": "2022-06-26T13:10:15.684033Z",
     "shell.execute_reply": "2022-06-26T13:10:15.682940Z"
    },
    "papermill": {
     "duration": 8.949327,
     "end_time": "2022-06-26T13:10:15.686489",
     "exception": false,
     "start_time": "2022-06-26T13:10:06.737162",
     "status": "completed"
    },
    "tags": []
   },
   "outputs": [
    {
     "data": {
      "text/html": [
       "<div>\n",
       "<style scoped>\n",
       "    .dataframe tbody tr th:only-of-type {\n",
       "        vertical-align: middle;\n",
       "    }\n",
       "\n",
       "    .dataframe tbody tr th {\n",
       "        vertical-align: top;\n",
       "    }\n",
       "\n",
       "    .dataframe thead th {\n",
       "        text-align: right;\n",
       "    }\n",
       "</style>\n",
       "<table border=\"1\" class=\"dataframe\">\n",
       "  <thead>\n",
       "    <tr style=\"text-align: right;\">\n",
       "      <th></th>\n",
       "      <th>sentiment</th>\n",
       "      <th>review</th>\n",
       "    </tr>\n",
       "  </thead>\n",
       "  <tbody>\n",
       "    <tr>\n",
       "      <th>0</th>\n",
       "      <td>1</td>\n",
       "      <td>Unfortunately, the frustration of being Dr. Go...</td>\n",
       "    </tr>\n",
       "    <tr>\n",
       "      <th>1</th>\n",
       "      <td>2</td>\n",
       "      <td>Been going to Dr. Goldberg for over 10 years. ...</td>\n",
       "    </tr>\n",
       "    <tr>\n",
       "      <th>2</th>\n",
       "      <td>1</td>\n",
       "      <td>I don't know what Dr. Goldberg was like before...</td>\n",
       "    </tr>\n",
       "    <tr>\n",
       "      <th>3</th>\n",
       "      <td>1</td>\n",
       "      <td>I'm writing this review to give you a heads up...</td>\n",
       "    </tr>\n",
       "    <tr>\n",
       "      <th>4</th>\n",
       "      <td>2</td>\n",
       "      <td>All the food is great here. But the best thing...</td>\n",
       "    </tr>\n",
       "  </tbody>\n",
       "</table>\n",
       "</div>"
      ],
      "text/plain": [
       "   sentiment                                             review\n",
       "0          1  Unfortunately, the frustration of being Dr. Go...\n",
       "1          2  Been going to Dr. Goldberg for over 10 years. ...\n",
       "2          1  I don't know what Dr. Goldberg was like before...\n",
       "3          1  I'm writing this review to give you a heads up...\n",
       "4          2  All the food is great here. But the best thing..."
      ]
     },
     "execution_count": 3,
     "metadata": {},
     "output_type": "execute_result"
    }
   ],
   "source": [
    "IO_TRAIN = \"../input/yelp-review-dataset/yelp_review_polarity_csv/train.csv\"\n",
    "# quick checking the file, turns out it is missing the header\n",
    "ylp = pd.read_csv(IO_TRAIN, header=None)\n",
    "ylp.columns = [\"sentiment\", \"review\"]  # replacing numeric columns with meaningful names\n",
    "# from readme.txt, newlines are replaced by '\\n', which appears in string as escaped '\\\\n'\n",
    "ylp[\"review\"] = ylp[\"review\"].apply(lambda rev: re.sub(r\"\\\\n\", \"\\n\", rev))\n",
    "# preview the data\n",
    "ylp.head()\n"
   ]
  },
  {
   "cell_type": "markdown",
   "id": "414cd32f",
   "metadata": {
    "papermill": {
     "duration": 0.004956,
     "end_time": "2022-06-26T13:10:15.696483",
     "exception": false,
     "start_time": "2022-06-26T13:10:15.691527",
     "status": "completed"
    },
    "tags": []
   },
   "source": [
    "to be able to deal with classes, it should be in some human interpretable form, so using knowledge from `readme.txt`, class 1 is `NEG` for negative, and class 2 is `POS` for positive\n"
   ]
  },
  {
   "cell_type": "code",
   "execution_count": 4,
   "id": "764d2315",
   "metadata": {
    "execution": {
     "iopub.execute_input": "2022-06-26T13:10:15.710230Z",
     "iopub.status.busy": "2022-06-26T13:10:15.709847Z",
     "iopub.status.idle": "2022-06-26T13:10:16.055642Z",
     "shell.execute_reply": "2022-06-26T13:10:16.054729Z"
    },
    "papermill": {
     "duration": 0.356204,
     "end_time": "2022-06-26T13:10:16.057778",
     "exception": false,
     "start_time": "2022-06-26T13:10:15.701574",
     "status": "completed"
    },
    "tags": []
   },
   "outputs": [],
   "source": [
    "ylp.replace({1: \"NEG\", 2: \"POS\"}, inplace=True)\n",
    "ylp[\"sentiment\"] = ylp[\"sentiment\"].astype(\"category\")\n"
   ]
  },
  {
   "cell_type": "markdown",
   "id": "02969849",
   "metadata": {
    "papermill": {
     "duration": 0.00483,
     "end_time": "2022-06-26T13:10:16.067956",
     "exception": false,
     "start_time": "2022-06-26T13:10:16.063126",
     "status": "completed"
    },
    "tags": []
   },
   "source": [
    "### define globals\n"
   ]
  },
  {
   "cell_type": "code",
   "execution_count": 5,
   "id": "0dc49672",
   "metadata": {
    "execution": {
     "iopub.execute_input": "2022-06-26T13:10:16.079874Z",
     "iopub.status.busy": "2022-06-26T13:10:16.079160Z",
     "iopub.status.idle": "2022-06-26T13:10:21.226063Z",
     "shell.execute_reply": "2022-06-26T13:10:21.225234Z"
    },
    "papermill": {
     "duration": 5.155142,
     "end_time": "2022-06-26T13:10:21.228149",
     "exception": false,
     "start_time": "2022-06-26T13:10:16.073007",
     "status": "completed"
    },
    "tags": []
   },
   "outputs": [],
   "source": [
    "REGEX_URL = r\"(?:https?://|www\\.)\\S+\"\n",
    "nlp = spacy.load(\"en_core_web_lg\")\n",
    "# combining the stopwords from gensim & nltk\n",
    "STOPWORDS = STOPWORDS.union(frozenset(stopwords.words(\"english\")), nlp.Defaults.stop_words)\n"
   ]
  },
  {
   "cell_type": "markdown",
   "id": "900bb28b",
   "metadata": {
    "papermill": {
     "duration": 0.004883,
     "end_time": "2022-06-26T13:10:21.238741",
     "exception": false,
     "start_time": "2022-06-26T13:10:21.233858",
     "status": "completed"
    },
    "tags": []
   },
   "source": [
    "## Preprocessing\n",
    "\n",
    "load libraries to help with preprocessing, & define preprocessing subroutine\n"
   ]
  },
  {
   "cell_type": "code",
   "execution_count": 6,
   "id": "189553ee",
   "metadata": {
    "execution": {
     "iopub.execute_input": "2022-06-26T13:10:21.250897Z",
     "iopub.status.busy": "2022-06-26T13:10:21.250292Z",
     "iopub.status.idle": "2022-06-26T13:10:21.260476Z",
     "shell.execute_reply": "2022-06-26T13:10:21.259449Z"
    },
    "papermill": {
     "duration": 0.018746,
     "end_time": "2022-06-26T13:10:21.262766",
     "exception": false,
     "start_time": "2022-06-26T13:10:21.244020",
     "status": "completed"
    },
    "tags": []
   },
   "outputs": [],
   "source": [
    "# import spacy\n",
    "\n",
    "# correct = SpellChecker().correctionspacy.lang.en\n",
    "# nlp = spacy.load(\"en_core_web_lg\")\n",
    "STOPWORDS = STOPWORDS.union(nlp.Defaults.stop_words)\n",
    "\n",
    "# to_disable = [\"tok2vec\", \"tagger\", \"parser\", \"attribute_ruler\", \"ner\"]\n",
    "to_disable = [\"tok2vec\", \"parser\", \"ner\"]\n",
    "\n",
    "# define preprocess subroutine\n",
    "def preprocess(\n",
    "    doc: str, stopwords: frozenset = STOPWORDS, **kwargs\n",
    ") -> spacy.tokens.doc.Doc:\n",
    "    \"\"\"\n",
    "    TODO: fill in pydoc\n",
    "    \"\"\"\n",
    "    # remove any hyperlinks\n",
    "    doc_processed = re.sub(REGEX_URL, \"\", doc)\n",
    "\n",
    "    # takes care of tokenising, lowercasing, and removing punctuations\n",
    "    doc_processed = simple_preprocess(\n",
    "        doc_processed,\n",
    "        min_len=kwargs.get(\"min_len\", 2),\n",
    "        max_len=kwargs.get(\"max_len\", 15),\n",
    "    )\n",
    "\n",
    "    # dropping stopwords & fixing typos (if any)\n",
    "    doc_processed = [\n",
    "        # FIXME: correct takes a long time, skip for now\n",
    "        # correct(token) for token in doc_processed if token not in stopwords\n",
    "        token\n",
    "        for token in doc_processed\n",
    "        if token not in stopwords\n",
    "    ]\n",
    "\n",
    "    # lemmatising the tokens\n",
    "    return nlp(\" \".join(doc_processed), disable=to_disable)\n",
    "\n",
    "\n",
    "def preprocess_generator(\n",
    "    docs,\n",
    "    batch_size=10000,\n",
    "    stopwords: frozenset = STOPWORDS,\n",
    "    **kwargs\n",
    "):\n",
    "    \"\"\"\n",
    "    TODO:\n",
    "\n",
    "    \"\"\"\n",
    "    n = len(docs)\n",
    "    for i in range(0, n, batch_size):\n",
    "        yield docs.iloc[i : i + batch_size].apply(preprocess, stopwords, **kwargs)\n"
   ]
  },
  {
   "cell_type": "code",
   "execution_count": 7,
   "id": "2184a438",
   "metadata": {
    "execution": {
     "iopub.execute_input": "2022-06-26T13:10:21.274456Z",
     "iopub.status.busy": "2022-06-26T13:10:21.274077Z",
     "iopub.status.idle": "2022-06-26T13:10:21.289869Z",
     "shell.execute_reply": "2022-06-26T13:10:21.289157Z"
    },
    "papermill": {
     "duration": 0.023761,
     "end_time": "2022-06-26T13:10:21.291638",
     "exception": false,
     "start_time": "2022-06-26T13:10:21.267877",
     "status": "completed"
    },
    "tags": []
   },
   "outputs": [],
   "source": [
    "ylp_processed = ylp.copy()  # a clean copy of raw data for preprocessing\n",
    "reviews = ylp_processed[\"review\"]\n"
   ]
  },
  {
   "cell_type": "code",
   "execution_count": 8,
   "id": "a3baae0f",
   "metadata": {
    "execution": {
     "iopub.execute_input": "2022-06-26T13:10:21.303546Z",
     "iopub.status.busy": "2022-06-26T13:10:21.302854Z",
     "iopub.status.idle": "2022-06-26T13:27:54.171091Z",
     "shell.execute_reply": "2022-06-26T13:27:54.169955Z"
    },
    "papermill": {
     "duration": 1052.877112,
     "end_time": "2022-06-26T13:27:54.173758",
     "exception": false,
     "start_time": "2022-06-26T13:10:21.296646",
     "status": "completed"
    },
    "tags": []
   },
   "outputs": [],
   "source": [
    "result = pd.Series(dtype='object')\n",
    "for res in preprocess_generator(reviews):\n",
    "    result = result.append(res)\n"
   ]
  },
  {
   "cell_type": "code",
   "execution_count": 9,
   "id": "52e4b404",
   "metadata": {
    "execution": {
     "iopub.execute_input": "2022-06-26T13:27:54.188251Z",
     "iopub.status.busy": "2022-06-26T13:27:54.187284Z",
     "iopub.status.idle": "2022-06-26T13:27:54.435589Z",
     "shell.execute_reply": "2022-06-26T13:27:54.434431Z"
    },
    "papermill": {
     "duration": 0.258193,
     "end_time": "2022-06-26T13:27:54.438033",
     "exception": false,
     "start_time": "2022-06-26T13:27:54.179840",
     "status": "completed"
    },
    "tags": []
   },
   "outputs": [
    {
     "data": {
      "text/plain": [
       "((559907, 2), (560000, 2))"
      ]
     },
     "execution_count": 9,
     "metadata": {},
     "output_type": "execute_result"
    }
   ],
   "source": [
    "ylp_processed[\"review\"] = result\n",
    "# dropping empty reviews\n",
    "ylp_processed = ylp_processed[ylp_processed[\"review\"].apply(len) > 0]\n",
    "ylp_processed.shape, ylp.shape\n"
   ]
  },
  {
   "cell_type": "markdown",
   "id": "8ec8fd05",
   "metadata": {
    "execution": {
     "iopub.execute_input": "2022-06-24T16:12:53.829068Z",
     "iopub.status.busy": "2022-06-24T16:12:53.828647Z",
     "iopub.status.idle": "2022-06-24T16:12:53.834187Z",
     "shell.execute_reply": "2022-06-24T16:12:53.833151Z",
     "shell.execute_reply.started": "2022-06-24T16:12:53.829035Z"
    },
    "papermill": {
     "duration": 0.005076,
     "end_time": "2022-06-26T13:27:54.448373",
     "exception": false,
     "start_time": "2022-06-26T13:27:54.443297",
     "status": "completed"
    },
    "tags": []
   },
   "source": [
    "let's compare the processed reviews against raw reviews\n"
   ]
  },
  {
   "cell_type": "code",
   "execution_count": 10,
   "id": "784c2a36",
   "metadata": {
    "execution": {
     "iopub.execute_input": "2022-06-26T13:27:54.460497Z",
     "iopub.status.busy": "2022-06-26T13:27:54.459889Z",
     "iopub.status.idle": "2022-06-26T13:27:54.466824Z",
     "shell.execute_reply": "2022-06-26T13:27:54.465724Z"
    },
    "papermill": {
     "duration": 0.015499,
     "end_time": "2022-06-26T13:27:54.468929",
     "exception": false,
     "start_time": "2022-06-26T13:27:54.453430",
     "status": "completed"
    },
    "tags": []
   },
   "outputs": [
    {
     "data": {
      "text/plain": [
       "93"
      ]
     },
     "execution_count": 10,
     "metadata": {},
     "output_type": "execute_result"
    }
   ],
   "source": [
    "ylp.shape[0] - ylp_processed.shape[0]\n"
   ]
  },
  {
   "cell_type": "markdown",
   "id": "a2d82ede",
   "metadata": {
    "papermill": {
     "duration": 0.005038,
     "end_time": "2022-06-26T13:27:54.479340",
     "exception": false,
     "start_time": "2022-06-26T13:27:54.474302",
     "status": "completed"
    },
    "tags": []
   },
   "source": [
    "we have dropped $93$ records on account of being empty reviews, after preprocessing\n"
   ]
  },
  {
   "cell_type": "code",
   "execution_count": 11,
   "id": "c808fda8",
   "metadata": {
    "execution": {
     "iopub.execute_input": "2022-06-26T13:27:54.491230Z",
     "iopub.status.busy": "2022-06-26T13:27:54.490788Z",
     "iopub.status.idle": "2022-06-26T13:28:09.829207Z",
     "shell.execute_reply": "2022-06-26T13:28:09.828309Z"
    },
    "papermill": {
     "duration": 15.346936,
     "end_time": "2022-06-26T13:28:09.831443",
     "exception": false,
     "start_time": "2022-06-26T13:27:54.484507",
     "status": "completed"
    },
    "tags": []
   },
   "outputs": [],
   "source": [
    "ylp_processed[\"review\"] = ylp_processed[\"review\"].apply(\n",
    "    lambda doc: \" \".join([token.lemma_ for token in doc])\n",
    ")\n"
   ]
  },
  {
   "cell_type": "code",
   "execution_count": 12,
   "id": "0ddec092",
   "metadata": {
    "execution": {
     "iopub.execute_input": "2022-06-26T13:28:09.843880Z",
     "iopub.status.busy": "2022-06-26T13:28:09.843356Z",
     "iopub.status.idle": "2022-06-26T13:28:14.975507Z",
     "shell.execute_reply": "2022-06-26T13:28:14.974140Z"
    },
    "papermill": {
     "duration": 5.140761,
     "end_time": "2022-06-26T13:28:14.977596",
     "exception": false,
     "start_time": "2022-06-26T13:28:09.836835",
     "status": "completed"
    },
    "tags": []
   },
   "outputs": [],
   "source": [
    "ylp_processed.to_csv(\"train_processed.csv\")\n"
   ]
  },
  {
   "cell_type": "markdown",
   "id": "24cccb64",
   "metadata": {
    "papermill": {
     "duration": 0.015338,
     "end_time": "2022-06-26T13:28:15.013466",
     "exception": false,
     "start_time": "2022-06-26T13:28:14.998128",
     "status": "completed"
    },
    "tags": []
   },
   "source": [
    "---\n",
    "\n",
    "## Benchmark model\n",
    "\n",
    "Will start by using a naive Bayes classifier with unigram\n",
    "\n",
    "naive Bayes is one of the oldest & fastest classifiers for text classifications\n"
   ]
  },
  {
   "cell_type": "code",
   "execution_count": 13,
   "id": "98723986",
   "metadata": {
    "execution": {
     "iopub.execute_input": "2022-06-26T13:28:15.025474Z",
     "iopub.status.busy": "2022-06-26T13:28:15.025113Z",
     "iopub.status.idle": "2022-06-26T13:28:15.035386Z",
     "shell.execute_reply": "2022-06-26T13:28:15.034235Z"
    },
    "papermill": {
     "duration": 0.018616,
     "end_time": "2022-06-26T13:28:15.037550",
     "exception": false,
     "start_time": "2022-06-26T13:28:15.018934",
     "status": "completed"
    },
    "tags": []
   },
   "outputs": [],
   "source": [
    "from sklearn.naive_bayes import MultinomialNB\n",
    "from sklearn.feature_extraction.text import TfidfVectorizer\n",
    "from sklearn.model_selection import cross_validate, train_test_split\n",
    "from sklearn.pipeline import make_pipeline\n",
    "from sklearn.metrics import classification_report\n"
   ]
  },
  {
   "cell_type": "code",
   "execution_count": 14,
   "id": "b8b7bcc2",
   "metadata": {
    "execution": {
     "iopub.execute_input": "2022-06-26T13:28:15.050127Z",
     "iopub.status.busy": "2022-06-26T13:28:15.049613Z",
     "iopub.status.idle": "2022-06-26T13:28:15.629406Z",
     "shell.execute_reply": "2022-06-26T13:28:15.628730Z"
    },
    "papermill": {
     "duration": 0.58852,
     "end_time": "2022-06-26T13:28:15.631517",
     "exception": false,
     "start_time": "2022-06-26T13:28:15.042997",
     "status": "completed"
    },
    "tags": []
   },
   "outputs": [],
   "source": [
    "X = ylp_processed[\"review\"]\n",
    "y = ylp_processed[\"sentiment\"]\n",
    "\n",
    "X_train, X_test, y_train, y_test = train_test_split(\n",
    "    X, y, test_size=0.2, random_state=42, stratify=y\n",
    ")\n",
    "\n",
    "benchmark = make_pipeline(TfidfVectorizer(), MultinomialNB())\n"
   ]
  },
  {
   "cell_type": "code",
   "execution_count": 15,
   "id": "dd6f9836",
   "metadata": {
    "execution": {
     "iopub.execute_input": "2022-06-26T13:28:15.644007Z",
     "iopub.status.busy": "2022-06-26T13:28:15.643045Z",
     "iopub.status.idle": "2022-06-26T13:29:49.588023Z",
     "shell.execute_reply": "2022-06-26T13:29:49.586628Z"
    },
    "papermill": {
     "duration": 93.963239,
     "end_time": "2022-06-26T13:29:49.600070",
     "exception": false,
     "start_time": "2022-06-26T13:28:15.636831",
     "status": "completed"
    },
    "tags": []
   },
   "outputs": [
    {
     "name": "stderr",
     "output_type": "stream",
     "text": [
      "[Parallel(n_jobs=-1)]: Using backend LokyBackend with 4 concurrent workers.\n",
      "[Parallel(n_jobs=-1)]: Done   5 out of   5 | elapsed:  1.6min finished\n"
     ]
    },
    {
     "data": {
      "text/plain": [
       "0.8749453136757473"
      ]
     },
     "execution_count": 15,
     "metadata": {},
     "output_type": "execute_result"
    }
   ],
   "source": [
    "scores = cross_validate(benchmark, X, y, cv=5, n_jobs=-1, verbose=1)\n",
    "np.mean(scores[\"test_score\"])\n"
   ]
  },
  {
   "cell_type": "markdown",
   "id": "99ad25c8",
   "metadata": {
    "papermill": {
     "duration": 0.005226,
     "end_time": "2022-06-26T13:29:49.610846",
     "exception": false,
     "start_time": "2022-06-26T13:29:49.605620",
     "status": "completed"
    },
    "tags": []
   },
   "source": [
    "The benchmark model gives accuracy of $0.875$\n"
   ]
  },
  {
   "cell_type": "code",
   "execution_count": 16,
   "id": "457f1c3d",
   "metadata": {
    "execution": {
     "iopub.execute_input": "2022-06-26T13:29:49.625731Z",
     "iopub.status.busy": "2022-06-26T13:29:49.623809Z",
     "iopub.status.idle": "2022-06-26T13:30:23.000632Z",
     "shell.execute_reply": "2022-06-26T13:30:22.999659Z"
    },
    "papermill": {
     "duration": 33.391684,
     "end_time": "2022-06-26T13:30:23.008506",
     "exception": false,
     "start_time": "2022-06-26T13:29:49.616822",
     "status": "completed"
    },
    "tags": []
   },
   "outputs": [
    {
     "name": "stdout",
     "output_type": "stream",
     "text": [
      "              precision    recall  f1-score   support\n",
      "\n",
      "         NEG     0.8790    0.8778    0.8784     55986\n",
      "         POS     0.8780    0.8791    0.8786     55996\n",
      "\n",
      "    accuracy                         0.8785    111982\n",
      "   macro avg     0.8785    0.8785    0.8785    111982\n",
      "weighted avg     0.8785    0.8785    0.8785    111982\n",
      "\n"
     ]
    }
   ],
   "source": [
    "_ = benchmark.fit(X_train, y_train)\n",
    "y_pred = benchmark.predict(X_test)\n",
    "print(classification_report(y_test, y_pred, digits=4))\n"
   ]
  }
 ],
 "metadata": {
  "kernelspec": {
   "display_name": "Python 3",
   "language": "python",
   "name": "python3"
  },
  "language_info": {
   "codemirror_mode": {
    "name": "ipython",
    "version": 3
   },
   "file_extension": ".py",
   "mimetype": "text/x-python",
   "name": "python",
   "nbconvert_exporter": "python",
   "pygments_lexer": "ipython3",
   "version": "3.7.12"
  },
  "papermill": {
   "default_parameters": {},
   "duration": 1240.974974,
   "end_time": "2022-06-26T13:30:26.042797",
   "environment_variables": {},
   "exception": null,
   "input_path": "__notebook__.ipynb",
   "output_path": "__notebook__.ipynb",
   "parameters": {},
   "start_time": "2022-06-26T13:09:45.067823",
   "version": "2.3.4"
  }
 },
 "nbformat": 4,
 "nbformat_minor": 5
}
