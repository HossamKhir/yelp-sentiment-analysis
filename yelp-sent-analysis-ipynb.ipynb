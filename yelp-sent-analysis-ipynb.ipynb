{
 "cells": [
  {
   "cell_type": "markdown",
   "id": "fcd9692c",
   "metadata": {
    "papermill": {
     "duration": 0.013,
     "end_time": "2022-06-23T20:01:37.719441",
     "exception": false,
     "start_time": "2022-06-23T20:01:37.706441",
     "status": "completed"
    },
    "tags": []
   },
   "source": [
    "# Sentiment Analysis on Yelp dataset\n",
    "\n",
    "## Loading libraries\n"
   ]
  },
  {
   "cell_type": "code",
   "execution_count": 1,
   "id": "7b5656fb",
   "metadata": {
    "execution": {
     "iopub.execute_input": "2022-06-23T20:01:37.746160Z",
     "iopub.status.busy": "2022-06-23T20:01:37.744968Z",
     "iopub.status.idle": "2022-06-23T20:01:38.993253Z",
     "shell.execute_reply": "2022-06-23T20:01:38.992413Z"
    },
    "papermill": {
     "duration": 1.264399,
     "end_time": "2022-06-23T20:01:38.996029",
     "exception": false,
     "start_time": "2022-06-23T20:01:37.731630",
     "status": "completed"
    },
    "tags": []
   },
   "outputs": [],
   "source": [
    "import numpy as np\n",
    "import pandas as pd\n",
    "import matplotlib.pyplot as plt\n",
    "import seaborn as sns\n",
    "from matplotlib import rcParams\n",
    "\n",
    "%matplotlib inline\n",
    "rcParams[\"figure.figsize\"] = (16,9)\n",
    "plt.style.use(\"ggplot\") # personal preference\n"
   ]
  },
  {
   "cell_type": "markdown",
   "id": "d013ca35",
   "metadata": {
    "papermill": {
     "duration": 0.011833,
     "end_time": "2022-06-23T20:01:39.020099",
     "exception": false,
     "start_time": "2022-06-23T20:01:39.008266",
     "status": "completed"
    },
    "tags": []
   },
   "source": [
    "## Loading the dataset\n"
   ]
  },
  {
   "cell_type": "code",
   "execution_count": 2,
   "id": "06c9148a",
   "metadata": {
    "execution": {
     "iopub.execute_input": "2022-06-23T20:01:39.046222Z",
     "iopub.status.busy": "2022-06-23T20:01:39.045360Z",
     "iopub.status.idle": "2022-06-23T20:01:47.133164Z",
     "shell.execute_reply": "2022-06-23T20:01:47.132419Z"
    },
    "papermill": {
     "duration": 8.103709,
     "end_time": "2022-06-23T20:01:47.135834",
     "exception": false,
     "start_time": "2022-06-23T20:01:39.032125",
     "status": "completed"
    },
    "tags": []
   },
   "outputs": [
    {
     "data": {
      "text/html": [
       "<div>\n",
       "<style scoped>\n",
       "    .dataframe tbody tr th:only-of-type {\n",
       "        vertical-align: middle;\n",
       "    }\n",
       "\n",
       "    .dataframe tbody tr th {\n",
       "        vertical-align: top;\n",
       "    }\n",
       "\n",
       "    .dataframe thead th {\n",
       "        text-align: right;\n",
       "    }\n",
       "</style>\n",
       "<table border=\"1\" class=\"dataframe\">\n",
       "  <thead>\n",
       "    <tr style=\"text-align: right;\">\n",
       "      <th></th>\n",
       "      <th>sentiment</th>\n",
       "      <th>review</th>\n",
       "    </tr>\n",
       "  </thead>\n",
       "  <tbody>\n",
       "    <tr>\n",
       "      <th>0</th>\n",
       "      <td>1</td>\n",
       "      <td>Unfortunately, the frustration of being Dr. Go...</td>\n",
       "    </tr>\n",
       "    <tr>\n",
       "      <th>1</th>\n",
       "      <td>2</td>\n",
       "      <td>Been going to Dr. Goldberg for over 10 years. ...</td>\n",
       "    </tr>\n",
       "    <tr>\n",
       "      <th>2</th>\n",
       "      <td>1</td>\n",
       "      <td>I don't know what Dr. Goldberg was like before...</td>\n",
       "    </tr>\n",
       "    <tr>\n",
       "      <th>3</th>\n",
       "      <td>1</td>\n",
       "      <td>I'm writing this review to give you a heads up...</td>\n",
       "    </tr>\n",
       "    <tr>\n",
       "      <th>4</th>\n",
       "      <td>2</td>\n",
       "      <td>All the food is great here. But the best thing...</td>\n",
       "    </tr>\n",
       "  </tbody>\n",
       "</table>\n",
       "</div>"
      ],
      "text/plain": [
       "   sentiment                                             review\n",
       "0          1  Unfortunately, the frustration of being Dr. Go...\n",
       "1          2  Been going to Dr. Goldberg for over 10 years. ...\n",
       "2          1  I don't know what Dr. Goldberg was like before...\n",
       "3          1  I'm writing this review to give you a heads up...\n",
       "4          2  All the food is great here. But the best thing..."
      ]
     },
     "execution_count": 2,
     "metadata": {},
     "output_type": "execute_result"
    }
   ],
   "source": [
    "IO_TRAIN = \"../input/yelp-review-dataset/yelp_review_polarity_csv/train.csv\"\n",
    "ylp = pd.read_csv(IO_TRAIN, header=None)\n",
    "ylp.columns = [\"sentiment\", \"review\"]\n",
    "# preview the data\n",
    "ylp.head()\n"
   ]
  },
  {
   "cell_type": "markdown",
   "id": "aa314825",
   "metadata": {
    "papermill": {
     "duration": 0.011888,
     "end_time": "2022-06-23T20:01:47.160302",
     "exception": false,
     "start_time": "2022-06-23T20:01:47.148414",
     "status": "completed"
    },
    "tags": []
   },
   "source": [
    "to be able to deal with classes, it should be in some human interpretable form, so using knowledge from `readme.txt`, class 1 is `NEG` for negative, and class 2 is `POS` for positive\n"
   ]
  },
  {
   "cell_type": "code",
   "execution_count": 3,
   "id": "63b34b4b",
   "metadata": {
    "execution": {
     "iopub.execute_input": "2022-06-23T20:01:47.187664Z",
     "iopub.status.busy": "2022-06-23T20:01:47.186670Z",
     "iopub.status.idle": "2022-06-23T20:01:47.583598Z",
     "shell.execute_reply": "2022-06-23T20:01:47.582569Z"
    },
    "papermill": {
     "duration": 0.413334,
     "end_time": "2022-06-23T20:01:47.586025",
     "exception": false,
     "start_time": "2022-06-23T20:01:47.172691",
     "status": "completed"
    },
    "tags": []
   },
   "outputs": [],
   "source": [
    "ylp.replace({1: \"NEG\", 2:\"POS\"}, inplace=True)\n",
    "ylp[\"sentiment\"] = ylp[\"sentiment\"].astype(\"category\")\n"
   ]
  },
  {
   "cell_type": "markdown",
   "id": "80352b02",
   "metadata": {
    "papermill": {
     "duration": 0.011992,
     "end_time": "2022-06-23T20:01:47.610017",
     "exception": false,
     "start_time": "2022-06-23T20:01:47.598025",
     "status": "completed"
    },
    "tags": []
   },
   "source": [
    "## EDA \\& data cleaning\n",
    "\n",
    "### General overview\n"
   ]
  },
  {
   "cell_type": "code",
   "execution_count": 4,
   "id": "696ce9a3",
   "metadata": {
    "execution": {
     "iopub.execute_input": "2022-06-23T20:01:47.635832Z",
     "iopub.status.busy": "2022-06-23T20:01:47.635440Z",
     "iopub.status.idle": "2022-06-23T20:01:48.671565Z",
     "shell.execute_reply": "2022-06-23T20:01:48.670524Z"
    },
    "papermill": {
     "duration": 1.05184,
     "end_time": "2022-06-23T20:01:48.673845",
     "exception": false,
     "start_time": "2022-06-23T20:01:47.622005",
     "status": "completed"
    },
    "tags": []
   },
   "outputs": [
    {
     "data": {
      "text/html": [
       "<div>\n",
       "<style scoped>\n",
       "    .dataframe tbody tr th:only-of-type {\n",
       "        vertical-align: middle;\n",
       "    }\n",
       "\n",
       "    .dataframe tbody tr th {\n",
       "        vertical-align: top;\n",
       "    }\n",
       "\n",
       "    .dataframe thead th {\n",
       "        text-align: right;\n",
       "    }\n",
       "</style>\n",
       "<table border=\"1\" class=\"dataframe\">\n",
       "  <thead>\n",
       "    <tr style=\"text-align: right;\">\n",
       "      <th></th>\n",
       "      <th>sentiment</th>\n",
       "      <th>review</th>\n",
       "    </tr>\n",
       "  </thead>\n",
       "  <tbody>\n",
       "    <tr>\n",
       "      <th>count</th>\n",
       "      <td>560000</td>\n",
       "      <td>560000</td>\n",
       "    </tr>\n",
       "    <tr>\n",
       "      <th>unique</th>\n",
       "      <td>2</td>\n",
       "      <td>560000</td>\n",
       "    </tr>\n",
       "    <tr>\n",
       "      <th>top</th>\n",
       "      <td>NEG</td>\n",
       "      <td>Unfortunately, the frustration of being Dr. Go...</td>\n",
       "    </tr>\n",
       "    <tr>\n",
       "      <th>freq</th>\n",
       "      <td>280000</td>\n",
       "      <td>1</td>\n",
       "    </tr>\n",
       "  </tbody>\n",
       "</table>\n",
       "</div>"
      ],
      "text/plain": [
       "       sentiment                                             review\n",
       "count     560000                                             560000\n",
       "unique         2                                             560000\n",
       "top          NEG  Unfortunately, the frustration of being Dr. Go...\n",
       "freq      280000                                                  1"
      ]
     },
     "execution_count": 4,
     "metadata": {},
     "output_type": "execute_result"
    }
   ],
   "source": [
    "ylp.describe()\n"
   ]
  },
  {
   "cell_type": "markdown",
   "id": "7eb86eb4",
   "metadata": {
    "papermill": {
     "duration": 0.011938,
     "end_time": "2022-06-23T20:01:48.698215",
     "exception": false,
     "start_time": "2022-06-23T20:01:48.686277",
     "status": "completed"
    },
    "tags": []
   },
   "source": [
    "it appears that the statistical summary is not very informative\n",
    "\n",
    "---\n",
    "\n",
    "### Univariate exploration\n",
    "\n",
    "checking classes & their frequency\n"
   ]
  },
  {
   "cell_type": "code",
   "execution_count": 5,
   "id": "b0c7f5b2",
   "metadata": {
    "execution": {
     "iopub.execute_input": "2022-06-23T20:01:48.724854Z",
     "iopub.status.busy": "2022-06-23T20:01:48.724474Z",
     "iopub.status.idle": "2022-06-23T20:01:48.935181Z",
     "shell.execute_reply": "2022-06-23T20:01:48.934191Z"
    },
    "papermill": {
     "duration": 0.226667,
     "end_time": "2022-06-23T20:01:48.937581",
     "exception": false,
     "start_time": "2022-06-23T20:01:48.710914",
     "status": "completed"
    },
    "tags": []
   },
   "outputs": [
    {
     "data": {
      "image/png": "[encoded data removed]",
      "text/plain": [
       "<Figure size 1152x648 with 1 Axes>"
      ]
     },
     "metadata": {},
     "output_type": "display_data"
    },
    {
     "data": {
      "text/plain": [
       "NEG    280000\n",
       "POS    280000\n",
       "Name: sentiment, dtype: int64"
      ]
     },
     "execution_count": 5,
     "metadata": {},
     "output_type": "execute_result"
    }
   ],
   "source": [
    "sns.countplot(data=ylp, x=\"sentiment\")\n",
    "plt.show()\n",
    "ylp[\"sentiment\"].value_counts()\n"
   ]
  },
  {
   "cell_type": "markdown",
   "id": "aa707dfc",
   "metadata": {
    "papermill": {
     "duration": 0.012542,
     "end_time": "2022-06-23T20:01:48.963680",
     "exception": false,
     "start_time": "2022-06-23T20:01:48.951138",
     "status": "completed"
    },
    "tags": []
   },
   "source": [
    "The dataset is perfectly balanced (same number of records per class)\n"
   ]
  },
  {
   "cell_type": "code",
   "execution_count": 6,
   "id": "14d53582",
   "metadata": {
    "execution": {
     "iopub.execute_input": "2022-06-23T20:01:48.991714Z",
     "iopub.status.busy": "2022-06-23T20:01:48.991341Z",
     "iopub.status.idle": "2022-06-23T20:01:54.475217Z",
     "shell.execute_reply": "2022-06-23T20:01:54.474249Z"
    },
    "papermill": {
     "duration": 5.500123,
     "end_time": "2022-06-23T20:01:54.477309",
     "exception": false,
     "start_time": "2022-06-23T20:01:48.977186",
     "status": "completed"
    },
    "tags": []
   },
   "outputs": [
    {
     "data": {
      "text/html": [
       "<div>\n",
       "<style scoped>\n",
       "    .dataframe tbody tr th:only-of-type {\n",
       "        vertical-align: middle;\n",
       "    }\n",
       "\n",
       "    .dataframe tbody tr th {\n",
       "        vertical-align: top;\n",
       "    }\n",
       "\n",
       "    .dataframe thead th {\n",
       "        text-align: right;\n",
       "    }\n",
       "</style>\n",
       "<table border=\"1\" class=\"dataframe\">\n",
       "  <thead>\n",
       "    <tr style=\"text-align: right;\">\n",
       "      <th></th>\n",
       "      <th>word_count</th>\n",
       "      <th>review_length</th>\n",
       "    </tr>\n",
       "  </thead>\n",
       "  <tbody>\n",
       "    <tr>\n",
       "      <th>count</th>\n",
       "      <td>560000.000000</td>\n",
       "      <td>560000.000000</td>\n",
       "    </tr>\n",
       "    <tr>\n",
       "      <th>mean</th>\n",
       "      <td>133.028873</td>\n",
       "      <td>725.879430</td>\n",
       "    </tr>\n",
       "    <tr>\n",
       "      <th>std</th>\n",
       "      <td>122.611613</td>\n",
       "      <td>669.001708</td>\n",
       "    </tr>\n",
       "    <tr>\n",
       "      <th>min</th>\n",
       "      <td>1.000000</td>\n",
       "      <td>1.000000</td>\n",
       "    </tr>\n",
       "    <tr>\n",
       "      <th>25%</th>\n",
       "      <td>51.000000</td>\n",
       "      <td>279.000000</td>\n",
       "    </tr>\n",
       "    <tr>\n",
       "      <th>50%</th>\n",
       "      <td>97.000000</td>\n",
       "      <td>528.000000</td>\n",
       "    </tr>\n",
       "    <tr>\n",
       "      <th>75%</th>\n",
       "      <td>174.000000</td>\n",
       "      <td>946.000000</td>\n",
       "    </tr>\n",
       "    <tr>\n",
       "      <th>max</th>\n",
       "      <td>1052.000000</td>\n",
       "      <td>5273.000000</td>\n",
       "    </tr>\n",
       "  </tbody>\n",
       "</table>\n",
       "</div>"
      ],
      "text/plain": [
       "          word_count  review_length\n",
       "count  560000.000000  560000.000000\n",
       "mean      133.028873     725.879430\n",
       "std       122.611613     669.001708\n",
       "min         1.000000       1.000000\n",
       "25%        51.000000     279.000000\n",
       "50%        97.000000     528.000000\n",
       "75%       174.000000     946.000000\n",
       "max      1052.000000    5273.000000"
      ]
     },
     "execution_count": 6,
     "metadata": {},
     "output_type": "execute_result"
    }
   ],
   "source": [
    "ylp_processed = ylp.copy()\n",
    "ylp_processed[\"word_count\"] = ylp_processed[\"review\"].apply(lambda review: len(review.split()))\n",
    "ylp_processed[\"review_length\"] = ylp_processed[\"review\"].apply(len)\n",
    "ylp_processed[[\"word_count\", \"review_length\"]].describe()\n"
   ]
  },
  {
   "cell_type": "markdown",
   "id": "7b95be67",
   "metadata": {
    "papermill": {
     "duration": 0.012554,
     "end_time": "2022-06-23T20:01:54.502933",
     "exception": false,
     "start_time": "2022-06-23T20:01:54.490379",
     "status": "completed"
    },
    "tags": []
   },
   "source": [
    "- Notice how min is $1.0$, that means some reviews are made of a single word, or even a single character\n",
    "\n",
    "\n",
    "let's have a look at those\n"
   ]
  },
  {
   "cell_type": "code",
   "execution_count": 7,
   "id": "dc957e14",
   "metadata": {
    "execution": {
     "iopub.execute_input": "2022-06-23T20:01:54.530387Z",
     "iopub.status.busy": "2022-06-23T20:01:54.529935Z",
     "iopub.status.idle": "2022-06-23T20:01:54.544654Z",
     "shell.execute_reply": "2022-06-23T20:01:54.543780Z"
    },
    "papermill": {
     "duration": 0.031108,
     "end_time": "2022-06-23T20:01:54.546891",
     "exception": false,
     "start_time": "2022-06-23T20:01:54.515783",
     "status": "completed"
    },
    "tags": []
   },
   "outputs": [
    {
     "name": "stdout",
     "output_type": "stream",
     "text": [
      "(302, 4)\n"
     ]
    },
    {
     "data": {
      "text/html": [
       "<div>\n",
       "<style scoped>\n",
       "    .dataframe tbody tr th:only-of-type {\n",
       "        vertical-align: middle;\n",
       "    }\n",
       "\n",
       "    .dataframe tbody tr th {\n",
       "        vertical-align: top;\n",
       "    }\n",
       "\n",
       "    .dataframe thead th {\n",
       "        text-align: right;\n",
       "    }\n",
       "</style>\n",
       "<table border=\"1\" class=\"dataframe\">\n",
       "  <thead>\n",
       "    <tr style=\"text-align: right;\">\n",
       "      <th></th>\n",
       "      <th>sentiment</th>\n",
       "      <th>review</th>\n",
       "      <th>word_count</th>\n",
       "      <th>review_length</th>\n",
       "    </tr>\n",
       "  </thead>\n",
       "  <tbody>\n",
       "    <tr>\n",
       "      <th>22</th>\n",
       "      <td>NEG</td>\n",
       "      <td>Hoofah.</td>\n",
       "      <td>1</td>\n",
       "      <td>7</td>\n",
       "    </tr>\n",
       "    <tr>\n",
       "      <th>252</th>\n",
       "      <td>NEG</td>\n",
       "      <td>Nope!</td>\n",
       "      <td>1</td>\n",
       "      <td>5</td>\n",
       "    </tr>\n",
       "    <tr>\n",
       "      <th>354</th>\n",
       "      <td>NEG</td>\n",
       "      <td>ewwww</td>\n",
       "      <td>1</td>\n",
       "      <td>5</td>\n",
       "    </tr>\n",
       "    <tr>\n",
       "      <th>438</th>\n",
       "      <td>NEG</td>\n",
       "      <td>Great</td>\n",
       "      <td>1</td>\n",
       "      <td>5</td>\n",
       "    </tr>\n",
       "    <tr>\n",
       "      <th>840</th>\n",
       "      <td>NEG</td>\n",
       "      <td>A</td>\n",
       "      <td>1</td>\n",
       "      <td>1</td>\n",
       "    </tr>\n",
       "  </tbody>\n",
       "</table>\n",
       "</div>"
      ],
      "text/plain": [
       "    sentiment   review  word_count  review_length\n",
       "22        NEG  Hoofah.           1              7\n",
       "252       NEG    Nope!           1              5\n",
       "354       NEG    ewwww           1              5\n",
       "438       NEG    Great           1              5\n",
       "840       NEG        A           1              1"
      ]
     },
     "execution_count": 7,
     "metadata": {},
     "output_type": "execute_result"
    }
   ],
   "source": [
    "idx_single_word = ylp_processed[\"word_count\"] == 1\n",
    "print(ylp_processed[idx_single_word].shape)\n",
    "ylp_processed[idx_single_word].head() \n"
   ]
  },
  {
   "cell_type": "markdown",
   "id": "ed38d1b3",
   "metadata": {
    "papermill": {
     "duration": 0.013114,
     "end_time": "2022-06-23T20:01:54.573301",
     "exception": false,
     "start_time": "2022-06-23T20:01:54.560187",
     "status": "completed"
    },
    "tags": []
   },
   "source": [
    "from the preview, there is reviews w/ a single character, and others w/ a single word, and there are almost $300$ of those\n",
    "\n",
    "let's collect the unique words there\n"
   ]
  },
  {
   "cell_type": "code",
   "execution_count": 8,
   "id": "a4dd5799",
   "metadata": {
    "execution": {
     "iopub.execute_input": "2022-06-23T20:01:54.602712Z",
     "iopub.status.busy": "2022-06-23T20:01:54.601576Z",
     "iopub.status.idle": "2022-06-23T20:01:54.615474Z",
     "shell.execute_reply": "2022-06-23T20:01:54.614268Z"
    },
    "papermill": {
     "duration": 0.030787,
     "end_time": "2022-06-23T20:01:54.617775",
     "exception": false,
     "start_time": "2022-06-23T20:01:54.586988",
     "status": "completed"
    },
    "tags": []
   },
   "outputs": [
    {
     "data": {
      "text/plain": [
       "{'$$$',\n",
       " '$$$$$$$',\n",
       " '(*-*)',\n",
       " '***',\n",
       " '**closed**',\n",
       " '------------',\n",
       " '----------------------',\n",
       " '.',\n",
       " '...',\n",
       " '....',\n",
       " '.....',\n",
       " '.........',\n",
       " '...................................',\n",
       " '0',\n",
       " '1',\n",
       " '2:57',\n",
       " '5stars',\n",
       " ':(',\n",
       " ':)',\n",
       " ':-(',\n",
       " ':/',\n",
       " '?',\n",
       " 'A',\n",
       " 'AWFUL.',\n",
       " 'Aaaa',\n",
       " 'Amaze-balls!',\n",
       " 'Amazing!',\n",
       " 'Avoid.',\n",
       " 'Awesome',\n",
       " 'Awesome!!!!!!',\n",
       " 'Awful',\n",
       " 'Awful.',\n",
       " 'Awsome',\n",
       " 'BINGO!!!',\n",
       " 'BLEH!',\n",
       " 'BLEH!!!!!!!!',\n",
       " 'BOMB',\n",
       " 'Bad',\n",
       " 'Beautiful.',\n",
       " 'Best!',\n",
       " 'Best...coffee...ever!',\n",
       " 'Best.\\\\nBar.\\\\nEver.',\n",
       " 'Besy',\n",
       " 'Beware.',\n",
       " 'Bla',\n",
       " 'Blah.',\n",
       " 'Bland',\n",
       " 'Blech.',\n",
       " 'Bomb!',\n",
       " 'Bomb.com!',\n",
       " 'Boo',\n",
       " 'Booooo',\n",
       " 'Boop',\n",
       " 'Boring.',\n",
       " 'Bros.',\n",
       " 'C',\n",
       " 'CLOSED!\\\\nhttp://www.eatinglv.com/2013/07/poshburger-closes/',\n",
       " 'Cheesy-melty-roasted-cauliflower-with-fresh-bread-crumbs-on-top.\\\\nTo-die-for.',\n",
       " 'Classic.',\n",
       " 'Closed!',\n",
       " 'Closed!!!',\n",
       " 'Closed.',\n",
       " 'Closed...Booo',\n",
       " 'Cookies.',\n",
       " 'Cool',\n",
       " 'Cool.',\n",
       " 'D-',\n",
       " 'Deleted',\n",
       " 'Delicioso!!!!',\n",
       " 'Delicious!!',\n",
       " 'Delicious.',\n",
       " 'Deliciousness-',\n",
       " 'Depressing.',\n",
       " 'Dhsushebebduebeusbduebeebdudbdjdbdjdd',\n",
       " 'Dirty',\n",
       " 'Dirty!',\n",
       " 'Dirty!!',\n",
       " 'Dirty....',\n",
       " 'Disappointed.:(',\n",
       " 'Disgusting',\n",
       " 'Disgusting!',\n",
       " 'Disgusting.',\n",
       " 'Dislike',\n",
       " \"Don't\",\n",
       " \"Don't!\",\n",
       " 'Droooool',\n",
       " 'Dump',\n",
       " 'E',\n",
       " 'Eg',\n",
       " 'Eh',\n",
       " 'Eh.',\n",
       " 'Ehh...',\n",
       " 'Ehhhhhhhhhh.....',\n",
       " 'Elephants',\n",
       " 'Epic',\n",
       " 'Error',\n",
       " 'Example',\n",
       " 'Excelent!!',\n",
       " 'Excellent!!!!',\n",
       " 'Expensive',\n",
       " 'Exquisite!!',\n",
       " 'F-',\n",
       " 'FAIL',\n",
       " 'FAIL.',\n",
       " 'Fabulous!',\n",
       " 'Fabulous!!',\n",
       " 'Fantastic',\n",
       " 'Fantastic!!!!',\n",
       " 'Fast?',\n",
       " 'Favorite!',\n",
       " 'Fine',\n",
       " 'Fixed',\n",
       " 'Food',\n",
       " 'Fun!',\n",
       " 'Fun!!!',\n",
       " 'G',\n",
       " 'GROSS!!!!!!',\n",
       " 'Gg',\n",
       " 'Ghetto',\n",
       " 'Ghetto...',\n",
       " 'Gloppy.',\n",
       " 'Good!!!',\n",
       " 'Gooood',\n",
       " 'Great',\n",
       " 'Gross',\n",
       " 'Gross!',\n",
       " 'Grosss',\n",
       " 'Hate',\n",
       " 'Hello',\n",
       " 'Hhhhh',\n",
       " 'Hilarious!!!',\n",
       " 'Holy-fucking-awful-fuck.',\n",
       " 'Hoofah.',\n",
       " 'Horrible',\n",
       " 'Horrible!!',\n",
       " 'Horrible.',\n",
       " 'Horrid',\n",
       " \"J'adore!\",\n",
       " 'Jizz-tasic!!!',\n",
       " 'K',\n",
       " 'L',\n",
       " 'Lo',\n",
       " 'Loved',\n",
       " 'MMMMmmmm.',\n",
       " 'Manhattan.',\n",
       " 'Mediocre.',\n",
       " 'Mediocre...',\n",
       " 'Meh',\n",
       " 'Meh!',\n",
       " 'Meh.',\n",
       " 'Meh...',\n",
       " 'Meth.',\n",
       " 'Mmmm',\n",
       " 'Mmmmm...',\n",
       " 'Mrrf.',\n",
       " 'NT',\n",
       " 'Nasty',\n",
       " 'Neither',\n",
       " 'Nice',\n",
       " 'Nice..',\n",
       " 'Nm',\n",
       " 'No',\n",
       " 'No.',\n",
       " 'Noice',\n",
       " 'Nope',\n",
       " 'Nope!',\n",
       " 'Not',\n",
       " 'Obnoxious',\n",
       " 'Ok',\n",
       " 'Overpriced',\n",
       " 'Overpriced!',\n",
       " 'Overrated.',\n",
       " 'Palabra!',\n",
       " 'Pass....',\n",
       " 'Pathetic.',\n",
       " 'Perfect!',\n",
       " 'Pizookie!',\n",
       " 'Q',\n",
       " 'Quick',\n",
       " 'RUDe!!!!!',\n",
       " 'Retracted',\n",
       " 'Ridiculous.',\n",
       " 'Shitty',\n",
       " 'Slowest.Subway.Ever.',\n",
       " 'Sucks',\n",
       " 'Sux',\n",
       " 'T',\n",
       " 'THE',\n",
       " 'Tasty.',\n",
       " 'Terrible',\n",
       " 'Terrible!',\n",
       " 'Terrible.',\n",
       " 'Terrible...',\n",
       " 'Terrific!',\n",
       " 'The',\n",
       " 'Thieves!',\n",
       " 'Trash..................',\n",
       " 'Ugh.',\n",
       " 'Umm.....',\n",
       " 'Update',\n",
       " 'Vomit',\n",
       " 'WTF',\n",
       " 'Wack',\n",
       " 'Wonderful!',\n",
       " 'Wow...',\n",
       " 'Wow....',\n",
       " 'X',\n",
       " 'Y',\n",
       " 'YELP!',\n",
       " 'YUCK!!!',\n",
       " 'Yuck!',\n",
       " 'Yuck!!',\n",
       " 'Yuck.',\n",
       " 'Yum!',\n",
       " 'Yum.',\n",
       " 'Yumm',\n",
       " 'Yumm!!!',\n",
       " 'Yummy',\n",
       " 'Yummy!!!',\n",
       " 'Yup',\n",
       " '\\\\\"',\n",
       " '\\\\\"Meh\\\\\"\\\\n\\\\n\\\\n+1',\n",
       " '\\\\u00c0',\n",
       " '\\\\u30e9\\\\u30b9\\\\u30d9\\\\u30ac\\\\u30b9\\\\u3044\\\\u3061\\\\u3068\\\\u3044\\\\u3046\\\\u3060\\\\u3051\\\\u3042\\\\u3063\\\\u3066\\\\u3001\\\\u3068\\\\u3066\\\\u3082\\\\u826f\\\\u304b\\\\u3063\\\\u305f\\\\u3067\\\\u3059\\\\u3002\\\\u30b7\\\\u30e7\\\\u30fc\\\\u304c\\\\u59cb\\\\u307e\\\\u308b\\\\u524d\\\\u306e\\\\u3061\\\\u3087\\\\u3063\\\\u3068\\\\u3057\\\\u305f\\\\u30d1\\\\u30d5\\\\u30a9\\\\u30fc\\\\u30de\\\\u30f3\\\\u30b9\\\\u3084\\\\u5ba2\\\\u5e2d\\\\u901a\\\\u8def\\\\u3084\\\\u30b9\\\\u30c6\\\\u30fc\\\\u30b8\\\\u4e21\\\\u30b5\\\\u30a4\\\\u30c9\\\\u306e\\\\u58c1\\\\u3084\\\\u5929\\\\u4e95\\\\u3082\\\\u304f\\\\u307e\\\\u306a\\\\u304f\\\\u4f7f\\\\u3044\\\\u3001\\\\u898b\\\\u308b\\\\u4eba\\\\u3092\\\\u98fd\\\\u304d\\\\u3055\\\\u305b\\\\u306a\\\\u3044\\\\u5de5\\\\u592b\\\\u304c\\\\u51dd\\\\u3089\\\\u3057\\\\u3066\\\\u3042\\\\u308a\\\\u307e\\\\u3059\\\\u3002\\\\u4f55\\\\u3088\\\\u308a\\\\u3001\\\\u6e56\\\\u306b\\\\u306a\\\\u3063\\\\u305f\\\\u308a\\\\u9678\\\\u306b\\\\u306a\\\\u3063\\\\u305f\\\\u308a\\\\u306e\\\\u30b9\\\\u30c6\\\\u30fc\\\\u30b8\\\\u5206\\\\u5272\\\\u306b\\\\u9a5a\\\\u304d\\\\u307e\\\\u3059\\\\u3002\\\\u30d1\\\\u30d5\\\\u30a9\\\\u30fc\\\\u30de\\\\u30fc\\\\u3082\\\\u7d20\\\\u6674\\\\u3089\\\\u3057\\\\u3044\\\\u3051\\\\u3069\\\\u3001\\\\u30b9\\\\u30c6\\\\u30fc\\\\u30b8\\\\u306e\\\\u4ed5\\\\u639b\\\\u3051\\\\u306b\\\\u3082\\\\u3073\\\\u3063\\\\u304f\\\\u308a\\\\u3067\\\\u3001\\\\u3068\\\\u3066\\\\u3082\\\\u697d\\\\u3057\\\\u3081\\\\u307e\\\\u3059\\\\uff01',\n",
       " '\\\\u54c8\\\\u5229\\\\u6ce2\\\\u7279\\\\u7684\\\\u8a95\\\\u751f\\\\u5730\\\\uff0c\\\\u4f46\\\\u662f\\\\u98df\\\\u7269\\\\u771f\\\\u7684\\\\u4e0d\\\\u6562\\\\u606d\\\\u7dad\\\\uff0c\\\\u53ef\\\\u4ee5\\\\u7a31\\\\u5f97\\\\u4e0a\\\\u662f\\\\u975e\\\\u5e38\\\\u96e3\\\\u5403\\\\u3002\\\\u9ede\\\\u7684\\\\u534a\\\\u500b\\\\u62ab\\\\u85a9\\\\u50cf\\\\u662f\\\\u9694\\\\u591c\\\\u7684\\\\uff0c\\\\u6c99\\\\u62c9\\\\u4e5f\\\\u5c11\\\\u7684\\\\u53ef\\\\u6190\\\\u3002\\\\u670d\\\\u52d9\\\\u901f\\\\u5ea6\\\\u975e\\\\u5e38\\\\u6162\\\\uff0c\\\\u56e0\\\\u70ba\\\\u9ede\\\\u9910\\\\u4e4b\\\\u524d\\\\u5ba2\\\\u4eba\\\\u4e0d\\\\u5141\\\\u8a31\\\\u5165\\\\u5ea7\\\\uff0c\\\\u6240\\\\u4ee5\\\\u968a\\\\u4f0d\\\\u5e38\\\\u5e38\\\\u6392\\\\u5230\\\\u9580\\\\u5916\\\\uff0c\\\\u6211\\\\u5011\\\\u7b49\\\\u4e86\\\\u5927\\\\u698220\\\\u591a\\\\u5206\\\\u9418\\\\u624d\\\\u9ede\\\\u5230\\\\u3002\\\\u5e97\\\\u88cf\\\\u6709\\\\u8ce3\\\\u5927\\\\u8c61\\\\u53cajk\\\\u6d1b\\\\u7433\\\\u7684\\\\u660e\\\\u4fe1\\\\u7247\\\\uff0c\\\\u5f9e\\\\u88e1\\\\u9762\\\\u53ef\\\\u4ee5\\\\u770b\\\\u5230\\\\u611b\\\\u4e01\\\\u5821\\\\u57ce\\\\u5821\\\\uff0c\\\\u9760\\\\u7a97\\\\u7684\\\\u5ea7\\\\u4f4d\\\\u98a8\\\\u666f\\\\u5f88\\\\u597d\\\\u3002\\\\u4e0d\\\\u63a8\\\\u85a6\\\\u5728\\\\u88e1\\\\u9762\\\\u5403\\\\u98ef\\\\u3002',\n",
       " '\\\\u591c\\\\u4e2d\\\\u306e\\\\u5230\\\\u7740\\\\u3060\\\\u3063\\\\u305f\\\\u306e\\\\u3067\\\\u3001\\\\u7a7a\\\\u6e2f\\\\u306e\\\\u8fd1\\\\u304f\\\\u306b\\\\u3002\\\\n\\\\n\\\\u30e2\\\\u30f3\\\\u30c8\\\\u30ea\\\\u30aa\\\\u30fc\\\\u30eb\\\\uff08\\\\u30e2\\\\u30f3\\\\u30ec\\\\u30a2\\\\u30eb\\\\uff09\\\\u7a7a\\\\u6e2f\\\\u304b\\\\u3089\\\\u306f\\\\u7121\\\\u6599\\\\u306e\\\\u30b7\\\\u30e3\\\\u30c8\\\\u30eb\\\\u30d0\\\\u30b9\\\\u304c\\\\u51fa\\\\u3066\\\\u3044\\\\u308b\\\\u306e\\\\u3067\\\\u305d\\\\u308c\\\\u3092\\\\u5229\\\\u7528\\\\u3057\\\\u3066\\\\u30db\\\\u30c6\\\\u30eb\\\\u307e\\\\u3067\\\\u884c\\\\u304d\\\\u307e\\\\u3057\\\\u305f\\\\u300210\\\\u5206\\\\u3082\\\\u304b\\\\u304b\\\\u3089\\\\u306a\\\\u304b\\\\u3063\\\\u305f\\\\u304b\\\\u306a\\\\u3002\\\\u306a\\\\u306b\\\\u305b12\\\\u6642\\\\u8fd1\\\\u304b\\\\u3063\\\\u305f\\\\u306e\\\\u3067\\\\u3001\\\\u30d5\\\\u30ed\\\\u30f3\\\\u30c8\\\\u306b\\\\u6700\\\\u521d\\\\u306f\\\\u8ab0\\\\u3082\\\\u3044\\\\u306a\\\\u304f\\\\u3066\\\\u3061\\\\u3087\\\\u3063\\\\u3068\\\\u7126\\\\u308a\\\\u307e\\\\u3057\\\\u305f\\\\u304c\\\\u3001\\\\u554f\\\\u984c\\\\u306a\\\\u304f\\\\u30c1\\\\u30a7\\\\u30c3\\\\u30af\\\\u30a4\\\\u30f3\\\\u3002\\\\n\\\\n\\\\u5168\\\\u4f53\\\\u3068\\\\u3057\\\\u3066\\\\u306f\\\\u3001\\\\u30b7\\\\u30f3\\\\u30d7\\\\u30eb\\\\u306a\\\\u4f5c\\\\u308a\\\\u306a\\\\u304c\\\\u3089\\\\u3001\\\\u304b\\\\u306a\\\\u308a\\\\u30e2\\\\u30c0\\\\u30f3\\\\u306a\\\\u30c7\\\\u30b6\\\\u30a4\\\\u30f3\\\\u3092\\\\u53d6\\\\u308a\\\\u5165\\\\u308c\\\\u3066\\\\u3044\\\\u308b\\\\u306e\\\\u3067\\\\u3001\\\\u3061\\\\u3087\\\\u3063\\\\u3068\\\\u30d3\\\\u30c3\\\\u30af\\\\u30ea\\\\u3057\\\\u307e\\\\u3059\\\\u3051\\\\u308c\\\\u3069\\\\u3001\\\\u305d\\\\u308c\\\\u307b\\\\u3069\\\\u6d3e\\\\u624b\\\\u3068\\\\u3044\\\\u3046\\\\u3053\\\\u3068\\\\u3082\\\\u306a\\\\u304f\\\\u3001\\\\u610f\\\\u5916\\\\u3068\\\\u843d\\\\u3061\\\\u7740\\\\u3051\\\\u307e\\\\u3059\\\\u3002\\\\u90e8\\\\u5c4b\\\\u3082\\\\u5341\\\\u5206\\\\u3059\\\\u304e\\\\u308b\\\\u307b\\\\u3069\\\\u5e83\\\\u3044\\\\u306e\\\\u3067\\\\u3059\\\\u304c\\\\u3001\\\\u30d9\\\\u30c3\\\\u30c9\\\\u304c\\\\u3059\\\\u3054\\\\u304f\\\\u3088\\\\u304b\\\\u3063\\\\u305f\\\\u3002\\\\u3072\\\\u3087\\\\u3063\\\\u3068\\\\u3059\\\\u308b\\\\u3068\\\\u4eca\\\\u307e\\\\u3067\\\\u3067\\\\u4e00\\\\u756a\\\\u3058\\\\u3083\\\\u306a\\\\u3044\\\\u304b\\\\u3068\\\\u601d\\\\u3046\\\\u304f\\\\u3089\\\\u3044\\\\u306e\\\\u5fc3\\\\u5730\\\\u3088\\\\u3055\\\\u3067\\\\u3057\\\\u305f\\\\u3002\\\\n\\\\n\\\\u3082\\\\u3046\\\\u3001\\\\u6b21\\\\u306e\\\\u6ede\\\\u5728\\\\u5148\\\\u304c\\\\u6c7a\\\\u307e\\\\u3063\\\\u3066\\\\u3044\\\\u305f\\\\u306e\\\\u3067\\\\u3001\\\\u30c0\\\\u30a6\\\\u30f3\\\\u30bf\\\\u30a6\\\\u30f3\\\\u306e\\\\u65b9\\\\u306b\\\\u79fb\\\\u52d5\\\\u3057\\\\u307e\\\\u3057\\\\u305f\\\\u304c\\\\u3001\\\\u51fa\\\\u6765\\\\u308c\\\\u3070\\\\u3082\\\\u3046\\\\u4e00\\\\u6cca\\\\u3057\\\\u3066\\\\u3082\\\\u3044\\\\u3044\\\\u304f\\\\u3089\\\\u3044\\\\u3067\\\\u3057\\\\u305f\\\\u3002\\\\n\\\\n\\\\u3053\\\\u308c\\\\u304b\\\\u3089\\\\u5148\\\\u591c\\\\u4e2d\\\\u306b\\\\u30e2\\\\u30f3\\\\u30ec\\\\u30a2\\\\u30eb\\\\u306b\\\\u7740\\\\u304f\\\\u3001\\\\u3082\\\\u3057\\\\u304f\\\\u306f\\\\u3001\\\\u65e9\\\\u671d\\\\u306b\\\\u51fa\\\\u767a\\\\u3068\\\\u3044\\\\u3046\\\\u3053\\\\u3068\\\\u304c\\\\u3042\\\\u308b\\\\u304b\\\\u3069\\\\u3046\\\\u304b\\\\u5206\\\\u304b\\\\u308a\\\\u307e\\\\u305b\\\\u3093\\\\u3051\\\\u3069\\\\u3001\\\\u305d\\\\u3046\\\\u3044\\\\u3046\\\\u5834\\\\u5408\\\\u304c\\\\u3042\\\\u308c\\\\u3070\\\\u3001\\\\u307e\\\\u305f\\\\u662f\\\\u975e\\\\u5229\\\\u7528\\\\u3057\\\\u305f\\\\u3044\\\\u3068\\\\u601d\\\\u3044\\\\u307e\\\\u3057\\\\u305f\\\\u3002',\n",
       " '\\\\u5e97\\\\u9762\\\\u5f88\\\\u5927\\\\u4e26\\\\u53ef\\\\u4ee5\\\\u63d0\\\\u4f9b\\\\u514d\\\\u8cbb\\\\u7684\\\\u7da0\\\\u8336\\\\uff0c\\\\u9ede\\\\u9910\\\\u548c\\\\u4e0a\\\\u83dc\\\\u901f\\\\u5ea6\\\\u90fd\\\\u5f88\\\\u5feb\\\\u3002\\\\u96d6\\\\u7136\\\\u98ef\\\\u5e97\\\\u4ee5\\\\u65e5\\\\u672c\\\\u83dc\\\\u547d\\\\u540d\\\\uff0c\\\\u4f46\\\\u662f\\\\u5eda\\\\u5e2b\\\\u90fd\\\\u4e0d\\\\u662f\\\\u65e5\\\\u672c\\\\u4eba\\\\u3002\\\\u62c9\\\\u9eb5\\\\u4efd\\\\u91cf\\\\u5f88\\\\u5c0f\\\\uff0c\\\\u6e05\\\\u6e6f\\\\u6e05\\\\u6c34\\\\uff0c\\\\u9664\\\\u4e86\\\\u5927\\\\u8525\\\\u7684\\\\u5473\\\\u9053\\\\u4e4b\\\\u5916\\\\u54c1\\\\u5690\\\\u4e0d\\\\u51fa\\\\u4efb\\\\u4f55\\\\u5176\\\\u4ed6\\\\u5473\\\\u9053\\\\uff0c\\\\u5c0f\\\\u83dc\\\\u829d\\\\u9ebb\\\\u6392\\\\u9aa8\\\\u4e5f\\\\u5b8c\\\\u5168\\\\u6c92\\\\u6709\\\\u5165\\\\u5473\\\\uff0c\\\\u597d\\\\u50cf\\\\u716e\\\\u6392\\\\u9aa8\\\\u6cbe\\\\u70e4\\\\u8089\\\\u91ac\\\\uff0c\\\\u4ee4\\\\u4eba\\\\u5927\\\\u5931\\\\u6240\\\\u671b\\\\u3002\\\\u9019\\\\u5bb6\\\\u98ef\\\\u5e97\\\\u53ef\\\\u4ee5\\\\u8aaa\\\\u662f\\\\u6211\\\\u5403\\\\u904e\\\\u7684\\\\u6240\\\\u6709\\\\u81ea\\\\u7a31\\\\u65e5\\\\u672c\\\\u98ef\\\\u5e97\\\\u6700\\\\u4e0d\\\\u50cf\\\\u7684\\\\u4e86\\\\uff0c\\\\u64da\\\\u8aaa\\\\u5728\\\\u82f1\\\\u570b\\\\u662f\\\\u5168\\\\u570b\\\\u9023\\\\u9396\\\\uff0c\\\\u5f88\\\\u591a\\\\u57ce\\\\u5e02\\\\u90fd\\\\u898b\\\\u904e\\\\u3002\\\\u96d6\\\\u7136\\\\u50f9\\\\u683c\\\\u9069\\\\u4e2d\\\\uff0c\\\\u4f4d\\\\u7f6e\\\\u4fbf\\\\u5229\\\\uff0c\\\\u4f46\\\\u5c0d\\\\u65bc\\\\u6311\\\\u5254\\\\u7684\\\\u98df\\\\u7269\\\\u611b\\\\u597d\\\\u8005\\\\u4f86\\\\u8aaa\\\\u4e26\\\\u4e0d\\\\u503c\\\\u5f97\\\\u3002',\n",
       " '\\\\u81ea\\\\u5bb6\\\\u88fd\\\\u306e\\\\u30b5\\\\u30eb\\\\u30b5\\\\u304c\\\\u3001\\\\u4ed6\\\\u3067\\\\u306f\\\\u898b\\\\u3089\\\\u308c\\\\u306a\\\\u3044\\\\u7f8e\\\\u5473\\\\u3057\\\\u3055\\\\u3068\\\\u30d5\\\\u30ec\\\\u30c3\\\\u30b7\\\\u30e5\\\\u3055\\\\u3002\\\\n\\\\u30bf\\\\u30b3\\\\u30b9\\\\u3084\\\\u30d6\\\\u30ea\\\\u30c8\\\\u30fc\\\\u306e\\\\u5177\\\\u3082\\\\u30a6\\\\u30a3\\\\u30f3\\\\u30c9\\\\u30fc\\\\u306e\\\\u4e2d\\\\u3067\\\\u624b\\\\u4f5c\\\\u308a\\\\u3057\\\\u3066\\\\u3044\\\\u308b\\\\u69d8\\\\u5b50\\\\u304c\\\\u898b\\\\u3089\\\\u308c\\\\u307e\\\\u3059\\\\u3002\\\\n\\\\u4f55\\\\u6545\\\\u304b\\\\u5973\\\\u5b50\\\\u30c8\\\\u30a4\\\\u30ec\\\\u306e\\\\u8868\\\\u793a\\\\u304c\\\\u9752\\\\u3044\\\\u8272\\\\u3067\\\\u5c11\\\\u3057\\\\u6238\\\\u60d1\\\\u3044\\\\u307e\\\\u3057\\\\u305f\\\\u304c\\\\u554f\\\\u984c\\\\u3042\\\\u308a\\\\u307e\\\\u305b\\\\u3093\\\\u3002',\n",
       " '_',\n",
       " 'amazing!',\n",
       " 'amazing!!!',\n",
       " 'amazing!!!!',\n",
       " 'awesome!',\n",
       " 'awful!!!!',\n",
       " 'b-e-a-u-t-i-f-u-l!!!',\n",
       " 'bad',\n",
       " 'blah!',\n",
       " 'bland.',\n",
       " 'bleuch.',\n",
       " 'closed',\n",
       " 'closed!',\n",
       " 'closed!!',\n",
       " 'closed!!!',\n",
       " 'closed!!!!!',\n",
       " 'closed!!!!!!',\n",
       " 'closed!!!!!!!',\n",
       " 'closed.',\n",
       " 'closed...',\n",
       " 'decent',\n",
       " 'dirty',\n",
       " 'dnsjdhcdn',\n",
       " 'dosas!!!!!!!!!',\n",
       " 'dump!!!!!',\n",
       " 'eat.here.now!',\n",
       " 'eeeeeeewwwwwwwwwwwwwwwwww',\n",
       " 'eh.',\n",
       " 'ew',\n",
       " 'eww',\n",
       " 'ewww......',\n",
       " 'ewwww',\n",
       " 'excellent!!!',\n",
       " 'fabulous!!!',\n",
       " 'fun\\\\nalive\\\\ncompetitive\\\\nand\\\\nsympathetic',\n",
       " 'garbage!!!',\n",
       " 'good!',\n",
       " 'horrible',\n",
       " 'horrible!',\n",
       " 'http://parismusings.blogspot.com',\n",
       " 'http://www.azfamily.com/news/consumer/Phoenix-family-claim-outrage-over-carpet-cleaning-bait-and-switch-267392471.html\\\\n\\\\nhttp://www.bbb.org/central-northern-western-arizona/business-reviews/carpet-and-rug-cleaners/procare-carpet-airduct-cleaning-of-arizona-inc-in-tempe-az-1000020145/',\n",
       " 'http://www.courthousenews.com/2013/07/03/59061.htm',\n",
       " 'http://www.journaldemontreal.com/2014/07/28/franchement-decevant',\n",
       " 'http://www.youtube.com/watch?v=OfMy1uMjkdw',\n",
       " 'https://www.facebook.com/TuyetRoyal',\n",
       " 'legit',\n",
       " 'love!',\n",
       " 'love!!!',\n",
       " 'medicore',\n",
       " 'meh',\n",
       " 'meh..',\n",
       " 'mmmmmm',\n",
       " 'mmmmmmmmmmmmmmmmmmmmmmmmmmmmmmmmmmmmmmmmmmmmmmmmmmmmmmmmmmmmmmmmmmmmmmmmmmmmmmmmmmmmmmmmmmmmmmmmmmmmmmmmmmmmmmmm1',\n",
       " \"mmmmmmmmmmmmmmmmmmmmmmmmmmwowmmmmmmmmmmmmmmmmmmmmmmmmmmmmmmmmmmmmmmmmmmmmmmmmwowwowowwowmmmmmmmmmmmmmmmwowSoIHaveBeenSeeing5StarReviewsForThisPlaceForSoLongIHadToTryItmmmmmmmmmmmmmmmmmmmwowmmmmmmmmmmmmmmmmmmmmmmmmmmmmmmmmmmmmmmMyFriendKevinHWasTryingToExplainSweetRepublic'sAwesomenessAndWhenHeGotToThePointOfTwitteringOneOfTheOwnersToMakeSureHeNabbedTheLastOfAFlavorIKnewIHadToFindOutWhatEveryoneIsObsessingAboutmmmmmmmmmmmmmmmmmmmmmmmmmmmmmmmmmmmmmmmmmmmwowmmmmmmmmmmmmmmmmmmmmmmmmmmmmmmHelenAndJanWereSoNicemmmmmmmmmmmmmmmmmmmmwowmmmmmmmmmmmmmmmmmmmmmmmmwowmmmmmmmmmmmmmmmmmJanRecommendedTheCombinationOfMayanChocolateWithAvacadoJalapenoHolyCrapThatWasSomeKindOfOtherworldlyFlavormmmmmmmmmmmmmmmmmmmmmmmmwowmmmmmmmmmmmmmmmmmmmmmmmmWeCan'tWaitToGoBackmmmmmmmmmmmmmmmmmmmmmmmmwowmmmmmmmmmmmmmmmmmmmmmmmmmmmmmmmmmmmmmmmmmmmIAlsoHadTheEspressoItWasGreatAsWellmmmmmmmmmmmmmmmohgawdmmmmmmmmmmmmwowmmmmmmmmmmmmmmmmmmmmmmmmmmmmmmmmmmmmmmmm\\\\nmmmmmmmmmmmmmmmmmmmmmmmmmmmmmmmmmmmmmmTheRoquefortWithMedjoolDatesWasUnbelievableAlsommmmmmmmmmmmmmmmmmmmmmmmmmmmmmmmmmmmmmmmmmmwowmmmmmmWhileWeWereEatingOurIceCreamHelenWasHandMakingWaffleConesThesePeopleReallyTakePrideInTheCraftingOfTheProductsTheySellmmmmmmmmmmmmmmmmmmmmmmmmmmmmmmmmmmmmmmmmmmmmmmmmmmmmmmmmmmmmmmmmmmmmmmmmmmmmmmmmmmmmmmmmmmmmmmmmmmmmmmmmmmmwowmmmmmmThisPlaceIsAFoodieDestinationNotToBeMissedInAnyMajorCitymmmmmmmmmmmmmmmmmmmmmmmmmmmmmmmmmmmwowmmmmmmmmmmIfIDidn'tLiveInPhoenixIWouldArrangeLayoversHereJustToGoToSweetRepublicmmmmmmmmmmmmmmmmmmmmmmmmmmmmmmmmmmmmmmmmmmmmIHaveToGoGetAPintOfTheAvacadoJalapenoNowByemmmmmmmmmmmmmmmmmmmmmmmmmmmmmmmmmmmmmwowmmmmmmmmmmmmmmmmmmmmmmmmmmmmmmmmmmmmmmmmmmmmmmmmmmmmmmmmmmmmmmmmmmmmmmmmmmmmmmmmmmmmmmmmmmmmmmmmmmmmmmmmmmmmmmmmmmmmmmwow\",\n",
       " 'mouai',\n",
       " 'no.',\n",
       " 'nooooooooooo',\n",
       " 'ok',\n",
       " 'oks',\n",
       " 'overhyped...',\n",
       " 'overpriced',\n",
       " 'puke',\n",
       " 'really?',\n",
       " 'regular',\n",
       " 'sigh',\n",
       " 'sloooooow',\n",
       " 'sorry',\n",
       " 'terrible.',\n",
       " 'wow!!!',\n",
       " 'www.bigtsreviews.com',\n",
       " 'x',\n",
       " 'yes.',\n",
       " 'yum.',\n",
       " 'yyyuuummmmmmyyy'}"
      ]
     },
     "execution_count": 8,
     "metadata": {},
     "output_type": "execute_result"
    }
   ],
   "source": [
    "ylp_single = ylp[idx_single_word]\n",
    "single_review_word_set = set(ylp_single[\"review\"].values)\n",
    "single_review_word_set\n"
   ]
  },
  {
   "cell_type": "markdown",
   "id": "5ae65499",
   "metadata": {
    "papermill": {
     "duration": 0.013234,
     "end_time": "2022-06-23T20:01:54.644964",
     "exception": false,
     "start_time": "2022-06-23T20:01:54.631730",
     "status": "completed"
    },
    "tags": []
   },
   "source": [
    "Notes:\n",
    "\n",
    "- while most of the unique reviews are simple words like `wow` and `ok`, there are some that are totally spam, like reviews w/ nothing but emojis\n",
    "- some reviews have nothing but URLs\n",
    "- also noted that some reviews were separated by something other than whitespaces, this should be fixed\n",
    "\n",
    "> Some reviews could be rendered useless, and should be dropped, but doing that might introduce some imbalance, so tread carefully\n",
    "\n",
    "let's try splitting the reviews that is split by non-whitespace characters\n"
   ]
  },
  {
   "cell_type": "code",
   "execution_count": 9,
   "id": "cf08cb8d",
   "metadata": {
    "execution": {
     "iopub.execute_input": "2022-06-23T20:01:54.674208Z",
     "iopub.status.busy": "2022-06-23T20:01:54.673791Z",
     "iopub.status.idle": "2022-06-23T20:02:56.729013Z",
     "shell.execute_reply": "2022-06-23T20:02:56.727892Z"
    },
    "papermill": {
     "duration": 62.073124,
     "end_time": "2022-06-23T20:02:56.731775",
     "exception": false,
     "start_time": "2022-06-23T20:01:54.658651",
     "status": "completed"
    },
    "tags": []
   },
   "outputs": [],
   "source": [
    "import re # to use regex tools\n",
    "\n",
    "# dropping URLs\n",
    "REGEX_URL = r\"(?:https?://|www\\.)[\\w\\d/\\.]+\"\n",
    "ylp_processed[\"review\"] = ylp_processed[\"review\"].apply(lambda rev: re.sub(REGEX_URL, \"\", rev))\n",
    "\n",
    "# re-calculating word count, after splitting on whitespace & non-alphabetic characters\n",
    "ylp_processed[\"word_count\"] = ylp_processed[\"review\"].apply(lambda review: len(re.split(r\"[\\W\\s]+\", review)))\n"
   ]
  },
  {
   "cell_type": "markdown",
   "id": "facc2b01",
   "metadata": {
    "papermill": {
     "duration": 0.014636,
     "end_time": "2022-06-23T20:02:56.760914",
     "exception": false,
     "start_time": "2022-06-23T20:02:56.746278",
     "status": "completed"
    },
    "tags": []
   },
   "source": [
    "now, recalculate how many records still consist of a single word\n"
   ]
  },
  {
   "cell_type": "code",
   "execution_count": 10,
   "id": "de1416bb",
   "metadata": {
    "execution": {
     "iopub.execute_input": "2022-06-23T20:02:56.791534Z",
     "iopub.status.busy": "2022-06-23T20:02:56.790724Z",
     "iopub.status.idle": "2022-06-23T20:02:56.806610Z",
     "shell.execute_reply": "2022-06-23T20:02:56.805406Z"
    },
    "papermill": {
     "duration": 0.034318,
     "end_time": "2022-06-23T20:02:56.808942",
     "exception": false,
     "start_time": "2022-06-23T20:02:56.774624",
     "status": "completed"
    },
    "tags": []
   },
   "outputs": [
    {
     "name": "stdout",
     "output_type": "stream",
     "text": [
      "(120, 4)\n"
     ]
    },
    {
     "data": {
      "text/html": [
       "<div>\n",
       "<style scoped>\n",
       "    .dataframe tbody tr th:only-of-type {\n",
       "        vertical-align: middle;\n",
       "    }\n",
       "\n",
       "    .dataframe tbody tr th {\n",
       "        vertical-align: top;\n",
       "    }\n",
       "\n",
       "    .dataframe thead th {\n",
       "        text-align: right;\n",
       "    }\n",
       "</style>\n",
       "<table border=\"1\" class=\"dataframe\">\n",
       "  <thead>\n",
       "    <tr style=\"text-align: right;\">\n",
       "      <th></th>\n",
       "      <th>sentiment</th>\n",
       "      <th>review</th>\n",
       "      <th>word_count</th>\n",
       "      <th>review_length</th>\n",
       "    </tr>\n",
       "  </thead>\n",
       "  <tbody>\n",
       "    <tr>\n",
       "      <th>354</th>\n",
       "      <td>NEG</td>\n",
       "      <td>ewwww</td>\n",
       "      <td>1</td>\n",
       "      <td>5</td>\n",
       "    </tr>\n",
       "    <tr>\n",
       "      <th>438</th>\n",
       "      <td>NEG</td>\n",
       "      <td>Great</td>\n",
       "      <td>1</td>\n",
       "      <td>5</td>\n",
       "    </tr>\n",
       "    <tr>\n",
       "      <th>840</th>\n",
       "      <td>NEG</td>\n",
       "      <td>A</td>\n",
       "      <td>1</td>\n",
       "      <td>1</td>\n",
       "    </tr>\n",
       "    <tr>\n",
       "      <th>2245</th>\n",
       "      <td>POS</td>\n",
       "      <td>Awesome</td>\n",
       "      <td>1</td>\n",
       "      <td>7</td>\n",
       "    </tr>\n",
       "    <tr>\n",
       "      <th>3706</th>\n",
       "      <td>POS</td>\n",
       "      <td></td>\n",
       "      <td>1</td>\n",
       "      <td>20</td>\n",
       "    </tr>\n",
       "  </tbody>\n",
       "</table>\n",
       "</div>"
      ],
      "text/plain": [
       "     sentiment   review  word_count  review_length\n",
       "354        NEG    ewwww           1              5\n",
       "438        NEG    Great           1              5\n",
       "840        NEG        A           1              1\n",
       "2245       POS  Awesome           1              7\n",
       "3706       POS                    1             20"
      ]
     },
     "execution_count": 10,
     "metadata": {},
     "output_type": "execute_result"
    }
   ],
   "source": [
    "idx_single_word = ylp_processed[\"word_count\"] <= 1\n",
    "print(ylp_processed[idx_single_word].shape)\n",
    "ylp_processed[idx_single_word].head() \n"
   ]
  },
  {
   "cell_type": "markdown",
   "id": "19db85ca",
   "metadata": {
    "papermill": {
     "duration": 0.014727,
     "end_time": "2022-06-23T20:02:56.839417",
     "exception": false,
     "start_time": "2022-06-23T20:02:56.824690",
     "status": "completed"
    },
    "tags": []
   },
   "source": [
    "after dropping URLs & splitting on non-alphanumeric characters, the number dropped from $302$ to $120$\n",
    "\n",
    "also some reviews were made entirely from non-alphabetic characters, so these, too, were dropped from the single word reviews\n",
    "\n",
    "let's look at the reviews that has no words at all\n"
   ]
  },
  {
   "cell_type": "code",
   "execution_count": 11,
   "id": "bd110fa9",
   "metadata": {
    "execution": {
     "iopub.execute_input": "2022-06-23T20:02:56.870491Z",
     "iopub.status.busy": "2022-06-23T20:02:56.869913Z",
     "iopub.status.idle": "2022-06-23T20:04:11.576305Z",
     "shell.execute_reply": "2022-06-23T20:04:11.575349Z"
    },
    "papermill": {
     "duration": 74.739475,
     "end_time": "2022-06-23T20:04:11.593409",
     "exception": false,
     "start_time": "2022-06-23T20:02:56.853934",
     "status": "completed"
    },
    "tags": []
   },
   "outputs": [
    {
     "name": "stdout",
     "output_type": "stream",
     "text": [
      "(7,)\n"
     ]
    },
    {
     "data": {
      "text/html": [
       "<div>\n",
       "<style scoped>\n",
       "    .dataframe tbody tr th:only-of-type {\n",
       "        vertical-align: middle;\n",
       "    }\n",
       "\n",
       "    .dataframe tbody tr th {\n",
       "        vertical-align: top;\n",
       "    }\n",
       "\n",
       "    .dataframe thead th {\n",
       "        text-align: right;\n",
       "    }\n",
       "</style>\n",
       "<table border=\"1\" class=\"dataframe\">\n",
       "  <thead>\n",
       "    <tr style=\"text-align: right;\">\n",
       "      <th></th>\n",
       "      <th>sentiment</th>\n",
       "      <th>review</th>\n",
       "      <th>word_count</th>\n",
       "      <th>review_length</th>\n",
       "    </tr>\n",
       "  </thead>\n",
       "  <tbody>\n",
       "    <tr>\n",
       "      <th>45990</th>\n",
       "      <td>NEG</td>\n",
       "      <td>....</td>\n",
       "      <td>2</td>\n",
       "      <td>4</td>\n",
       "    </tr>\n",
       "    <tr>\n",
       "      <th>51093</th>\n",
       "      <td>NEG</td>\n",
       "      <td>:)</td>\n",
       "      <td>2</td>\n",
       "      <td>2</td>\n",
       "    </tr>\n",
       "    <tr>\n",
       "      <th>68487</th>\n",
       "      <td>NEG</td>\n",
       "      <td>:(</td>\n",
       "      <td>2</td>\n",
       "      <td>2</td>\n",
       "    </tr>\n",
       "    <tr>\n",
       "      <th>126794</th>\n",
       "      <td>NEG</td>\n",
       "      <td>:/</td>\n",
       "      <td>2</td>\n",
       "      <td>2</td>\n",
       "    </tr>\n",
       "    <tr>\n",
       "      <th>291124</th>\n",
       "      <td>POS</td>\n",
       "      <td>----------------------</td>\n",
       "      <td>2</td>\n",
       "      <td>22</td>\n",
       "    </tr>\n",
       "  </tbody>\n",
       "</table>\n",
       "</div>"
      ],
      "text/plain": [
       "       sentiment                  review  word_count  review_length\n",
       "45990        NEG                    ....           2              4\n",
       "51093        NEG                      :)           2              2\n",
       "68487        NEG                      :(           2              2\n",
       "126794       NEG                      :/           2              2\n",
       "291124       POS  ----------------------           2             22"
      ]
     },
     "execution_count": 11,
     "metadata": {},
     "output_type": "execute_result"
    }
   ],
   "source": [
    "def drop_non_alnum(string: str) -> str:\n",
    "    \"\"\"replaces any non alphanumeric character with a space,\n",
    "    reduces multiple consecutive spaces into 1 space,\n",
    "    converts a string of only whitespace into empty string\n",
    "    \n",
    "    Parameters:\n",
    "    -----------\n",
    "    string: str\n",
    "        TODO: continue pydoc\n",
    "        \n",
    "    Returns:\n",
    "    --------\n",
    "    out: str\n",
    "        TODO: continue pydoc\n",
    "    \"\"\"\n",
    "    string = re.sub(r\"\\W\\D\", \" \", string) # replace each non-alphanumeric into a space\n",
    "    string = re.sub(r\"\\s+\", \" \", string)  # replace multiple whitespace characters into a single one\n",
    "    # replace whitespace only strings w/ empty strings\n",
    "    return re.sub(r\"^\\s+$\", \"\", string)\n",
    "\n",
    "review_alnum = ylp[\"review\"].apply(drop_non_alnum)\n",
    "idx_empty_reviews = review_alnum.apply(len) == 0\n",
    "print(review_alnum[idx_empty_reviews].shape)\n",
    "ylp_processed[idx_empty_reviews].head()\n"
   ]
  },
  {
   "cell_type": "markdown",
   "id": "6ebb91aa",
   "metadata": {
    "papermill": {
     "duration": 0.013995,
     "end_time": "2022-06-23T20:04:11.621818",
     "exception": false,
     "start_time": "2022-06-23T20:04:11.607823",
     "status": "completed"
    },
    "tags": []
   },
   "source": [
    "there are $7$ reviews that hold no useful words, but some of them have emoticons\n",
    "\n",
    "emoticons could be representative of sentiment, but having $7$ records from a total of $560000$ (that's $1.25*10^{-3}\\%$) should warrant dropping those, also emojis are more common than emoticons\n",
    "\n",
    "one must be careful, as dropping records might cause imbalance to a nearly perfectly balanced dataset\n",
    "\n",
    "---\n",
    "\n",
    "let's have a look where is it more common to have a single token review\n"
   ]
  },
  {
   "cell_type": "code",
   "execution_count": 12,
   "id": "2169f98d",
   "metadata": {
    "execution": {
     "iopub.execute_input": "2022-06-23T20:04:11.652161Z",
     "iopub.status.busy": "2022-06-23T20:04:11.651707Z",
     "iopub.status.idle": "2022-06-23T20:04:11.905492Z",
     "shell.execute_reply": "2022-06-23T20:04:11.904548Z"
    },
    "papermill": {
     "duration": 0.27219,
     "end_time": "2022-06-23T20:04:11.907899",
     "exception": false,
     "start_time": "2022-06-23T20:04:11.635709",
     "status": "completed"
    },
    "tags": []
   },
   "outputs": [
    {
     "data": {
      "image/png": "[encoded data removed]",
      "text/plain": [
       "<Figure size 1152x648 with 1 Axes>"
      ]
     },
     "metadata": {},
     "output_type": "display_data"
    }
   ],
   "source": [
    "ylp[idx_single_word][\"sentiment\"].value_counts().plot(kind=\"bar\")\n",
    "plt.yticks(ticks=np.arange(0, 100, 5))\n",
    "plt.show()\n"
   ]
  },
  {
   "cell_type": "markdown",
   "id": "f3748fbc",
   "metadata": {
    "papermill": {
     "duration": 0.014777,
     "end_time": "2022-06-23T20:04:11.937890",
     "exception": false,
     "start_time": "2022-06-23T20:04:11.923113",
     "status": "completed"
    },
    "tags": []
   },
   "source": [
    "as seen in the figure above, there are $90$ negative reviews vs only $30$ positive reviews, both of which hold a single token review\n",
    "\n",
    "dropping the entire $7$ records of non-alphanumeric tokens might cause imbalance, but it might be small, if not negligible\n",
    "\n",
    "> NOTE: the previous figure is a bivariate visualisation\n"
   ]
  },
  {
   "cell_type": "code",
   "execution_count": 13,
   "id": "e3b3fc5b",
   "metadata": {
    "execution": {
     "iopub.execute_input": "2022-06-23T20:04:11.969398Z",
     "iopub.status.busy": "2022-06-23T20:04:11.968964Z",
     "iopub.status.idle": "2022-06-23T20:04:12.036339Z",
     "shell.execute_reply": "2022-06-23T20:04:12.035332Z"
    },
    "papermill": {
     "duration": 0.086059,
     "end_time": "2022-06-23T20:04:12.038790",
     "exception": false,
     "start_time": "2022-06-23T20:04:11.952731",
     "status": "completed"
    },
    "tags": []
   },
   "outputs": [],
   "source": [
    "ylp_processed.drop(index=ylp[idx_empty_reviews].index, inplace=True)\n",
    "# since some of the dropped records is actually a 1 word review, single words count should be updated\n",
    "idx_single_word = ylp_processed[\"word_count\"] == 1\n"
   ]
  },
  {
   "cell_type": "markdown",
   "id": "4ea9deff",
   "metadata": {
    "papermill": {
     "duration": 0.014695,
     "end_time": "2022-06-23T20:04:12.068439",
     "exception": false,
     "start_time": "2022-06-23T20:04:12.053744",
     "status": "completed"
    },
    "tags": []
   },
   "source": [
    "the reviews in its raw form is just text by humans, with simple preprocessing, like turning all token to lowercase, and removing non-alphanumeric characters, then dropping stopwords, we can then have a look at most frequent terms/tokens\n",
    "\n",
    "the intuition is: the top most frequent terms are most likely to be sentiment tokens like `like`, `dislike`, `wow`, `awful`, and so on, but since the nature of the dataset is domain-specific reviews, some of the frequent terms might be a name or identifier of a restaurant or a franchise of diners.\n",
    "\n",
    "---\n",
    "\n",
    "#### Checking most frequent unigrams\n"
   ]
  },
  {
   "cell_type": "code",
   "execution_count": 14,
   "id": "c6bacf0c",
   "metadata": {
    "execution": {
     "iopub.execute_input": "2022-06-23T20:04:12.100262Z",
     "iopub.status.busy": "2022-06-23T20:04:12.099687Z",
     "iopub.status.idle": "2022-06-23T20:04:13.109702Z",
     "shell.execute_reply": "2022-06-23T20:04:13.108522Z"
    },
    "papermill": {
     "duration": 1.029007,
     "end_time": "2022-06-23T20:04:13.112396",
     "exception": false,
     "start_time": "2022-06-23T20:04:12.083389",
     "status": "completed"
    },
    "tags": []
   },
   "outputs": [],
   "source": [
    "# import modules to help with preprocessing\n",
    "from gensim.utils import simple_preprocess\n",
    "from gensim.parsing.preprocessing import STOPWORDS\n",
    "from nltk.corpus import stopwords\n",
    "\n",
    "# combining the stopwords from gensim & nltk\n",
    "STOPWORDS = STOPWORDS.union(frozenset(stopwords.words(\"english\")))\n",
    "\n",
    "def tokenise(string:str, stopwords:frozenset=STOPWORDS) -> list:\n",
    "    \"\"\"\n",
    "    TODO: insert pydoc\n",
    "    \"\"\"\n",
    "    # simple_preprocess breaks a string to tokens, which are lowercase, and with length [2,15] characters\n",
    "    tokens = simple_preprocess(string)\n",
    "    if stopwords:\n",
    "        # dropping stopwords from tokens\n",
    "        tokens = [token for token in tokens if token not in stopwords]\n",
    "    return tokens\n"
   ]
  },
  {
   "cell_type": "code",
   "execution_count": 15,
   "id": "35cdae92",
   "metadata": {
    "execution": {
     "iopub.execute_input": "2022-06-23T20:04:13.145023Z",
     "iopub.status.busy": "2022-06-23T20:04:13.144085Z",
     "iopub.status.idle": "2022-06-23T20:07:27.278861Z",
     "shell.execute_reply": "2022-06-23T20:07:27.277849Z"
    },
    "papermill": {
     "duration": 194.153388,
     "end_time": "2022-06-23T20:07:27.281280",
     "exception": false,
     "start_time": "2022-06-23T20:04:13.127892",
     "status": "completed"
    },
    "tags": []
   },
   "outputs": [],
   "source": [
    "ylp_processed[\"unigram_tokens\"] = ylp_processed[\"review\"].apply(tokenise)\n"
   ]
  },
  {
   "cell_type": "markdown",
   "id": "527809f6",
   "metadata": {
    "papermill": {
     "duration": 0.014703,
     "end_time": "2022-06-23T20:07:27.310910",
     "exception": false,
     "start_time": "2022-06-23T20:07:27.296207",
     "status": "completed"
    },
    "tags": []
   },
   "source": [
    "now let's look at the top $20$ most frequent terms\n"
   ]
  },
  {
   "cell_type": "code",
   "execution_count": 16,
   "id": "de8178e8",
   "metadata": {
    "execution": {
     "iopub.execute_input": "2022-06-23T20:07:27.342985Z",
     "iopub.status.busy": "2022-06-23T20:07:27.342571Z",
     "iopub.status.idle": "2022-06-23T20:07:27.350640Z",
     "shell.execute_reply": "2022-06-23T20:07:27.349647Z"
    },
    "papermill": {
     "duration": 0.026544,
     "end_time": "2022-06-23T20:07:27.352700",
     "exception": false,
     "start_time": "2022-06-23T20:07:27.326156",
     "status": "completed"
    },
    "tags": []
   },
   "outputs": [],
   "source": [
    "# import modules to help with collecting & counting the tokens\n",
    "from itertools import chain\n",
    "from collections import Counter\n",
    "from typing import Union\n",
    "\n",
    "\n",
    "def get_most_common(tokens:Union[list, np.ndarray, pd.Series], n:int=20)->pd.DataFrame:\n",
    "    \"\"\"\n",
    "    TODO: insert pydoc\n",
    "    \"\"\"\n",
    "    # get a single list of tokens, \n",
    "    all_tokens = chain.from_iterable(tokens)\n",
    "    # get a counter dict from tokens\n",
    "    token_count = Counter(all_tokens)\n",
    "    # return top n most common\n",
    "    most_common = pd.DataFrame(token_count.most_common(n))\n",
    "    most_common.columns = [\"token\", \"frequency\"]\n",
    "    return most_common.set_index(\"token\")\n"
   ]
  },
  {
   "cell_type": "code",
   "execution_count": 17,
   "id": "3afcb8e8",
   "metadata": {
    "execution": {
     "iopub.execute_input": "2022-06-23T20:07:27.384070Z",
     "iopub.status.busy": "2022-06-23T20:07:27.383672Z",
     "iopub.status.idle": "2022-06-23T20:07:33.269941Z",
     "shell.execute_reply": "2022-06-23T20:07:33.268858Z"
    },
    "papermill": {
     "duration": 5.904674,
     "end_time": "2022-06-23T20:07:33.272504",
     "exception": false,
     "start_time": "2022-06-23T20:07:27.367830",
     "status": "completed"
    },
    "tags": []
   },
   "outputs": [
    {
     "data": {
      "image/png": "[encoded data removed]",
      "text/plain": [
       "<Figure size 1152x648 with 1 Axes>"
      ]
     },
     "metadata": {},
     "output_type": "display_data"
    }
   ],
   "source": [
    "# most_common_tokens = pd.DataFrame(Counter(chain.from_iterable(ylp_processed[\"review_tokens\"].values)).most_common(20))\n",
    "most_common_tokens = get_most_common(ylp_processed[\"unigram_tokens\"])\n",
    "# most_common_tokens.columns = [\"token\", \"frequency\"]\n",
    "# most_common_tokens.set_index(\"token\", inplace=True)\n",
    "most_common_tokens.plot(kind=\"bar\")\n",
    "plt.xticks(rotation=45)\n",
    "plt.show()\n"
   ]
  },
  {
   "cell_type": "markdown",
   "id": "cd6b653e",
   "metadata": {
    "papermill": {
     "duration": 0.015076,
     "end_time": "2022-06-23T20:07:33.303917",
     "exception": false,
     "start_time": "2022-06-23T20:07:33.288841",
     "status": "completed"
    },
    "tags": []
   },
   "source": [
    "Notes:\n",
    "\n",
    "- as seen, the most 2 frequent words are from the domain `food` & `place`\n",
    "- the following most frequent words have `good`, `like`, `great`\n",
    "- there are tokens `ni`, `nthe` which are not common words, yet are frequent\n",
    "\n",
    "the `ni` & `nthe` tokens seems susbicious, let's check that\n"
   ]
  },
  {
   "cell_type": "code",
   "execution_count": 18,
   "id": "02fc26b7",
   "metadata": {
    "execution": {
     "iopub.execute_input": "2022-06-23T20:07:33.336308Z",
     "iopub.status.busy": "2022-06-23T20:07:33.335250Z",
     "iopub.status.idle": "2022-06-23T20:07:34.037833Z",
     "shell.execute_reply": "2022-06-23T20:07:34.036758Z"
    },
    "papermill": {
     "duration": 0.721365,
     "end_time": "2022-06-23T20:07:34.040233",
     "exception": false,
     "start_time": "2022-06-23T20:07:33.318868",
     "status": "completed"
    },
    "tags": []
   },
   "outputs": [
    {
     "data": {
      "text/plain": [
       "array(['I got \\'new\\' tires from them and within two weeks got a flat. I took my car to a local mechanic to see if i could get the hole patched, but they said the reason I had a flat was because the previous patch had blown - WAIT, WHAT? I just got the tire and never needed to have it patched? This was supposed to be a new tire. \\\\nI took the tire over to Flynn\\'s and they told me that someone punctured my tire, then tried to patch it. So there are resentful tire slashers? I find that very unlikely. After arguing with the guy and telling him that his logic was far fetched he said he\\'d give me a new tire \\\\\"this time\\\\\". \\\\nI will never go back to Flynn\\'s b/c of the way this guy treated me and the simple fact that they gave me a used tire!',\n",
       "       'I will start by saying we have a nice new deck. That is where the good part ends.\\\\n\\\\nWhy two stars if we have a nice deck now? Well, it all started in May when we had a man named Al come out and talk to us about the process. He was a true salesman, I\\'ll tell you that. Not a straight shooter, but an excited salesman that wanted to sell... And we bought into it.\\\\n\\\\nHe told us they were backed up with the harsh winter and a lot of jobs, but they could probably start by June 24th. Mind you, this was the end of May we met with him. He said they would have to do a survey of our land and get a permit from Dormont before they started. We felt confident in going with them, and booked it.\\\\n\\\\nHere\\'s where things fell apart. Weeks went by with no word from them on the process. Finally I called and left messages. Al finally got in touch with me and the conversation was utterly confusing. He must have not understood me because he just kept talking in circles. So I hung up not knowing what was going on. Finally I called back and the admin told me that the survey could take a couple weeks to come back. I wish Al would have told us that.\\\\n\\\\nSo our June 24th date came and went. We finally got our survey. And they were quick to bill us for it, but no word on where we were in the process. I called back a couple times with no real answers from the admin. Apparently they were now waiting for the permit from Dormont.\\\\n\\\\nA month later, I was frustrated and asked to speak with someone at the company. I spoke with someone who told me that Dormont usually takes a week to process the permit, but we were now going on a month. He told me he would bug the guy about it and we finally got it. \\\\n\\\\nI completely understand that waiting on the permit is not their fault, but why no communication about it? Just call me and tell me they\\'re waiting for the permit, but they\\'ll work towards asking Dormont what the hold up is. Seems simple.\\\\n\\\\nFinally we get the permit and work is supposed to start. Tuesday comes and they have to wait for approval from Dormont on holes they\\'re digging. So holes are dug and equipment is put in my backyard and then nothing happens for two days. Where did everyone go? Who knows, because I wasn\\'t informed! \\\\n\\\\nI was upset and contacted the company owner, Dave, by email. I told him how frustrated I was about the lack of communication. He wrote me two sentences that  said \\\\\"there will be acres there tomorrow morning to finish and most will be done tomorrow.\\\\\" Well, that didn\\'t happen.\\\\n\\\\nThen two other dudes show up two days later and did work for about three hours and left. The main guy comes back the next day and says they did it wrong. So apparently the part about how they wouldn\\'t need access to my house changes to they\\'re drilling bolts into my house to secure he deck. \\\\n\\\\nFinally, the second week into construction, my tiny 10x11 foot deck is done. It was upsetting that they left the deck dirty, and all the dirt and cement they moved around wasn\\'t cleaned up. I even asked them to fill all the holes they dug up and didn\\'t use, and they only filled up one. When you create a construction project, isn\\'t it just good business to clean it up and make it look nice? Didn\\'t happen here.\\\\n\\\\nMy main point is, contractors have a reputation for not being the most trustworthy. Why be that company? Why not be an upstanding company that consumers can trust? My main issues with them were that things were not communicated to me properly up front, nor was the ongoing process communicated to me. Then they left everything unfinished in my eyes, leaving the site dirty. I understand things happen and things get delayed, but just email or call me. It\\'s not that hard to keep me updated, it is 2014 with a million ways to be contacted.\\\\n\\\\nEven though I have a nice deck (after I clean things up myself!), I would not recommend them to anyone.',\n",
       "       \"Two meals, on the recommendation of a friend who lives near the place, and after the second trip, I was compelled to write. 'Rocky' would definitely describe the experiences.\\\\n\\\\nOn the first trip, I went to try their (at that time)raved about Reuben. And YET to find a true good Reuben in da burgh, I tried it.\\\\n\\\\nWell, they were out of the proper bread, and the guy had to run to the store to buy the closest thing he could find, which was not the proper bread, and instead of one of their 'raved about' Reubens, I received two mini-Reubens, which basically took the guts from one Reuben, and spread it out onto two sandwiches on regular sized bread. I ate it. It wasn't great, but they swore it was because they'd run out of the bread. Bread or not, it still wasn't great. The atmosphere was pleasant in that 'blue collar bar' kind of way, and the staff was very nice, but not a winning pitch on the Reuben.\\\\n\\\\nThe second trip was after a long day of moving furniture with the same friend. Sat in the back room, instead of the bar, which felt more like a restaurant, of course, with the big screen TV covering the sports of the moment.\\\\n\\\\nI was in the mood for dinner this time, and after a scan, decided on fried chicken and mashed potatoes with the salad bar. My friend ordered one of her faves, the breaded pork chops.\\\\n\\\\nWe hit the salad bar, which was uber-basic. Three soups (mostly vegetable loaded, which left me out), basic iceberg lettuce mix (very probably out of a bag), a few veggie toppings, and three or four dressings. It was a basic salad, no big deal. More or less an appetizer filler before the meal.\\\\n\\\\nThe mind-blower in this trip was the ordering of the fried chicken dinner. Our waiter looked like a 19 year old gas station attendant, skinny little blonde guy with a sweet but incredibly naive face, and an air of vapidity, which was confirmed when I placed my order. I asked what chicken pieces came in the dinner, and asked if it was possible to only get dark meat. I never imagined how confusing a question that could possibly be. It literally took him two trips back to the kitchen to 'ask', and the child honestly had no clue what 'white meat' and 'dark meat' meant. The first answer he came back with was that the chicken came in a pre-portioned prepared bag, kind of Kentucky Fried Chicken style...which didn't answer my question, thus prompting the second trip. \\\\n\\\\nAfter the second trip back I heard the cook holler 'Tell him I'll fix him up'. \\\\n\\\\nWell, the chicken was prepackaged dreck like you'd find in the freezer case of Walmart, tiny and not good, and the potatoes had that slight tinge of chem-spuds flavor, laden with some kind of chopped up green (parsley?), and a side of that basic brown gravy served up in 5 gallon buckets.\\\\n\\\\nThank goodness for the basic salad bar.\\\\n\\\\nEven my friend admitted that her pork chops were different and not what she'd expected. They also appeared to be from a freezer bag.\\\\n\\\\nThe irony was that the boy who didn't know white meat from dark meat, was chatting with some other customers...about baseball...and he was a genius about the mindless sport of baseball. Ahhhh da burgh.\\\\n\\\\nThird base? Nah...why bother when there are so many other options around. Go on in a grab a beer and chat black and gold if you happen to be in Carnegie...they can help you out all types of ways in that area. Just don't go hungry if you actually have tastebuds.\\\\n\\\\nFrom what I understand it 'used to be' really good homecooked food. But apparently, mama has left the kitchen.\",\n",
       "       \"The biggest breakfast in Pittsburgh, as far as I can tell - and delicious and cheap too. I ordered some mix of eggs, bacon and pancakes - and got 2 dinner-sized plates, one loaded with pancakes and the other stuffed with eggs, bacon, and home fries. Oh, and a side of toast. For under $5, if I recall.\\\\n\\\\nHUGE portions, all well-executed; as good as DeLuca's.\\\\n\\\\nI've not had anything besides breakfast, so can't comment on the burger or anything else.\\\\n\\\\nCramped quarters, and you'll have to wait, but when nothing but monster morning food will do, this is the destination.\",\n",
       "       \"Barb's Country Junction gets a 5 star rating for me because it is truly everything that a Pittsburgh restaurant should be.  In addition to being the apple of my nostalgia's eye, it is also the constant thought of my tummy when I'm hungry on the weekends.  \\\\n\\\\nBarb's breakfasts cannot be beat, but truly any meal you get there you won't regret.  Everything is made to order, with fair portions, and great prices. My recommendation is a breakfast sandwich on a bagel and a coffee.  There's nothing better than drinking from a cup that could have come from your grandma's kitchen.\\\\n\\\\nI know that Gab N Eat is nearby, and Barb's can be a little weird get to with the strange traffic pattern but this really is a gem of Carnegie that you've gotta try!\"],\n",
       "      dtype=object)"
      ]
     },
     "execution_count": 18,
     "metadata": {},
     "output_type": "execute_result"
    }
   ],
   "source": [
    "ylp_ni = ylp_processed[\"unigram_tokens\"].apply(lambda tokens: \"ni\" in tokens)\n",
    "idx_ni = ylp_ni == True\n",
    "ylp_processed[idx_ni][\"review\"].head().values\n"
   ]
  },
  {
   "cell_type": "markdown",
   "id": "a127b6de",
   "metadata": {
    "papermill": {
     "duration": 0.015116,
     "end_time": "2022-06-23T20:07:34.071706",
     "exception": false,
     "start_time": "2022-06-23T20:07:34.056590",
     "status": "completed"
    },
    "tags": []
   },
   "source": [
    "seems as if some reviews have the new line token `\\n` escaped, that is it appears as `\\\\n`, that's a problem, cause that just introduced an unreal token\n",
    "\n",
    "let's get that fixed\n"
   ]
  },
  {
   "cell_type": "code",
   "execution_count": 19,
   "id": "ec34ad11",
   "metadata": {
    "execution": {
     "iopub.execute_input": "2022-06-23T20:07:34.104877Z",
     "iopub.status.busy": "2022-06-23T20:07:34.104508Z",
     "iopub.status.idle": "2022-06-23T20:10:49.336522Z",
     "shell.execute_reply": "2022-06-23T20:10:49.335562Z"
    },
    "papermill": {
     "duration": 195.251786,
     "end_time": "2022-06-23T20:10:49.339293",
     "exception": false,
     "start_time": "2022-06-23T20:07:34.087507",
     "status": "completed"
    },
    "tags": []
   },
   "outputs": [],
   "source": [
    "# replacing escaped new line with a space\n",
    "ylp_processed[\"review\"] = ylp_processed[\"review\"].apply(lambda rev: re.sub(r\"\\\\n\", \" \", rev))\n",
    "# now after replacement, let's re-tokenise the reviews\n",
    "ylp_processed[\"unigram_tokens\"] = ylp_processed[\"review\"].apply(tokenise)\n"
   ]
  },
  {
   "cell_type": "markdown",
   "id": "4cb7573b",
   "metadata": {
    "papermill": {
     "duration": 0.016153,
     "end_time": "2022-06-23T20:10:49.372032",
     "exception": false,
     "start_time": "2022-06-23T20:10:49.355879",
     "status": "completed"
    },
    "tags": []
   },
   "source": [
    "after fixing that issue, and re-tokenising, let's recheck the top most frequent terms\n"
   ]
  },
  {
   "cell_type": "code",
   "execution_count": 20,
   "id": "20ddc4b9",
   "metadata": {
    "execution": {
     "iopub.execute_input": "2022-06-23T20:10:49.405629Z",
     "iopub.status.busy": "2022-06-23T20:10:49.405081Z",
     "iopub.status.idle": "2022-06-23T20:10:55.208706Z",
     "shell.execute_reply": "2022-06-23T20:10:55.207625Z"
    },
    "papermill": {
     "duration": 5.823023,
     "end_time": "2022-06-23T20:10:55.210948",
     "exception": false,
     "start_time": "2022-06-23T20:10:49.387925",
     "status": "completed"
    },
    "tags": []
   },
   "outputs": [
    {
     "data": {
      "image/png": "[encoded data removed]",
      "text/plain": [
       "<Figure size 1152x648 with 1 Axes>"
      ]
     },
     "metadata": {},
     "output_type": "display_data"
    }
   ],
   "source": [
    "most_common_tokens = get_most_common(ylp_processed[\"unigram_tokens\"])\n",
    "most_common_tokens.plot(kind=\"bar\")\n",
    "plt.xticks(rotation=45)\n",
    "plt.show()\n"
   ]
  },
  {
   "cell_type": "markdown",
   "id": "1a765f3e",
   "metadata": {
    "papermill": {
     "duration": 0.015515,
     "end_time": "2022-06-23T20:10:55.242600",
     "exception": false,
     "start_time": "2022-06-23T20:10:55.227085",
     "status": "completed"
    },
    "tags": []
   },
   "source": [
    "> now it is also possible to check bigrams & trigrams\n"
   ]
  },
  {
   "cell_type": "code",
   "execution_count": 21,
   "id": "2d5f3ea0",
   "metadata": {
    "execution": {
     "iopub.execute_input": "2022-06-23T20:10:55.277267Z",
     "iopub.status.busy": "2022-06-23T20:10:55.276357Z",
     "iopub.status.idle": "2022-06-23T20:10:55.283724Z",
     "shell.execute_reply": "2022-06-23T20:10:55.282741Z"
    },
    "papermill": {
     "duration": 0.027794,
     "end_time": "2022-06-23T20:10:55.286245",
     "exception": false,
     "start_time": "2022-06-23T20:10:55.258451",
     "status": "completed"
    },
    "tags": []
   },
   "outputs": [],
   "source": [
    "def build_polygram(tokens: Union[list, np.ndarray], n:int=2)->list:\n",
    "    \"\"\"from a list of tokens, build a list of n-polygrams\n",
    "    \n",
    "    TODO: complete pydoc\n",
    "    \"\"\"\n",
    "    polygrams_length = len(tokens) - (n - 1)\n",
    "    token_matrix = [tokens[i:polygrams_length+i] for i in range(n)]\n",
    "    res = []\n",
    "    for j in range(polygrams_length):\n",
    "        polygram = \"\"\n",
    "        for i in range(n):\n",
    "            polygram += \" \" + token_matrix[i][j]\n",
    "        res.append(polygram)\n",
    "    return res\n"
   ]
  },
  {
   "cell_type": "code",
   "execution_count": 22,
   "id": "f08156aa",
   "metadata": {
    "execution": {
     "iopub.execute_input": "2022-06-23T20:10:55.320666Z",
     "iopub.status.busy": "2022-06-23T20:10:55.320010Z",
     "iopub.status.idle": "2022-06-23T20:12:10.521960Z",
     "shell.execute_reply": "2022-06-23T20:12:10.521045Z"
    },
    "papermill": {
     "duration": 75.23813,
     "end_time": "2022-06-23T20:12:10.540724",
     "exception": false,
     "start_time": "2022-06-23T20:10:55.302594",
     "status": "completed"
    },
    "tags": []
   },
   "outputs": [
    {
     "data": {
      "text/html": [
       "<div>\n",
       "<style scoped>\n",
       "    .dataframe tbody tr th:only-of-type {\n",
       "        vertical-align: middle;\n",
       "    }\n",
       "\n",
       "    .dataframe tbody tr th {\n",
       "        vertical-align: top;\n",
       "    }\n",
       "\n",
       "    .dataframe thead th {\n",
       "        text-align: right;\n",
       "    }\n",
       "</style>\n",
       "<table border=\"1\" class=\"dataframe\">\n",
       "  <thead>\n",
       "    <tr style=\"text-align: right;\">\n",
       "      <th></th>\n",
       "      <th>sentiment</th>\n",
       "      <th>review</th>\n",
       "      <th>word_count</th>\n",
       "      <th>review_length</th>\n",
       "      <th>unigram_tokens</th>\n",
       "      <th>bigram_tokens</th>\n",
       "      <th>trigram_tokens</th>\n",
       "    </tr>\n",
       "  </thead>\n",
       "  <tbody>\n",
       "    <tr>\n",
       "      <th>0</th>\n",
       "      <td>NEG</td>\n",
       "      <td>Unfortunately, the frustration of being Dr. Go...</td>\n",
       "      <td>121</td>\n",
       "      <td>643</td>\n",
       "      <td>[unfortunately, frustration, dr, goldberg, pat...</td>\n",
       "      <td>[ unfortunately frustration,  frustration dr, ...</td>\n",
       "      <td>[ unfortunately frustration dr,  frustration d...</td>\n",
       "    </tr>\n",
       "    <tr>\n",
       "      <th>1</th>\n",
       "      <td>POS</td>\n",
       "      <td>Been going to Dr. Goldberg for over 10 years. ...</td>\n",
       "      <td>100</td>\n",
       "      <td>495</td>\n",
       "      <td>[going, dr, goldberg, years, think, st, patien...</td>\n",
       "      <td>[ going dr,  dr goldberg,  goldberg years,  ye...</td>\n",
       "      <td>[ going dr goldberg,  dr goldberg years,  gold...</td>\n",
       "    </tr>\n",
       "    <tr>\n",
       "      <th>2</th>\n",
       "      <td>NEG</td>\n",
       "      <td>I don't know what Dr. Goldberg was like before...</td>\n",
       "      <td>216</td>\n",
       "      <td>1143</td>\n",
       "      <td>[know, dr, goldberg, like, moving, arizona, le...</td>\n",
       "      <td>[ know dr,  dr goldberg,  goldberg like,  like...</td>\n",
       "      <td>[ know dr goldberg,  dr goldberg like,  goldbe...</td>\n",
       "    </tr>\n",
       "    <tr>\n",
       "      <th>3</th>\n",
       "      <td>NEG</td>\n",
       "      <td>I'm writing this review to give you a heads up...</td>\n",
       "      <td>206</td>\n",
       "      <td>1050</td>\n",
       "      <td>[writing, review, heads, doctor, office, staff...</td>\n",
       "      <td>[ writing review,  review heads,  heads doctor...</td>\n",
       "      <td>[ writing review heads,  review heads doctor, ...</td>\n",
       "    </tr>\n",
       "    <tr>\n",
       "      <th>4</th>\n",
       "      <td>POS</td>\n",
       "      <td>All the food is great here. But the best thing...</td>\n",
       "      <td>79</td>\n",
       "      <td>425</td>\n",
       "      <td>[food, great, best, thing, wings, wings, simpl...</td>\n",
       "      <td>[ food great,  great best,  best thing,  thing...</td>\n",
       "      <td>[ food great best,  great best thing,  best th...</td>\n",
       "    </tr>\n",
       "  </tbody>\n",
       "</table>\n",
       "</div>"
      ],
      "text/plain": [
       "  sentiment                                             review  word_count  \\\n",
       "0       NEG  Unfortunately, the frustration of being Dr. Go...         121   \n",
       "1       POS  Been going to Dr. Goldberg for over 10 years. ...         100   \n",
       "2       NEG  I don't know what Dr. Goldberg was like before...         216   \n",
       "3       NEG  I'm writing this review to give you a heads up...         206   \n",
       "4       POS  All the food is great here. But the best thing...          79   \n",
       "\n",
       "   review_length                                     unigram_tokens  \\\n",
       "0            643  [unfortunately, frustration, dr, goldberg, pat...   \n",
       "1            495  [going, dr, goldberg, years, think, st, patien...   \n",
       "2           1143  [know, dr, goldberg, like, moving, arizona, le...   \n",
       "3           1050  [writing, review, heads, doctor, office, staff...   \n",
       "4            425  [food, great, best, thing, wings, wings, simpl...   \n",
       "\n",
       "                                       bigram_tokens  \\\n",
       "0  [ unfortunately frustration,  frustration dr, ...   \n",
       "1  [ going dr,  dr goldberg,  goldberg years,  ye...   \n",
       "2  [ know dr,  dr goldberg,  goldberg like,  like...   \n",
       "3  [ writing review,  review heads,  heads doctor...   \n",
       "4  [ food great,  great best,  best thing,  thing...   \n",
       "\n",
       "                                      trigram_tokens  \n",
       "0  [ unfortunately frustration dr,  frustration d...  \n",
       "1  [ going dr goldberg,  dr goldberg years,  gold...  \n",
       "2  [ know dr goldberg,  dr goldberg like,  goldbe...  \n",
       "3  [ writing review heads,  review heads doctor, ...  \n",
       "4  [ food great best,  great best thing,  best th...  "
      ]
     },
     "execution_count": 22,
     "metadata": {},
     "output_type": "execute_result"
    }
   ],
   "source": [
    "ylp_processed[\"bigram_tokens\"] = ylp_processed[\"unigram_tokens\"].apply(build_polygram, n=2)\n",
    "ylp_processed[\"trigram_tokens\"] = ylp_processed[\"unigram_tokens\"].apply(build_polygram, n=3)\n",
    "ylp_processed.head()\n"
   ]
  },
  {
   "cell_type": "markdown",
   "id": "f8a3ab1b",
   "metadata": {
    "papermill": {
     "duration": 0.015947,
     "end_time": "2022-06-23T20:12:10.572981",
     "exception": false,
     "start_time": "2022-06-23T20:12:10.557034",
     "status": "completed"
    },
    "tags": []
   },
   "source": [
    "now to investigate the polyvariates frequencies:\n",
    "\n",
    "1. get the frequencies of both bigrams & trigrams\n",
    "2. prepare visual axis\n",
    "3. draw the frequencies\n"
   ]
  },
  {
   "cell_type": "code",
   "execution_count": 23,
   "id": "6cc5235b",
   "metadata": {
    "execution": {
     "iopub.execute_input": "2022-06-23T20:12:10.607523Z",
     "iopub.status.busy": "2022-06-23T20:12:10.607004Z",
     "iopub.status.idle": "2022-06-23T20:12:53.613504Z",
     "shell.execute_reply": "2022-06-23T20:12:53.612240Z"
    },
    "papermill": {
     "duration": 43.049418,
     "end_time": "2022-06-23T20:12:53.638715",
     "exception": false,
     "start_time": "2022-06-23T20:12:10.589297",
     "status": "completed"
    },
    "tags": []
   },
   "outputs": [
    {
     "data": {
      "image/png": "[encoded data removed]",
      "text/plain": [
       "<Figure size 1152x648 with 2 Axes>"
      ]
     },
     "metadata": {},
     "output_type": "display_data"
    }
   ],
   "source": [
    "# let's collect the frequencies\n",
    "most_common_bigram = get_most_common(ylp_processed[\"bigram_tokens\"])\n",
    "most_common_trigram = get_most_common(ylp_processed[\"trigram_tokens\"])\n",
    "\n",
    "# creating axes\n",
    "_, axes = plt.subplots(1, 2)\n",
    "\n",
    "# drawing frequencies visuals\n",
    "most_common_bigram.plot(kind=\"barh\", ax=axes[0], label=\"Bigram frequency\")\n",
    "most_common_trigram.plot(kind=\"barh\", ax=axes[1], label=\"Trigram frequency\")\n",
    "plt.show()\n"
   ]
  },
  {
   "cell_type": "markdown",
   "id": "d5b88e5b",
   "metadata": {
    "papermill": {
     "duration": 0.017941,
     "end_time": "2022-06-23T20:12:53.674821",
     "exception": false,
     "start_time": "2022-06-23T20:12:53.656880",
     "status": "completed"
    },
    "tags": []
   },
   "source": [
    "as seen from the bigram visuals:\n",
    "\n",
    "- bigrams might hint that customer service is the most common topic to be mentioned in a review, arriving at over $30$K reviews\n",
    "- a considerable amount (~ $20$K) reviews mentioned `Las Vegas`, most likely the dataset is from restaurants of this area\n",
    "- most of the remaining frequent terms are combinations of `good`, `great`, `love`, etc with objects like `food`, `service` `staff`, or verbs `feel`, `felt`, `tasted`\n",
    "\n",
    "as seen from trigram visuals:\n",
    "\n",
    "- `sweet potato fries` are a very common order with frequency almost $2.75$K\n",
    "- customer service also keeps appearing a lot, but in trigrams where it is described as either `good`, `worst`, `best`, `poor`\n",
    "- some reviews had expressions like `long story short`, `love love love`, which are less informative than their peers in the figure\n",
    "\n",
    "---\n",
    "\n",
    "## Bivariate exploration\n",
    "\n",
    "<!-- let's start by looking at if having a single word review relates to one class than others -->\n",
    "we have seen earlier that a single token review is more likely to be a negative review, than a positive one, let's see it again\n"
   ]
  },
  {
   "cell_type": "code",
   "execution_count": 24,
   "id": "bd5d422b",
   "metadata": {
    "execution": {
     "iopub.execute_input": "2022-06-23T20:12:53.713086Z",
     "iopub.status.busy": "2022-06-23T20:12:53.712652Z",
     "iopub.status.idle": "2022-06-23T20:12:54.014442Z",
     "shell.execute_reply": "2022-06-23T20:12:54.013195Z"
    },
    "papermill": {
     "duration": 0.323943,
     "end_time": "2022-06-23T20:12:54.016865",
     "exception": false,
     "start_time": "2022-06-23T20:12:53.692922",
     "status": "completed"
    },
    "tags": []
   },
   "outputs": [
    {
     "data": {
      "image/png": "[encoded data removed]",
      "text/plain": [
       "<Figure size 1152x648 with 1 Axes>"
      ]
     },
     "metadata": {},
     "output_type": "display_data"
    }
   ],
   "source": [
    "ylp[ylp.index.isin(idx_single_word.index)][idx_single_word][\"sentiment\"].value_counts().plot(kind=\"bar\")\n",
    "plt.yticks(ticks=np.arange(0, 100, 5))\n",
    "plt.show()\n"
   ]
  },
  {
   "cell_type": "markdown",
   "id": "07d1c366",
   "metadata": {
    "papermill": {
     "duration": 0.017923,
     "end_time": "2022-06-23T20:12:54.053232",
     "exception": false,
     "start_time": "2022-06-23T20:12:54.035309",
     "status": "completed"
    },
    "tags": []
   },
   "source": [
    "as the figure shows, a one word review is more common w/ negative reviews than positive.\n",
    "\n",
    "negative at $90$ ($75\\%$), and positive at $30$ ($25\\%$) (negative is $3$ times more likely than positive)\n",
    "\n",
    "---\n",
    "\n",
    "let's see the most frequent unigrams against sentiment\n"
   ]
  },
  {
   "cell_type": "code",
   "execution_count": 25,
   "id": "644720da",
   "metadata": {
    "execution": {
     "iopub.execute_input": "2022-06-23T20:12:54.092287Z",
     "iopub.status.busy": "2022-06-23T20:12:54.091658Z",
     "iopub.status.idle": "2022-06-23T20:13:00.971494Z",
     "shell.execute_reply": "2022-06-23T20:13:00.970744Z"
    },
    "papermill": {
     "duration": 6.902019,
     "end_time": "2022-06-23T20:13:00.973686",
     "exception": false,
     "start_time": "2022-06-23T20:12:54.071667",
     "status": "completed"
    },
    "tags": []
   },
   "outputs": [
    {
     "data": {
      "image/png": "[encoded data removed]",
      "text/plain": [
       "<Figure size 1152x1296 with 2 Axes>"
      ]
     },
     "metadata": {},
     "output_type": "display_data"
    }
   ],
   "source": [
    "ylp_neg = ylp_processed[ylp_processed[\"sentiment\"] == \"NEG\"]\n",
    "ylp_pos = ylp_processed[ylp_processed[\"sentiment\"] == \"POS\"]\n",
    "\n",
    "most_common_uni_neg = get_most_common(ylp_neg[\"unigram_tokens\"])\n",
    "most_common_uni_pos = get_most_common(ylp_pos[\"unigram_tokens\"])\n",
    "\n",
    "_, axes = plt.subplots(2, 1, sharex=True, figsize=(16,18))\n",
    "\n",
    "most_common_uni_neg.plot(kind=\"barh\", ax=axes[0], label=\"negative\")\n",
    "axes[0].set_xlabel(\"negative\")\n",
    "most_common_uni_pos.plot(kind=\"barh\", ax=axes[1], label=\"positive\")\n",
    "axes[1].set_xlabel(\"positive\")\n",
    "\n",
    "plt.show()\n"
   ]
  },
  {
   "cell_type": "markdown",
   "id": "53d9719e",
   "metadata": {
    "papermill": {
     "duration": 0.018504,
     "end_time": "2022-06-23T20:13:01.011012",
     "exception": false,
     "start_time": "2022-06-23T20:13:00.992508",
     "status": "completed"
    },
    "tags": []
   },
   "source": [
    "as noted from the graphes, most terms are frequent with both negatvie & positive: `like`, `place`, `food`, etc.\n",
    "\n",
    "so let's try to see how such terms compare to each other\n"
   ]
  },
  {
   "cell_type": "code",
   "execution_count": 26,
   "id": "6d50f018",
   "metadata": {
    "execution": {
     "iopub.execute_input": "2022-06-23T20:13:01.050986Z",
     "iopub.status.busy": "2022-06-23T20:13:01.050381Z",
     "iopub.status.idle": "2022-06-23T20:13:01.059518Z",
     "shell.execute_reply": "2022-06-23T20:13:01.058738Z"
    },
    "papermill": {
     "duration": 0.031589,
     "end_time": "2022-06-23T20:13:01.061588",
     "exception": false,
     "start_time": "2022-06-23T20:13:01.029999",
     "status": "completed"
    },
    "tags": []
   },
   "outputs": [
    {
     "data": {
      "text/html": [
       "<div>\n",
       "<style scoped>\n",
       "    .dataframe tbody tr th:only-of-type {\n",
       "        vertical-align: middle;\n",
       "    }\n",
       "\n",
       "    .dataframe tbody tr th {\n",
       "        vertical-align: top;\n",
       "    }\n",
       "\n",
       "    .dataframe thead th {\n",
       "        text-align: right;\n",
       "    }\n",
       "</style>\n",
       "<table border=\"1\" class=\"dataframe\">\n",
       "  <thead>\n",
       "    <tr style=\"text-align: right;\">\n",
       "      <th></th>\n",
       "      <th>frequency</th>\n",
       "    </tr>\n",
       "    <tr>\n",
       "      <th>token</th>\n",
       "      <th></th>\n",
       "    </tr>\n",
       "  </thead>\n",
       "  <tbody>\n",
       "    <tr>\n",
       "      <th>food</th>\n",
       "      <td>193352</td>\n",
       "    </tr>\n",
       "    <tr>\n",
       "      <th>place</th>\n",
       "      <td>165478</td>\n",
       "    </tr>\n",
       "    <tr>\n",
       "      <th>like</th>\n",
       "      <td>153789</td>\n",
       "    </tr>\n",
       "    <tr>\n",
       "      <th>good</th>\n",
       "      <td>133672</td>\n",
       "    </tr>\n",
       "    <tr>\n",
       "      <th>service</th>\n",
       "      <td>130164</td>\n",
       "    </tr>\n",
       "  </tbody>\n",
       "</table>\n",
       "</div>"
      ],
      "text/plain": [
       "         frequency\n",
       "token             \n",
       "food        193352\n",
       "place       165478\n",
       "like        153789\n",
       "good        133672\n",
       "service     130164"
      ]
     },
     "execution_count": 26,
     "metadata": {},
     "output_type": "execute_result"
    }
   ],
   "source": [
    "most_common_uni_neg.head()\n"
   ]
  },
  {
   "cell_type": "code",
   "execution_count": 27,
   "id": "b6a44233",
   "metadata": {
    "execution": {
     "iopub.execute_input": "2022-06-23T20:13:01.101184Z",
     "iopub.status.busy": "2022-06-23T20:13:01.100448Z",
     "iopub.status.idle": "2022-06-23T20:13:01.454893Z",
     "shell.execute_reply": "2022-06-23T20:13:01.453910Z"
    },
    "papermill": {
     "duration": 0.376927,
     "end_time": "2022-06-23T20:13:01.457334",
     "exception": false,
     "start_time": "2022-06-23T20:13:01.080407",
     "status": "completed"
    },
    "tags": []
   },
   "outputs": [
    {
     "data": {
      "image/png": "[encoded data removed]",
      "text/plain": [
       "<Figure size 1152x648 with 1 Axes>"
      ]
     },
     "metadata": {},
     "output_type": "display_data"
    }
   ],
   "source": [
    "common_tokens = set(most_common_uni_neg.index.values) & set(most_common_uni_pos.index.values)\n",
    "\n",
    "idx_neg = most_common_uni_neg.index.isin(common_tokens)\n",
    "idx_pos = most_common_uni_pos.index.isin(common_tokens)\n",
    "\n",
    "most_common_uni_neg.drop(index=most_common_uni_neg[~idx_neg].index, inplace=True)\n",
    "most_common_uni_pos.drop(index=most_common_uni_pos[~idx_pos].index, inplace=True)\n",
    "\n",
    "most_common_uni_neg.sort_index(inplace=True)\n",
    "most_common_uni_pos.sort_index(inplace=True)\n",
    "\n",
    "\n",
    "width = .35\n",
    "x = np.arange(len(most_common_uni_neg))\n",
    "_, ax = plt.subplots()\n",
    "\n",
    "neg = ax.bar(x - width/2, most_common_uni_neg[\"frequency\"], width, label=\"negative\")\n",
    "pos = ax.bar(x + width/2, most_common_uni_pos[\"frequency\"], width, label=\"positive\")\n",
    "\n",
    "ax.set_xticks(x, most_common_uni_neg.index)\n",
    "ax.legend()\n",
    "\n",
    "ax.bar_label(neg)\n",
    "ax.bar_label(pos)\n",
    "\n",
    "plt.show()\n"
   ]
  },
  {
   "cell_type": "markdown",
   "id": "6aaf5894",
   "metadata": {
    "papermill": {
     "duration": 0.019232,
     "end_time": "2022-06-23T20:13:01.496640",
     "exception": false,
     "start_time": "2022-06-23T20:13:01.477408",
     "status": "completed"
    },
    "tags": []
   },
   "source": [
    "seems only `good` is the one more used with positive than negative (as intuition might suggest)\n",
    "\n",
    "another intuition about why `good` is mentioned in negative class, is: since this is a unigram analysis, it could appear as a part of a polygram, like `not good`, or `less than good`, or something similar\n"
   ]
  }
 ],
 "metadata": {
  "kernelspec": {
   "display_name": "Python 3",
   "language": "python",
   "name": "python3"
  },
  "language_info": {
   "codemirror_mode": {
    "name": "ipython",
    "version": 3
   },
   "file_extension": ".py",
   "mimetype": "text/x-python",
   "name": "python",
   "nbconvert_exporter": "python",
   "pygments_lexer": "ipython3",
   "version": "3.7.12"
  },
  "papermill": {
   "default_parameters": {},
   "duration": 697.786082,
   "end_time": "2022-06-23T20:13:04.541742",
   "environment_variables": {},
   "exception": null,
   "input_path": "__notebook__.ipynb",
   "output_path": "__notebook__.ipynb",
   "parameters": {},
   "start_time": "2022-06-23T20:01:26.755660",
   "version": "2.3.4"
  }
 },
 "nbformat": 4,
 "nbformat_minor": 5
}
