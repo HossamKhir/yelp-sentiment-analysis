{
 "cells": [
  {
   "cell_type": "markdown",
   "id": "b56bd5a4",
   "metadata": {
    "papermill": {
     "duration": 0.003941,
     "end_time": "2022-06-28T20:24:05.913385",
     "exception": false,
     "start_time": "2022-06-28T20:24:05.909444",
     "status": "completed"
    },
    "tags": []
   },
   "source": [
    "# Sentiment Analysis on Yelp dataset\n",
    "\n",
    "> NOTE: this particular notebook require GPU, as it uses transformers\n",
    "\n",
    "## Loading libraries\n"
   ]
  },
  {
   "cell_type": "code",
   "execution_count": 1,
   "id": "cfe6a4f0",
   "metadata": {
    "execution": {
     "iopub.execute_input": "2022-06-28T20:24:05.923385Z",
     "iopub.status.busy": "2022-06-28T20:24:05.922917Z",
     "iopub.status.idle": "2022-06-28T20:24:18.277562Z",
     "shell.execute_reply": "2022-06-28T20:24:18.276715Z"
    },
    "papermill": {
     "duration": 12.361149,
     "end_time": "2022-06-28T20:24:18.280012",
     "exception": false,
     "start_time": "2022-06-28T20:24:05.918863",
     "status": "completed"
    },
    "tags": []
   },
   "outputs": [],
   "source": [
    "import pandas as pd\n",
    "import re\n",
    "import spacy\n",
    "from sklearn.metrics import classification_report\n"
   ]
  },
  {
   "cell_type": "markdown",
   "id": "1eb917bb",
   "metadata": {
    "papermill": {
     "duration": 0.002851,
     "end_time": "2022-06-28T20:24:18.286266",
     "exception": false,
     "start_time": "2022-06-28T20:24:18.283415",
     "status": "completed"
    },
    "tags": []
   },
   "source": [
    "## Loading the dataset\n"
   ]
  },
  {
   "cell_type": "code",
   "execution_count": 2,
   "id": "00cf8f1d",
   "metadata": {
    "execution": {
     "iopub.execute_input": "2022-06-28T20:24:18.294897Z",
     "iopub.status.busy": "2022-06-28T20:24:18.293650Z",
     "iopub.status.idle": "2022-06-28T20:24:25.995707Z",
     "shell.execute_reply": "2022-06-28T20:24:25.994776Z"
    },
    "papermill": {
     "duration": 7.70936,
     "end_time": "2022-06-28T20:24:25.998615",
     "exception": false,
     "start_time": "2022-06-28T20:24:18.289255",
     "status": "completed"
    },
    "tags": []
   },
   "outputs": [
    {
     "data": {
      "text/html": [
       "<div>\n",
       "<style scoped>\n",
       "    .dataframe tbody tr th:only-of-type {\n",
       "        vertical-align: middle;\n",
       "    }\n",
       "\n",
       "    .dataframe tbody tr th {\n",
       "        vertical-align: top;\n",
       "    }\n",
       "\n",
       "    .dataframe thead th {\n",
       "        text-align: right;\n",
       "    }\n",
       "</style>\n",
       "<table border=\"1\" class=\"dataframe\">\n",
       "  <thead>\n",
       "    <tr style=\"text-align: right;\">\n",
       "      <th></th>\n",
       "      <th>sentiment</th>\n",
       "      <th>review</th>\n",
       "    </tr>\n",
       "  </thead>\n",
       "  <tbody>\n",
       "    <tr>\n",
       "      <th>0</th>\n",
       "      <td>NEG</td>\n",
       "      <td>Unfortunately, the frustration of being Dr. Go...</td>\n",
       "    </tr>\n",
       "    <tr>\n",
       "      <th>1</th>\n",
       "      <td>POS</td>\n",
       "      <td>Been going to Dr. Goldberg for over 10 years. ...</td>\n",
       "    </tr>\n",
       "    <tr>\n",
       "      <th>2</th>\n",
       "      <td>NEG</td>\n",
       "      <td>I don't know what Dr. Goldberg was like before...</td>\n",
       "    </tr>\n",
       "    <tr>\n",
       "      <th>3</th>\n",
       "      <td>NEG</td>\n",
       "      <td>I'm writing this review to give you a heads up...</td>\n",
       "    </tr>\n",
       "    <tr>\n",
       "      <th>4</th>\n",
       "      <td>POS</td>\n",
       "      <td>All the food is great here. But the best thing...</td>\n",
       "    </tr>\n",
       "  </tbody>\n",
       "</table>\n",
       "</div>"
      ],
      "text/plain": [
       "  sentiment                                             review\n",
       "0       NEG  Unfortunately, the frustration of being Dr. Go...\n",
       "1       POS  Been going to Dr. Goldberg for over 10 years. ...\n",
       "2       NEG  I don't know what Dr. Goldberg was like before...\n",
       "3       NEG  I'm writing this review to give you a heads up...\n",
       "4       POS  All the food is great here. But the best thing..."
      ]
     },
     "execution_count": 2,
     "metadata": {},
     "output_type": "execute_result"
    }
   ],
   "source": [
    "IO_TRAIN = \"../input/yelp-review-dataset/yelp_review_polarity_csv/train.csv\"\n",
    "ylp = pd.read_csv(IO_TRAIN, header=None)\n",
    "ylp.columns = [\"sentiment\", \"review\"]\n",
    "ylp[\"review\"] = ylp[\"review\"].apply(lambda rev: re.sub(r\"\\\\n\", \"\\n\", rev))\n",
    "ylp.replace({1: \"NEG\", 2: \"POS\"}, inplace=True)\n",
    "ylp[\"sentiment\"] = ylp[\"sentiment\"].astype(\"category\")\n",
    "ylp.head()\n"
   ]
  },
  {
   "cell_type": "code",
   "execution_count": 3,
   "id": "04564ea2",
   "metadata": {
    "execution": {
     "iopub.execute_input": "2022-06-28T20:24:26.006520Z",
     "iopub.status.busy": "2022-06-28T20:24:26.006175Z",
     "iopub.status.idle": "2022-06-28T20:24:31.082857Z",
     "shell.execute_reply": "2022-06-28T20:24:31.081739Z"
    },
    "papermill": {
     "duration": 5.08334,
     "end_time": "2022-06-28T20:24:31.085150",
     "exception": false,
     "start_time": "2022-06-28T20:24:26.001810",
     "status": "completed"
    },
    "tags": []
   },
   "outputs": [],
   "source": [
    "nlp = spacy.load(\"en_core_web_lg\")\n"
   ]
  },
  {
   "cell_type": "code",
   "execution_count": 4,
   "id": "04995019",
   "metadata": {
    "execution": {
     "iopub.execute_input": "2022-06-28T20:24:31.094679Z",
     "iopub.status.busy": "2022-06-28T20:24:31.094276Z",
     "iopub.status.idle": "2022-06-28T20:24:34.269516Z",
     "shell.execute_reply": "2022-06-28T20:24:34.268463Z"
    },
    "papermill": {
     "duration": 3.182829,
     "end_time": "2022-06-28T20:24:34.271816",
     "exception": false,
     "start_time": "2022-06-28T20:24:31.088987",
     "status": "completed"
    },
    "tags": []
   },
   "outputs": [],
   "source": [
    "!cp ../input/yelp-sent-analysis-preprocess/* ./\n"
   ]
  },
  {
   "cell_type": "markdown",
   "id": "ea9a62e8",
   "metadata": {
    "papermill": {
     "duration": 0.002742,
     "end_time": "2022-06-28T20:24:34.277818",
     "exception": false,
     "start_time": "2022-06-28T20:24:34.275076",
     "status": "completed"
    },
    "tags": []
   },
   "source": [
    "## Using a pre-trained model\n",
    "\n",
    "we had our [benchmark](./03.benchmark.ipynb) model (unigram Naive Bayes that scores at $0.875$), and tried other classical models:\n",
    "\n",
    "- [bigram Naive Bayes](./04.bigram-naive-bayes.ipynb) (at $0.9$)\n",
    "- [Logistic Regression](./06.classic-ml.ipynb) (at $0.893$)\n",
    "- [SVM classifier](./06.classic-ml.ipynb) (at $0.891$)\n",
    "\n",
    "and it can be concluded that: classic models work in the range of $90\\%$ accuracy, if we are to find better results, then we should check the next level, Deep Learning.\n",
    "\n",
    "Let's start small, and try a pre-trained model.\n",
    "\n",
    "using spaCy pre-trained model [spacytextblob](https://spacy.io/universe/project/spacy-textblob) for sentiment analysis\n"
   ]
  },
  {
   "cell_type": "code",
   "execution_count": 5,
   "id": "4c02a4cb",
   "metadata": {
    "execution": {
     "iopub.execute_input": "2022-06-28T20:24:34.285871Z",
     "iopub.status.busy": "2022-06-28T20:24:34.285476Z",
     "iopub.status.idle": "2022-06-28T20:25:02.363243Z",
     "shell.execute_reply": "2022-06-28T20:25:02.362118Z"
    },
    "papermill": {
     "duration": 28.084889,
     "end_time": "2022-06-28T20:25:02.365711",
     "exception": false,
     "start_time": "2022-06-28T20:24:34.280822",
     "status": "completed"
    },
    "tags": []
   },
   "outputs": [
    {
     "name": "stdout",
     "output_type": "stream",
     "text": [
      "Collecting spacytextblob\r\n",
      "  Downloading spacytextblob-4.0.0-py3-none-any.whl (4.5 kB)\r\n",
      "Requirement already satisfied: spacy<4.0,>=3.0 in /opt/conda/lib/python3.7/site-packages (from spacytextblob) (3.2.4)\r\n",
      "Collecting textblob<0.16.0,>=0.15.3\r\n",
      "  Downloading textblob-0.15.3-py2.py3-none-any.whl (636 kB)\r\n",
      "\u001b[2K     \u001b[90m━━━━━━━━━━━━━━━━━━━━━━━━━━━━━━━━━━━━━\u001b[0m \u001b[32m636.5/636.5 kB\u001b[0m \u001b[31m869.6 kB/s\u001b[0m eta \u001b[36m0:00:00\u001b[0m\r\n",
      "\u001b[?25hRequirement already satisfied: pydantic!=1.8,!=1.8.1,<1.9.0,>=1.7.4 in /opt/conda/lib/python3.7/site-packages (from spacy<4.0,>=3.0->spacytextblob) (1.8.2)\r\n",
      "Requirement already satisfied: requests<3.0.0,>=2.13.0 in /opt/conda/lib/python3.7/site-packages (from spacy<4.0,>=3.0->spacytextblob) (2.27.1)\r\n",
      "Requirement already satisfied: numpy>=1.15.0 in /opt/conda/lib/python3.7/site-packages (from spacy<4.0,>=3.0->spacytextblob) (1.21.6)\r\n",
      "Requirement already satisfied: srsly<3.0.0,>=2.4.1 in /opt/conda/lib/python3.7/site-packages (from spacy<4.0,>=3.0->spacytextblob) (2.4.3)\r\n",
      "Requirement already satisfied: spacy-legacy<3.1.0,>=3.0.8 in /opt/conda/lib/python3.7/site-packages (from spacy<4.0,>=3.0->spacytextblob) (3.0.9)\r\n",
      "Collecting typing-extensions<4.0.0.0,>=3.7.4\r\n",
      "  Downloading typing_extensions-3.10.0.2-py3-none-any.whl (26 kB)\r\n",
      "Requirement already satisfied: tqdm<5.0.0,>=4.38.0 in /opt/conda/lib/python3.7/site-packages (from spacy<4.0,>=3.0->spacytextblob) (4.64.0)\r\n",
      "Requirement already satisfied: murmurhash<1.1.0,>=0.28.0 in /opt/conda/lib/python3.7/site-packages (from spacy<4.0,>=3.0->spacytextblob) (1.0.7)\r\n",
      "Requirement already satisfied: langcodes<4.0.0,>=3.2.0 in /opt/conda/lib/python3.7/site-packages (from spacy<4.0,>=3.0->spacytextblob) (3.3.0)\r\n",
      "Requirement already satisfied: spacy-loggers<2.0.0,>=1.0.0 in /opt/conda/lib/python3.7/site-packages (from spacy<4.0,>=3.0->spacytextblob) (1.0.2)\r\n",
      "Requirement already satisfied: packaging>=20.0 in /opt/conda/lib/python3.7/site-packages (from spacy<4.0,>=3.0->spacytextblob) (21.3)\r\n",
      "Requirement already satisfied: setuptools in /opt/conda/lib/python3.7/site-packages (from spacy<4.0,>=3.0->spacytextblob) (59.8.0)\r\n",
      "Requirement already satisfied: jinja2 in /opt/conda/lib/python3.7/site-packages (from spacy<4.0,>=3.0->spacytextblob) (3.1.2)\r\n",
      "Requirement already satisfied: catalogue<2.1.0,>=2.0.6 in /opt/conda/lib/python3.7/site-packages (from spacy<4.0,>=3.0->spacytextblob) (2.0.7)\r\n",
      "Requirement already satisfied: typer<0.5.0,>=0.3.0 in /opt/conda/lib/python3.7/site-packages (from spacy<4.0,>=3.0->spacytextblob) (0.4.1)\r\n",
      "Requirement already satisfied: preshed<3.1.0,>=3.0.2 in /opt/conda/lib/python3.7/site-packages (from spacy<4.0,>=3.0->spacytextblob) (3.0.6)\r\n",
      "Requirement already satisfied: thinc<8.1.0,>=8.0.12 in /opt/conda/lib/python3.7/site-packages (from spacy<4.0,>=3.0->spacytextblob) (8.0.16)\r\n",
      "Requirement already satisfied: pathy>=0.3.5 in /opt/conda/lib/python3.7/site-packages (from spacy<4.0,>=3.0->spacytextblob) (0.6.1)\r\n",
      "Requirement already satisfied: cymem<2.1.0,>=2.0.2 in /opt/conda/lib/python3.7/site-packages (from spacy<4.0,>=3.0->spacytextblob) (2.0.6)\r\n",
      "Requirement already satisfied: click<8.1.0 in /opt/conda/lib/python3.7/site-packages (from spacy<4.0,>=3.0->spacytextblob) (8.0.4)\r\n",
      "Requirement already satisfied: wasabi<1.1.0,>=0.8.1 in /opt/conda/lib/python3.7/site-packages (from spacy<4.0,>=3.0->spacytextblob) (0.9.1)\r\n",
      "Requirement already satisfied: blis<0.8.0,>=0.4.0 in /opt/conda/lib/python3.7/site-packages (from spacy<4.0,>=3.0->spacytextblob) (0.7.7)\r\n",
      "Requirement already satisfied: nltk>=3.1 in /opt/conda/lib/python3.7/site-packages (from textblob<0.16.0,>=0.15.3->spacytextblob) (3.2.4)\r\n",
      "Requirement already satisfied: zipp>=0.5 in /opt/conda/lib/python3.7/site-packages (from catalogue<2.1.0,>=2.0.6->spacy<4.0,>=3.0->spacytextblob) (3.8.0)\r\n",
      "Requirement already satisfied: importlib-metadata in /opt/conda/lib/python3.7/site-packages (from click<8.1.0->spacy<4.0,>=3.0->spacytextblob) (4.11.4)\r\n",
      "Requirement already satisfied: six in /opt/conda/lib/python3.7/site-packages (from nltk>=3.1->textblob<0.16.0,>=0.15.3->spacytextblob) (1.16.0)\r\n",
      "Requirement already satisfied: pyparsing!=3.0.5,>=2.0.2 in /opt/conda/lib/python3.7/site-packages (from packaging>=20.0->spacy<4.0,>=3.0->spacytextblob) (3.0.9)\r\n",
      "Requirement already satisfied: smart-open<6.0.0,>=5.0.0 in /opt/conda/lib/python3.7/site-packages (from pathy>=0.3.5->spacy<4.0,>=3.0->spacytextblob) (5.2.1)\r\n",
      "Requirement already satisfied: certifi>=2017.4.17 in /opt/conda/lib/python3.7/site-packages (from requests<3.0.0,>=2.13.0->spacy<4.0,>=3.0->spacytextblob) (2022.5.18.1)\r\n",
      "Requirement already satisfied: urllib3<1.27,>=1.21.1 in /opt/conda/lib/python3.7/site-packages (from requests<3.0.0,>=2.13.0->spacy<4.0,>=3.0->spacytextblob) (1.26.9)\r\n",
      "Requirement already satisfied: charset-normalizer~=2.0.0 in /opt/conda/lib/python3.7/site-packages (from requests<3.0.0,>=2.13.0->spacy<4.0,>=3.0->spacytextblob) (2.0.12)\r\n",
      "Requirement already satisfied: idna<4,>=2.5 in /opt/conda/lib/python3.7/site-packages (from requests<3.0.0,>=2.13.0->spacy<4.0,>=3.0->spacytextblob) (3.3)\r\n",
      "Requirement already satisfied: MarkupSafe>=2.0 in /opt/conda/lib/python3.7/site-packages (from jinja2->spacy<4.0,>=3.0->spacytextblob) (2.0.1)\r\n",
      "Installing collected packages: typing-extensions, textblob, spacytextblob\r\n",
      "  Attempting uninstall: typing-extensions\r\n",
      "    Found existing installation: typing_extensions 4.2.0\r\n",
      "    Uninstalling typing_extensions-4.2.0:\r\n",
      "      Successfully uninstalled typing_extensions-4.2.0\r\n",
      "  Attempting uninstall: textblob\r\n",
      "    Found existing installation: textblob 0.17.1\r\n",
      "    Uninstalling textblob-0.17.1:\r\n",
      "      Successfully uninstalled textblob-0.17.1\r\n",
      "\u001b[31mERROR: pip's dependency resolver does not currently take into account all the packages that are installed. This behaviour is the source of the following dependency conflicts.\r\n",
      "tensorflow-io 0.21.0 requires tensorflow-io-gcs-filesystem==0.21.0, which is not installed.\r\n",
      "tensorflow 2.6.4 requires absl-py~=0.10, but you have absl-py 1.0.0 which is incompatible.\r\n",
      "tensorflow 2.6.4 requires numpy~=1.19.2, but you have numpy 1.21.6 which is incompatible.\r\n",
      "tensorflow 2.6.4 requires six~=1.15.0, but you have six 1.16.0 which is incompatible.\r\n",
      "tensorflow 2.6.4 requires wrapt~=1.12.1, but you have wrapt 1.14.1 which is incompatible.\r\n",
      "tensorflow-transform 1.8.0 requires pyarrow<6,>=1, but you have pyarrow 8.0.0 which is incompatible.\r\n",
      "tensorflow-transform 1.8.0 requires tensorflow!=2.0.*,!=2.1.*,!=2.2.*,!=2.3.*,!=2.4.*,!=2.5.*,!=2.6.*,!=2.7.*,<2.9,>=1.15.5, but you have tensorflow 2.6.4 which is incompatible.\r\n",
      "tensorflow-serving-api 2.8.0 requires tensorflow<3,>=2.8.0, but you have tensorflow 2.6.4 which is incompatible.\r\n",
      "rich 12.4.4 requires typing-extensions<5.0,>=4.0.0; python_version < \"3.9\", but you have typing-extensions 3.10.0.2 which is incompatible.\r\n",
      "pytorch-lightning 1.6.3 requires typing-extensions>=4.0.0, but you have typing-extensions 3.10.0.2 which is incompatible.\r\n",
      "flax 0.5.0 requires typing-extensions>=4.1.1, but you have typing-extensions 3.10.0.2 which is incompatible.\r\n",
      "flake8 4.0.1 requires importlib-metadata<4.3; python_version < \"3.8\", but you have importlib-metadata 4.11.4 which is incompatible.\r\n",
      "apache-beam 2.38.0 requires dill<0.3.2,>=0.3.1.1, but you have dill 0.3.5.1 which is incompatible.\r\n",
      "apache-beam 2.38.0 requires httplib2<0.20.0,>=0.8, but you have httplib2 0.20.4 which is incompatible.\r\n",
      "apache-beam 2.38.0 requires pyarrow<7.0.0,>=0.15.1, but you have pyarrow 8.0.0 which is incompatible.\r\n",
      "aioitertools 0.10.0 requires typing_extensions>=4.0; python_version < \"3.10\", but you have typing-extensions 3.10.0.2 which is incompatible.\r\n",
      "aiobotocore 2.3.2 requires botocore<1.24.22,>=1.24.21, but you have botocore 1.26.7 which is incompatible.\u001b[0m\u001b[31m\r\n",
      "\u001b[0mSuccessfully installed spacytextblob-4.0.0 textblob-0.15.3 typing-extensions-3.10.0.2\r\n",
      "\u001b[33mWARNING: Running pip as the 'root' user can result in broken permissions and conflicting behaviour with the system package manager. It is recommended to use a virtual environment instead: https://pip.pypa.io/warnings/venv\u001b[0m\u001b[33m\r\n",
      "\u001b[0m"
     ]
    }
   ],
   "source": [
    "!python3 -m pip install spacytextblob\n"
   ]
  },
  {
   "cell_type": "code",
   "execution_count": 6,
   "id": "76a7fce6",
   "metadata": {
    "execution": {
     "iopub.execute_input": "2022-06-28T20:25:02.377702Z",
     "iopub.status.busy": "2022-06-28T20:25:02.377280Z",
     "iopub.status.idle": "2022-06-28T20:25:02.974782Z",
     "shell.execute_reply": "2022-06-28T20:25:02.973835Z"
    },
    "papermill": {
     "duration": 0.606204,
     "end_time": "2022-06-28T20:25:02.977061",
     "exception": false,
     "start_time": "2022-06-28T20:25:02.370857",
     "status": "completed"
    },
    "tags": []
   },
   "outputs": [],
   "source": [
    "from spacytextblob.spacytextblob import SpacyTextBlob\n",
    "\n",
    "_ = nlp.disable_pipes(nlp.pipe_names)\n",
    "_ = nlp.add_pipe(\"spacytextblob\")\n"
   ]
  },
  {
   "cell_type": "code",
   "execution_count": 7,
   "id": "410d54fc",
   "metadata": {
    "execution": {
     "iopub.execute_input": "2022-06-28T20:25:02.988640Z",
     "iopub.status.busy": "2022-06-28T20:25:02.987890Z",
     "iopub.status.idle": "2022-06-28T20:25:02.997931Z",
     "shell.execute_reply": "2022-06-28T20:25:02.996997Z"
    },
    "papermill": {
     "duration": 0.017924,
     "end_time": "2022-06-28T20:25:02.999893",
     "exception": false,
     "start_time": "2022-06-28T20:25:02.981969",
     "status": "completed"
    },
    "tags": []
   },
   "outputs": [],
   "source": [
    "def predict(doc: str) -> str:\n",
    "    \"\"\"given a document string, after transforming it using spacy, the\n",
    "    document's polarity is checked, and assigned a prediction depending on the\n",
    "    level, negative polarity is `NEG`, otherwise `POS`\n",
    "\n",
    "    Parameters:\n",
    "    -----------\n",
    "    doc: str\n",
    "        the document string to predict its sentiment\n",
    "\n",
    "    Returns:\n",
    "    --------\n",
    "    out: str\n",
    "        the resulting prediction, `NEG` if polarity of document is negative,\n",
    "        `POS` otherwise\n",
    "    \"\"\"\n",
    "    polarity = nlp(doc)._.blob.polarity\n",
    "    if polarity < 0:\n",
    "        return \"NEG\"\n",
    "    else:\n",
    "        return \"POS\"\n"
   ]
  },
  {
   "cell_type": "code",
   "execution_count": 8,
   "id": "e14b740d",
   "metadata": {
    "execution": {
     "iopub.execute_input": "2022-06-28T20:25:03.011125Z",
     "iopub.status.busy": "2022-06-28T20:25:03.010752Z",
     "iopub.status.idle": "2022-06-28T21:03:11.316027Z",
     "shell.execute_reply": "2022-06-28T21:03:11.314896Z"
    },
    "papermill": {
     "duration": 2288.322592,
     "end_time": "2022-06-28T21:03:11.327413",
     "exception": false,
     "start_time": "2022-06-28T20:25:03.004821",
     "status": "completed"
    },
    "tags": []
   },
   "outputs": [
    {
     "name": "stdout",
     "output_type": "stream",
     "text": [
      "              precision    recall  f1-score   support\n",
      "\n",
      "         NEG     0.9434    0.3868    0.5486    280000\n",
      "         POS     0.6143    0.9768    0.7543    280000\n",
      "\n",
      "    accuracy                         0.6818    560000\n",
      "   macro avg     0.7789    0.6818    0.6515    560000\n",
      "weighted avg     0.7789    0.6818    0.6515    560000\n",
      "\n"
     ]
    }
   ],
   "source": [
    "y_pred = ylp[\"review\"].apply(predict)\n",
    "\n",
    "print(classification_report(ylp[\"sentiment\"], y_pred, digits=4))\n"
   ]
  },
  {
   "cell_type": "markdown",
   "id": "6f4215fa",
   "metadata": {
    "papermill": {
     "duration": 0.004396,
     "end_time": "2022-06-28T21:03:11.336477",
     "exception": false,
     "start_time": "2022-06-28T21:03:11.332081",
     "status": "completed"
    },
    "tags": []
   },
   "source": [
    "using basic intution, that a negative review would have a negative polarity, and anything else is positive has led to a weak accuracy (f1-score) of $0.68$, whereas the benchmark is better at $0.875$\n",
    "\n",
    "> A note worth mentioning: this particular model was not trained to be a classifier, but to assign polarity to a given document, and as such, some positive-labelled documents have polarity of $-1$, and other negative-labelled documents have polarity of $1$\n",
    "\n",
    "---\n",
    "\n",
    "a simple next step is to used some `FCNN` (Fully Connected Neural Network), but I'd put that in TODO, and jump right to the big guns: **TRANSFORMERS**\n"
   ]
  },
  {
   "cell_type": "code",
   "execution_count": null,
   "id": "8334317d",
   "metadata": {
    "execution": {
     "iopub.execute_input": "2022-06-30T04:28:20.183225Z",
     "iopub.status.busy": "2022-06-30T04:28:20.182903Z",
     "iopub.status.idle": "2022-06-30T04:28:32.588407Z",
     "shell.execute_reply": "2022-06-30T04:28:32.587473Z"
    },
    "papermill": {
     "duration": 12.412174,
     "end_time": "2022-06-30T04:28:32.590775",
     "exception": false,
     "start_time": "2022-06-30T04:28:20.178601",
     "status": "completed"
    },
    "tags": []
   },
   "outputs": [
    {
     "name": "stdout",
     "output_type": "stream",
     "text": [
      "Requirement already satisfied: datasets in /opt/conda/lib/python3.7/site-packages (2.1.0)\r\n",
      "Requirement already satisfied: transformers[sentencepiece] in /opt/conda/lib/python3.7/site-packages (4.18.0)\r\n",
      "Requirement already satisfied: importlib-metadata in /opt/conda/lib/python3.7/site-packages (from datasets) (4.11.4)\r\n",
      "Requirement already satisfied: numpy>=1.17 in /opt/conda/lib/python3.7/site-packages (from datasets) (1.21.6)\r\n",
      "Requirement already satisfied: packaging in /opt/conda/lib/python3.7/site-packages (from datasets) (21.3)\r\n",
      "Requirement already satisfied: dill in /opt/conda/lib/python3.7/site-packages (from datasets) (0.3.5.1)\r\n",
      "Requirement already satisfied: aiohttp in /opt/conda/lib/python3.7/site-packages (from datasets) (3.8.1)\r\n",
      "Requirement already satisfied: pyarrow>=5.0.0 in /opt/conda/lib/python3.7/site-packages (from datasets) (5.0.0)\r\n",
      "Requirement already satisfied: requests>=2.19.0 in /opt/conda/lib/python3.7/site-packages (from datasets) (2.27.1)\r\n",
      "Requirement already satisfied: responses<0.19 in /opt/conda/lib/python3.7/site-packages (from datasets) (0.18.0)\r\n",
      "Requirement already satisfied: fsspec[http]>=2021.05.0 in /opt/conda/lib/python3.7/site-packages (from datasets) (2022.5.0)\r\n",
      "Requirement already satisfied: huggingface-hub<1.0.0,>=0.1.0 in /opt/conda/lib/python3.7/site-packages (from datasets) (0.5.1)\r\n",
      "Requirement already satisfied: xxhash in /opt/conda/lib/python3.7/site-packages (from datasets) (3.0.0)\r\n",
      "Requirement already satisfied: tqdm>=4.62.1 in /opt/conda/lib/python3.7/site-packages (from datasets) (4.64.0)\r\n",
      "Requirement already satisfied: pandas in /opt/conda/lib/python3.7/site-packages (from datasets) (1.3.5)\r\n",
      "Requirement already satisfied: multiprocess in /opt/conda/lib/python3.7/site-packages (from datasets) (0.70.13)\r\n",
      "Requirement already satisfied: filelock in /opt/conda/lib/python3.7/site-packages (from transformers[sentencepiece]) (3.6.0)\r\n",
      "Requirement already satisfied: regex!=2019.12.17 in /opt/conda/lib/python3.7/site-packages (from transformers[sentencepiece]) (2021.11.10)\r\n",
      "Requirement already satisfied: sacremoses in /opt/conda/lib/python3.7/site-packages (from transformers[sentencepiece]) (0.0.53)\r\n",
      "Requirement already satisfied: pyyaml>=5.1 in /opt/conda/lib/python3.7/site-packages (from transformers[sentencepiece]) (6.0)\r\n",
      "Requirement already satisfied: tokenizers!=0.11.3,<0.13,>=0.11.1 in /opt/conda/lib/python3.7/site-packages (from transformers[sentencepiece]) (0.12.1)\r\n",
      "Requirement already satisfied: sentencepiece!=0.1.92,>=0.1.91 in /opt/conda/lib/python3.7/site-packages (from transformers[sentencepiece]) (0.1.96)\r\n",
      "Requirement already satisfied: protobuf in /opt/conda/lib/python3.7/site-packages (from transformers[sentencepiece]) (3.20.1)\r\n",
      "Requirement already satisfied: typing-extensions>=3.7.4.3 in /opt/conda/lib/python3.7/site-packages (from huggingface-hub<1.0.0,>=0.1.0->datasets) (4.2.0)\r\n",
      "Requirement already satisfied: pyparsing!=3.0.5,>=2.0.2 in /opt/conda/lib/python3.7/site-packages (from packaging->datasets) (3.0.9)\r\n",
      "Requirement already satisfied: charset-normalizer~=2.0.0 in /opt/conda/lib/python3.7/site-packages (from requests>=2.19.0->datasets) (2.0.12)\r\n",
      "Requirement already satisfied: urllib3<1.27,>=1.21.1 in /opt/conda/lib/python3.7/site-packages (from requests>=2.19.0->datasets) (1.26.9)\r\n",
      "Requirement already satisfied: idna<4,>=2.5 in /opt/conda/lib/python3.7/site-packages (from requests>=2.19.0->datasets) (3.3)\r\n",
      "Requirement already satisfied: certifi>=2017.4.17 in /opt/conda/lib/python3.7/site-packages (from requests>=2.19.0->datasets) (2022.5.18.1)\r\n",
      "Requirement already satisfied: frozenlist>=1.1.1 in /opt/conda/lib/python3.7/site-packages (from aiohttp->datasets) (1.3.0)\r\n",
      "Requirement already satisfied: attrs>=17.3.0 in /opt/conda/lib/python3.7/site-packages (from aiohttp->datasets) (21.4.0)\r\n",
      "Requirement already satisfied: yarl<2.0,>=1.0 in /opt/conda/lib/python3.7/site-packages (from aiohttp->datasets) (1.7.2)\r\n",
      "Requirement already satisfied: multidict<7.0,>=4.5 in /opt/conda/lib/python3.7/site-packages (from aiohttp->datasets) (6.0.2)\r\n",
      "Requirement already satisfied: asynctest==0.13.0 in /opt/conda/lib/python3.7/site-packages (from aiohttp->datasets) (0.13.0)\r\n",
      "Requirement already satisfied: aiosignal>=1.1.2 in /opt/conda/lib/python3.7/site-packages (from aiohttp->datasets) (1.2.0)\r\n",
      "Requirement already satisfied: async-timeout<5.0,>=4.0.0a3 in /opt/conda/lib/python3.7/site-packages (from aiohttp->datasets) (4.0.2)\r\n",
      "Requirement already satisfied: zipp>=0.5 in /opt/conda/lib/python3.7/site-packages (from importlib-metadata->datasets) (3.8.0)\r\n",
      "Requirement already satisfied: python-dateutil>=2.7.3 in /opt/conda/lib/python3.7/site-packages (from pandas->datasets) (2.8.2)\r\n",
      "Requirement already satisfied: pytz>=2017.3 in /opt/conda/lib/python3.7/site-packages (from pandas->datasets) (2022.1)\r\n",
      "Requirement already satisfied: click in /opt/conda/lib/python3.7/site-packages (from sacremoses->transformers[sentencepiece]) (8.0.4)\r\n",
      "Requirement already satisfied: joblib in /opt/conda/lib/python3.7/site-packages (from sacremoses->transformers[sentencepiece]) (1.1.0)\r\n",
      "Requirement already satisfied: six in /opt/conda/lib/python3.7/site-packages (from sacremoses->transformers[sentencepiece]) (1.16.0)\r\n",
      "\u001b[33mWARNING: Running pip as the 'root' user can result in broken permissions and conflicting behaviour with the system package manager. It is recommended to use a virtual environment instead: https://pip.pypa.io/warnings/venv\u001b[0m\u001b[33m\r\n",
      "\u001b[0m"
     ]
    }
   ],
   "source": [
    "!python3 -m pip install datasets transformers[sentencepiece]\n"
   ]
  },
  {
   "cell_type": "markdown",
   "id": "236371bd",
   "metadata": {},
   "source": [
    "## Using transformers\n",
    "\n",
    "First, let's try one more time to use the pre-trained model as is, then we can try to have it fine-tuned to the task\n",
    "\n",
    "a small reconfiguration of the labels to meet the format of the transformer\n"
   ]
  },
  {
   "cell_type": "code",
   "execution_count": null,
   "id": "b2dc7eaf",
   "metadata": {},
   "outputs": [],
   "source": [
    "features = ylp[\"review\"].values.tolist()\n",
    "\n",
    "# a small reconfiguration of the labels to meet the format of the transformer\n",
    "ylp[\"sentiment\"].replace({\"POS\": \"POSITIVE\", \"NEG\": \"NEGATIVE\"}, inplace=True)\n",
    "labels = ylp[\"sentiment\"].values\n"
   ]
  },
  {
   "cell_type": "code",
   "execution_count": null,
   "id": "bcb694e4",
   "metadata": {
    "execution": {
     "iopub.execute_input": "2022-06-30T04:28:32.826823Z",
     "iopub.status.busy": "2022-06-30T04:28:32.826514Z",
     "iopub.status.idle": "2022-06-30T04:29:05.156935Z",
     "shell.execute_reply": "2022-06-30T04:29:05.155925Z"
    },
    "papermill": {
     "duration": 32.33798,
     "end_time": "2022-06-30T04:29:05.160025",
     "exception": false,
     "start_time": "2022-06-30T04:28:32.822045",
     "status": "completed"
    },
    "tags": []
   },
   "outputs": [
    {
     "name": "stderr",
     "output_type": "stream",
     "text": [
      "No model was supplied, defaulted to distilbert-base-uncased-finetuned-sst-2-english (https://huggingface.co/distilbert-base-uncased-finetuned-sst-2-english)\n"
     ]
    },
    {
     "data": {
      "application/vnd.jupyter.widget-view+json": {
       "model_id": "67b29c175cfa4b058991355466cb8a8a",
       "version_major": 2,
       "version_minor": 0
      },
      "text/plain": [
       "Downloading:   0%|          | 0.00/629 [00:00<?, ?B/s]"
      ]
     },
     "metadata": {},
     "output_type": "display_data"
    },
    {
     "data": {
      "application/vnd.jupyter.widget-view+json": {
       "model_id": "b57abc71037f4436b0a29714e62d32e5",
       "version_major": 2,
       "version_minor": 0
      },
      "text/plain": [
       "Downloading:   0%|          | 0.00/255M [00:00<?, ?B/s]"
      ]
     },
     "metadata": {},
     "output_type": "display_data"
    },
    {
     "data": {
      "application/vnd.jupyter.widget-view+json": {
       "model_id": "831e4a41162c4686893a7e97e9d83f65",
       "version_major": 2,
       "version_minor": 0
      },
      "text/plain": [
       "Downloading:   0%|          | 0.00/48.0 [00:00<?, ?B/s]"
      ]
     },
     "metadata": {},
     "output_type": "display_data"
    },
    {
     "data": {
      "application/vnd.jupyter.widget-view+json": {
       "model_id": "dd27abbef3a84f8aa5986b394deb84f6",
       "version_major": 2,
       "version_minor": 0
      },
      "text/plain": [
       "Downloading:   0%|          | 0.00/226k [00:00<?, ?B/s]"
      ]
     },
     "metadata": {},
     "output_type": "display_data"
    }
   ],
   "source": [
    "from transformers import pipeline\n",
    "\n",
    "classifier = pipeline(\"sentiment-analysis\", device=0)\n"
   ]
  },
  {
   "cell_type": "code",
   "execution_count": null,
   "id": "824c51bd",
   "metadata": {
    "execution": {
     "iopub.execute_input": "2022-06-30T04:29:05.188540Z",
     "iopub.status.busy": "2022-06-30T04:29:05.187934Z",
     "iopub.status.idle": "2022-06-30T05:23:51.527058Z",
     "shell.execute_reply": "2022-06-30T05:23:51.525455Z"
    },
    "papermill": {
     "duration": 3286.359739,
     "end_time": "2022-06-30T05:23:51.533895",
     "exception": false,
     "start_time": "2022-06-30T04:29:05.174156",
     "status": "completed"
    },
    "tags": []
   },
   "outputs": [
    {
     "name": "stdout",
     "output_type": "stream",
     "text": [
      "              precision    recall  f1-score   support\n",
      "\n",
      "    NEGATIVE     0.8996    0.9167    0.9080    280000\n",
      "    POSITIVE     0.9151    0.8977    0.9063    280000\n",
      "\n",
      "    accuracy                         0.9072    560000\n",
      "   macro avg     0.9073    0.9072    0.9072    560000\n",
      "weighted avg     0.9073    0.9072    0.9072    560000\n",
      "\n"
     ]
    }
   ],
   "source": [
    "predictions = classifier(features, truncation=True)\n",
    "predictions = pd.DataFrame(predictions)[\"label\"].values\n",
    "\n",
    "print(classification_report(labels, predictions, digits=4))\n"
   ]
  },
  {
   "cell_type": "markdown",
   "id": "f62522bb",
   "metadata": {
    "papermill": {
     "duration": 0.005166,
     "end_time": "2022-06-30T05:23:51.544820",
     "exception": false,
     "start_time": "2022-06-30T05:23:51.539654",
     "status": "completed"
    },
    "tags": []
   },
   "source": [
    "the pre-trained model already got $0.91$ accuracy score, the highest yet, by $0.014\\%$ above bigram naive bayes, and that's on the entire training set. perhaps a fine-tuned transformer might be able to score even higher.\n"
   ]
  }
 ],
 "metadata": {
  "kernelspec": {
   "display_name": "Python 3",
   "language": "python",
   "name": "python3"
  },
  "language_info": {
   "codemirror_mode": {
    "name": "ipython",
    "version": 3
   },
   "file_extension": ".py",
   "mimetype": "text/x-python",
   "name": "python",
   "nbconvert_exporter": "python",
   "pygments_lexer": "ipython3",
   "version": "3.7.12"
  },
  "papermill": {
   "default_parameters": {},
   "duration": 2357.514834,
   "end_time": "2022-06-28T21:03:14.689445",
   "environment_variables": {},
   "exception": null,
   "input_path": "__notebook__.ipynb",
   "output_path": "__notebook__.ipynb",
   "parameters": {},
   "start_time": "2022-06-28T20:23:57.174611",
   "version": "2.3.4"
  }
 },
 "nbformat": 4,
 "nbformat_minor": 5
}
