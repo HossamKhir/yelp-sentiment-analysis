{
 "cells": [
  {
   "cell_type": "markdown",
   "id": "74109216",
   "metadata": {
    "papermill": {
     "duration": 0.004376,
     "end_time": "2022-06-27T10:04:52.306664",
     "exception": false,
     "start_time": "2022-06-27T10:04:52.302288",
     "status": "completed"
    },
    "tags": []
   },
   "source": [
    "# Sentiment Analysis on Yelp dataset\n",
    "\n",
    "## Loading libraries\n"
   ]
  },
  {
   "cell_type": "code",
   "execution_count": 1,
   "id": "50156961",
   "metadata": {
    "execution": {
     "iopub.execute_input": "2022-06-27T10:04:52.317946Z",
     "iopub.status.busy": "2022-06-27T10:04:52.317258Z",
     "iopub.status.idle": "2022-06-27T10:05:05.384284Z",
     "shell.execute_reply": "2022-06-27T10:05:05.383252Z"
    },
    "papermill": {
     "duration": 13.074092,
     "end_time": "2022-06-27T10:05:05.386743",
     "exception": false,
     "start_time": "2022-06-27T10:04:52.312651",
     "status": "completed"
    },
    "tags": []
   },
   "outputs": [],
   "source": [
    "import joblib\n",
    "import numpy as np\n",
    "import pandas as pd\n",
    "from sklearn.naive_bayes import MultinomialNB\n",
    "from sklearn.feature_extraction.text import TfidfVectorizer\n",
    "from sklearn.model_selection import cross_validate, train_test_split\n",
    "from sklearn.pipeline import make_pipeline\n",
    "from sklearn.metrics import classification_report\n"
   ]
  },
  {
   "cell_type": "markdown",
   "id": "236b04fe",
   "metadata": {
    "papermill": {
     "duration": 0.003108,
     "end_time": "2022-06-27T10:05:05.393507",
     "exception": false,
     "start_time": "2022-06-27T10:05:05.390399",
     "status": "completed"
    },
    "tags": []
   },
   "source": [
    "## Loading the dataset\n"
   ]
  },
  {
   "cell_type": "code",
   "execution_count": 2,
   "id": "9f4511eb",
   "metadata": {
    "execution": {
     "iopub.execute_input": "2022-06-27T10:05:05.402933Z",
     "iopub.status.busy": "2022-06-27T10:05:05.402076Z",
     "iopub.status.idle": "2022-06-27T10:05:10.521741Z",
     "shell.execute_reply": "2022-06-27T10:05:10.519078Z"
    },
    "papermill": {
     "duration": 5.126928,
     "end_time": "2022-06-27T10:05:10.524132",
     "exception": false,
     "start_time": "2022-06-27T10:05:05.397204",
     "status": "completed"
    },
    "tags": []
   },
   "outputs": [
    {
     "data": {
      "text/html": [
       "<div>\n",
       "<style scoped>\n",
       "    .dataframe tbody tr th:only-of-type {\n",
       "        vertical-align: middle;\n",
       "    }\n",
       "\n",
       "    .dataframe tbody tr th {\n",
       "        vertical-align: top;\n",
       "    }\n",
       "\n",
       "    .dataframe thead th {\n",
       "        text-align: right;\n",
       "    }\n",
       "</style>\n",
       "<table border=\"1\" class=\"dataframe\">\n",
       "  <thead>\n",
       "    <tr style=\"text-align: right;\">\n",
       "      <th></th>\n",
       "      <th>sentiment</th>\n",
       "      <th>review</th>\n",
       "    </tr>\n",
       "  </thead>\n",
       "  <tbody>\n",
       "    <tr>\n",
       "      <th>0</th>\n",
       "      <td>NEG</td>\n",
       "      <td>unfortunately frustration dr goldberg patient ...</td>\n",
       "    </tr>\n",
       "    <tr>\n",
       "      <th>1</th>\n",
       "      <td>POS</td>\n",
       "      <td>going dr goldberg years think st patients star...</td>\n",
       "    </tr>\n",
       "    <tr>\n",
       "      <th>2</th>\n",
       "      <td>NEG</td>\n",
       "      <td>know dr goldberg like moving arizona let tell ...</td>\n",
       "    </tr>\n",
       "    <tr>\n",
       "      <th>3</th>\n",
       "      <td>NEG</td>\n",
       "      <td>writing review heads doctor office staff admin...</td>\n",
       "    </tr>\n",
       "    <tr>\n",
       "      <th>4</th>\n",
       "      <td>POS</td>\n",
       "      <td>food great best thing wings wings simply fanta...</td>\n",
       "    </tr>\n",
       "  </tbody>\n",
       "</table>\n",
       "</div>"
      ],
      "text/plain": [
       "  sentiment                                             review\n",
       "0       NEG  unfortunately frustration dr goldberg patient ...\n",
       "1       POS  going dr goldberg years think st patients star...\n",
       "2       NEG  know dr goldberg like moving arizona let tell ...\n",
       "3       NEG  writing review heads doctor office staff admin...\n",
       "4       POS  food great best thing wings wings simply fanta..."
      ]
     },
     "execution_count": 2,
     "metadata": {},
     "output_type": "execute_result"
    }
   ],
   "source": [
    "IO_TRAIN = \"../input/yelp-sent-analysis-preprocess/train_processed.csv\"\n",
    "ylp_processed = pd.read_csv(IO_TRAIN, dtype={\"sentiment\": \"category\", \"review\": str})\n",
    "ylp_processed.head()\n"
   ]
  },
  {
   "cell_type": "markdown",
   "id": "db3d3bb5",
   "metadata": {
    "papermill": {
     "duration": 0.00363,
     "end_time": "2022-06-27T10:05:16.480026",
     "exception": false,
     "start_time": "2022-06-27T10:05:16.476396",
     "status": "completed"
    },
    "tags": []
   },
   "source": [
    "## Variation on naive Bayes\n",
    "\n",
    "after making a benchmark of naive bayes with unigrams, and got accuracy of $0.875$\n",
    "\n",
    "let's try a variant of a naive Bayes with mixture of unigrams, bigrams, & trigrams\n",
    "\n",
    "> The dataset is too large for classic ML to run trigrams or mixture of polygrams, even for pyspark, locally or on cloud (kaggle, colab)\n"
   ]
  },
  {
   "cell_type": "code",
   "execution_count": null,
   "id": "61b67f78",
   "metadata": {
    "execution": {
     "iopub.execute_input": "2022-06-27T10:05:16.489026Z",
     "iopub.status.busy": "2022-06-27T10:05:16.488605Z",
     "iopub.status.idle": "2022-06-27T10:05:43.158000Z",
     "shell.execute_reply": "2022-06-27T10:05:43.157143Z"
    },
    "papermill": {
     "duration": 26.676576,
     "end_time": "2022-06-27T10:05:43.160144",
     "exception": false,
     "start_time": "2022-06-27T10:05:16.483568",
     "status": "completed"
    },
    "tags": []
   },
   "outputs": [],
   "source": [
    "X = ylp_processed[\"review\"]\n",
    "y = ylp_processed[\"sentiment\"]\n",
    "\n",
    "X_train, X_test, y_train, y_test = train_test_split(\n",
    "    X, y, test_size=0.2, random_state=42, stratify=y\n",
    ")\n"
   ]
  },
  {
   "cell_type": "code",
   "execution_count": 5,
   "id": "90ed1aaa",
   "metadata": {
    "execution": {
     "iopub.execute_input": "2022-06-27T10:05:43.168934Z",
     "iopub.status.busy": "2022-06-27T10:05:43.168553Z",
     "iopub.status.idle": "2022-06-27T10:05:43.174211Z",
     "shell.execute_reply": "2022-06-27T10:05:43.172841Z"
    },
    "papermill": {
     "duration": 0.012403,
     "end_time": "2022-06-27T10:05:43.176134",
     "exception": false,
     "start_time": "2022-06-27T10:05:43.163731",
     "status": "completed"
    },
    "tags": []
   },
   "outputs": [],
   "source": [
    "# the dataset is too large to be handled locally or on cloud, even with pyspark\n",
    "# so check the full dataset in bigram\n",
    "vectoriser = TfidfVectorizer(ngram_range=(2,2))\n",
    "clf = MultinomialNB()\n",
    "\n",
    "nb_bigram = make_pipeline(vectoriser, clf)\n"
   ]
  },
  {
   "cell_type": "code",
   "execution_count": 6,
   "id": "f08c7b82",
   "metadata": {
    "execution": {
     "iopub.execute_input": "2022-06-27T10:05:43.184860Z",
     "iopub.status.busy": "2022-06-27T10:05:43.184490Z",
     "iopub.status.idle": "2022-06-27T10:10:29.106695Z",
     "shell.execute_reply": "2022-06-27T10:10:29.105485Z"
    },
    "papermill": {
     "duration": 285.935503,
     "end_time": "2022-06-27T10:10:29.115204",
     "exception": false,
     "start_time": "2022-06-27T10:05:43.179701",
     "status": "completed"
    },
    "tags": []
   },
   "outputs": [
    {
     "name": "stderr",
     "output_type": "stream",
     "text": [
      "[Parallel(n_jobs=-1)]: Using backend LokyBackend with 4 concurrent workers.\n",
      "[Parallel(n_jobs=-1)]: Done   5 out of   5 | elapsed:  4.8min finished\n"
     ]
    },
    {
     "data": {
      "text/plain": [
       "0.902598126606194"
      ]
     },
     "execution_count": 6,
     "metadata": {},
     "output_type": "execute_result"
    }
   ],
   "source": [
    "scores_bigram = cross_validate(nb_bigram, X, y, cv=5, n_jobs=-1, verbose=1)\n",
    "np.mean(scores_bigram[\"test_score\"])\n"
   ]
  },
  {
   "cell_type": "markdown",
   "id": "d3086a05",
   "metadata": {
    "papermill": {
     "duration": 0.005075,
     "end_time": "2022-06-27T10:10:29.125739",
     "exception": false,
     "start_time": "2022-06-27T10:10:29.120664",
     "status": "completed"
    },
    "tags": []
   },
   "source": [
    "using a bigram has raised the accuracy to $0.9$\n"
   ]
  },
  {
   "cell_type": "code",
   "execution_count": 7,
   "id": "eeae1b8e",
   "metadata": {
    "execution": {
     "iopub.execute_input": "2022-06-27T10:10:29.139209Z",
     "iopub.status.busy": "2022-06-27T10:10:29.138728Z",
     "iopub.status.idle": "2022-06-27T10:12:23.879714Z",
     "shell.execute_reply": "2022-06-27T10:12:23.878100Z"
    },
    "papermill": {
     "duration": 114.755257,
     "end_time": "2022-06-27T10:12:23.886661",
     "exception": false,
     "start_time": "2022-06-27T10:10:29.131404",
     "status": "completed"
    },
    "tags": []
   },
   "outputs": [
    {
     "name": "stdout",
     "output_type": "stream",
     "text": [
      "              precision    recall  f1-score   support\n",
      "\n",
      "         NEG     0.9090    0.9019    0.9054     55986\n",
      "         POS     0.9027    0.9097    0.9062     55996\n",
      "\n",
      "    accuracy                         0.9058    111982\n",
      "   macro avg     0.9058    0.9058    0.9058    111982\n",
      "weighted avg     0.9058    0.9058    0.9058    111982\n",
      "\n"
     ]
    }
   ],
   "source": [
    "_ = nb_bigram.fit(X_train, y_train)\n",
    "y_pred = nb_bigram.predict(X_test)\n",
    "\n",
    "print(classification_report(y_test, y_pred, digits=4))\n"
   ]
  },
  {
   "cell_type": "code",
   "execution_count": null,
   "id": "64ac9fd2",
   "metadata": {
    "execution": {
     "iopub.execute_input": "2022-06-27T10:12:23.896663Z",
     "iopub.status.busy": "2022-06-27T10:12:23.895845Z",
     "iopub.status.idle": "2022-06-27T10:13:36.058169Z",
     "shell.execute_reply": "2022-06-27T10:13:36.056818Z"
    },
    "papermill": {
     "duration": 72.175159,
     "end_time": "2022-06-27T10:13:36.065891",
     "exception": false,
     "start_time": "2022-06-27T10:12:23.890732",
     "status": "completed"
    },
    "tags": []
   },
   "outputs": [],
   "source": [
    "_ = joblib.dump(nb_bigram, \"bigram-naive-bayes.joblib\")\n"
   ]
  },
  {
   "cell_type": "code",
   "execution_count": 9,
   "id": "86b802fe",
   "metadata": {
    "execution": {
     "iopub.execute_input": "2022-06-27T10:13:36.076927Z",
     "iopub.status.busy": "2022-06-27T10:13:36.076444Z",
     "iopub.status.idle": "2022-06-27T10:13:38.981108Z",
     "shell.execute_reply": "2022-06-27T10:13:38.979767Z"
    },
    "papermill": {
     "duration": 2.913381,
     "end_time": "2022-06-27T10:13:38.983512",
     "exception": false,
     "start_time": "2022-06-27T10:13:36.070131",
     "status": "completed"
    },
    "tags": []
   },
   "outputs": [],
   "source": [
    "!cp '../input/yelp-sent-analysis-preprocess/train_processed.csv' './'\n"
   ]
  }
 ],
 "metadata": {
  "kernelspec": {
   "display_name": "Python 3",
   "language": "python",
   "name": "python3"
  },
  "language_info": {
   "codemirror_mode": {
    "name": "ipython",
    "version": 3
   },
   "file_extension": ".py",
   "mimetype": "text/x-python",
   "name": "python",
   "nbconvert_exporter": "python",
   "pygments_lexer": "ipython3",
   "version": "3.7.12"
  },
  "papermill": {
   "default_parameters": {},
   "duration": 538.819957,
   "end_time": "2022-06-27T10:13:41.715913",
   "environment_variables": {},
   "exception": null,
   "input_path": "__notebook__.ipynb",
   "output_path": "__notebook__.ipynb",
   "parameters": {},
   "start_time": "2022-06-27T10:04:42.895956",
   "version": "2.3.4"
  }
 },
 "nbformat": 4,
 "nbformat_minor": 5
}
