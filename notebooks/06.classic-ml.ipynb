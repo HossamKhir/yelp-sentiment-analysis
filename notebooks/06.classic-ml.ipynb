{
 "cells": [
  {
   "cell_type": "markdown",
   "id": "69ffba12",
   "metadata": {
    "papermill": {
     "duration": 0.004039,
     "end_time": "2022-06-30T00:58:30.473200",
     "exception": false,
     "start_time": "2022-06-30T00:58:30.469161",
     "status": "completed"
    },
    "tags": []
   },
   "source": [
    "# Sentiment Analysis on Yelp dataset\n",
    "\n",
    "## Loading libraries\n"
   ]
  },
  {
   "cell_type": "code",
   "execution_count": 1,
   "id": "673ef9a3",
   "metadata": {
    "execution": {
     "iopub.execute_input": "2022-06-30T00:58:30.483230Z",
     "iopub.status.busy": "2022-06-30T00:58:30.482672Z",
     "iopub.status.idle": "2022-06-30T00:58:31.476609Z",
     "shell.execute_reply": "2022-06-30T00:58:31.475872Z"
    },
    "papermill": {
     "duration": 1.000567,
     "end_time": "2022-06-30T00:58:31.478512",
     "exception": false,
     "start_time": "2022-06-30T00:58:30.477945",
     "status": "completed"
    },
    "tags": []
   },
   "outputs": [],
   "source": [
    "import numpy as np\n",
    "import pandas as pd\n",
    "from sklearn.metrics import classification_report\n"
   ]
  },
  {
   "cell_type": "markdown",
   "id": "de2617ae",
   "metadata": {
    "papermill": {
     "duration": 0.003153,
     "end_time": "2022-06-30T00:58:31.485246",
     "exception": false,
     "start_time": "2022-06-30T00:58:31.482093",
     "status": "completed"
    },
    "tags": []
   },
   "source": [
    "## Loading the dataset\n"
   ]
  },
  {
   "cell_type": "code",
   "execution_count": 2,
   "id": "b2f48b42",
   "metadata": {
    "execution": {
     "iopub.execute_input": "2022-06-30T00:58:31.493198Z",
     "iopub.status.busy": "2022-06-30T00:58:31.492845Z",
     "iopub.status.idle": "2022-06-30T00:58:39.026214Z",
     "shell.execute_reply": "2022-06-30T00:58:39.025287Z"
    },
    "papermill": {
     "duration": 7.539272,
     "end_time": "2022-06-30T00:58:39.027787",
     "exception": false,
     "start_time": "2022-06-30T00:58:31.488515",
     "status": "completed"
    },
    "tags": []
   },
   "outputs": [
    {
     "data": {
      "text/html": [
       "<div>\n",
       "<style scoped>\n",
       "    .dataframe tbody tr th:only-of-type {\n",
       "        vertical-align: middle;\n",
       "    }\n",
       "\n",
       "    .dataframe tbody tr th {\n",
       "        vertical-align: top;\n",
       "    }\n",
       "\n",
       "    .dataframe thead th {\n",
       "        text-align: right;\n",
       "    }\n",
       "</style>\n",
       "<table border=\"1\" class=\"dataframe\">\n",
       "  <thead>\n",
       "    <tr style=\"text-align: right;\">\n",
       "      <th></th>\n",
       "      <th>sentiment</th>\n",
       "      <th>review</th>\n",
       "    </tr>\n",
       "  </thead>\n",
       "  <tbody>\n",
       "    <tr>\n",
       "      <th>0</th>\n",
       "      <td>NEG</td>\n",
       "      <td>Unfortunately, the frustration of being Dr. Go...</td>\n",
       "    </tr>\n",
       "    <tr>\n",
       "      <th>1</th>\n",
       "      <td>POS</td>\n",
       "      <td>Been going to Dr. Goldberg for over 10 years. ...</td>\n",
       "    </tr>\n",
       "    <tr>\n",
       "      <th>2</th>\n",
       "      <td>NEG</td>\n",
       "      <td>I don't know what Dr. Goldberg was like before...</td>\n",
       "    </tr>\n",
       "    <tr>\n",
       "      <th>3</th>\n",
       "      <td>NEG</td>\n",
       "      <td>I'm writing this review to give you a heads up...</td>\n",
       "    </tr>\n",
       "    <tr>\n",
       "      <th>4</th>\n",
       "      <td>POS</td>\n",
       "      <td>All the food is great here. But the best thing...</td>\n",
       "    </tr>\n",
       "  </tbody>\n",
       "</table>\n",
       "</div>"
      ],
      "text/plain": [
       "  sentiment                                             review\n",
       "0       NEG  Unfortunately, the frustration of being Dr. Go...\n",
       "1       POS  Been going to Dr. Goldberg for over 10 years. ...\n",
       "2       NEG  I don't know what Dr. Goldberg was like before...\n",
       "3       NEG  I'm writing this review to give you a heads up...\n",
       "4       POS  All the food is great here. But the best thing..."
      ]
     },
     "execution_count": 2,
     "metadata": {},
     "output_type": "execute_result"
    }
   ],
   "source": [
    "IO_TRAIN = \"../input/yelp-review-dataset/yelp_review_polarity_csv/train.csv\"\n",
    "ylp = pd.read_csv(IO_TRAIN, header=None)\n",
    "ylp.columns = [\"sentiment\", \"review\"]\n",
    "ylp.replace({1: \"NEG\", 2: \"POS\"}, inplace=True)\n",
    "ylp[\"sentiment\"] = ylp[\"sentiment\"].astype(\"category\")\n",
    "ylp.head()\n"
   ]
  },
  {
   "cell_type": "code",
   "execution_count": 3,
   "id": "d970dea2",
   "metadata": {
    "execution": {
     "iopub.execute_input": "2022-06-30T00:58:39.036199Z",
     "iopub.status.busy": "2022-06-30T00:58:39.035892Z",
     "iopub.status.idle": "2022-06-30T00:58:55.281242Z",
     "shell.execute_reply": "2022-06-30T00:58:55.279217Z"
    },
    "papermill": {
     "duration": 16.254256,
     "end_time": "2022-06-30T00:58:55.285709",
     "exception": false,
     "start_time": "2022-06-30T00:58:39.031453",
     "status": "completed"
    },
    "tags": []
   },
   "outputs": [],
   "source": [
    "!cp ../input/yelp-sent-analysis-preprocess/* ./\n"
   ]
  },
  {
   "cell_type": "code",
   "execution_count": 4,
   "id": "3065bbec",
   "metadata": {
    "execution": {
     "iopub.execute_input": "2022-06-30T00:58:55.301669Z",
     "iopub.status.busy": "2022-06-30T00:58:55.301275Z",
     "iopub.status.idle": "2022-06-30T00:58:56.443696Z",
     "shell.execute_reply": "2022-06-30T00:58:56.443027Z"
    },
    "papermill": {
     "duration": 1.152294,
     "end_time": "2022-06-30T00:58:56.445568",
     "exception": false,
     "start_time": "2022-06-30T00:58:55.293274",
     "status": "completed"
    },
    "tags": []
   },
   "outputs": [],
   "source": [
    "features = np.load(\"features.npy\")\n",
    "labels = ylp[\"sentiment\"]\n",
    "features.shape\n"
   ]
  },
  {
   "cell_type": "markdown",
   "id": "43f12b66",
   "metadata": {
    "papermill": {
     "duration": 0.003625,
     "end_time": "2022-06-30T00:58:56.453060",
     "exception": false,
     "start_time": "2022-06-30T00:58:56.449435",
     "status": "completed"
    },
    "tags": []
   },
   "source": [
    "## More classic ML models\n",
    "\n",
    "as noticed from EDA, the labels/classes are 2, positive or negative, that makes the task, in essence, a binary classification, which calls for using a familiar model: Logistic Regression, as one of the fastest, and being fit for the binary classification tasks.\n"
   ]
  },
  {
   "cell_type": "code",
   "execution_count": 5,
   "id": "f2c8b9e7",
   "metadata": {
    "execution": {
     "iopub.execute_input": "2022-06-30T00:58:56.461787Z",
     "iopub.status.busy": "2022-06-30T00:58:56.461481Z",
     "iopub.status.idle": "2022-06-30T00:58:58.453214Z",
     "shell.execute_reply": "2022-06-30T00:58:58.452543Z"
    },
    "papermill": {
     "duration": 1.998308,
     "end_time": "2022-06-30T00:58:58.455046",
     "exception": false,
     "start_time": "2022-06-30T00:58:56.456738",
     "status": "completed"
    },
    "tags": []
   },
   "outputs": [],
   "source": [
    "from sklearn.linear_model import LogisticRegression\n",
    "from sklearn.model_selection import train_test_split\n",
    "from sklearn.metrics import classification_report\n",
    "\n",
    "lr = LogisticRegression(n_jobs=-1, random_state=42)\n",
    "\n",
    "X_train, X_test, y_train, y_test = train_test_split(\n",
    "    features, labels, test_size=0.2, random_state=42, stratify=labels\n",
    ")\n"
   ]
  },
  {
   "cell_type": "code",
   "execution_count": 6,
   "id": "384565a5",
   "metadata": {
    "execution": {
     "iopub.execute_input": "2022-06-30T00:58:58.464853Z",
     "iopub.status.busy": "2022-06-30T00:58:58.463794Z",
     "iopub.status.idle": "2022-06-30T01:11:28.852888Z",
     "shell.execute_reply": "2022-06-30T01:11:28.851653Z"
    },
    "papermill": {
     "duration": 750.400923,
     "end_time": "2022-06-30T01:11:28.859774",
     "exception": false,
     "start_time": "2022-06-30T00:58:58.458851",
     "status": "completed"
    },
    "tags": []
   },
   "outputs": [
    {
     "data": {
      "text/plain": [
       "0.8935647321428571"
      ]
     },
     "execution_count": 6,
     "metadata": {},
     "output_type": "execute_result"
    }
   ],
   "source": [
    "_ = lr.fit(X_train, y_train)\n",
    "lr.score(X_train, y_train)\n"
   ]
  },
  {
   "cell_type": "code",
   "execution_count": 7,
   "id": "d1e0ef6c",
   "metadata": {
    "execution": {
     "iopub.execute_input": "2022-06-30T01:11:28.870325Z",
     "iopub.status.busy": "2022-06-30T01:11:28.869211Z",
     "iopub.status.idle": "2022-06-30T01:11:32.687660Z",
     "shell.execute_reply": "2022-06-30T01:11:32.687124Z"
    },
    "papermill": {
     "duration": 3.826354,
     "end_time": "2022-06-30T01:11:32.689747",
     "exception": false,
     "start_time": "2022-06-30T01:11:28.863393",
     "status": "completed"
    },
    "tags": []
   },
   "outputs": [
    {
     "name": "stdout",
     "output_type": "stream",
     "text": [
      "              precision    recall  f1-score   support\n",
      "\n",
      "         NEG     0.8911    0.8955    0.8933     56000\n",
      "         POS     0.8950    0.8906    0.8928     56000\n",
      "\n",
      "    accuracy                         0.8930    112000\n",
      "   macro avg     0.8930    0.8930    0.8930    112000\n",
      "weighted avg     0.8930    0.8930    0.8930    112000\n",
      "\n"
     ]
    }
   ],
   "source": [
    "y_pred = lr.predict(X_test)\n",
    "\n",
    "print(classification_report(y_test, y_pred, digits=4))\n"
   ]
  },
  {
   "cell_type": "markdown",
   "id": "585d774b",
   "metadata": {
    "papermill": {
     "duration": 0.00367,
     "end_time": "2022-06-30T01:11:32.697390",
     "exception": false,
     "start_time": "2022-06-30T01:11:32.693720",
     "status": "completed"
    },
    "tags": []
   },
   "source": [
    "after using word embeddings to transform the reviews into vectors, and using logistic regression, the resulting accuracy (f1-score) $0.89$ slightly higher than the benchmark model at $0.875$, but close to the bigram variant at $0.9$\n",
    "\n",
    "as a comment, the transformer transformed all the reviews into non-zero vectors, but after initial preprocessing, there were $93$ reviews that were deemed useless, it is a small number in comparison to $560000$, and it is likely to produce a small difference in accuracy, and not necessarily improve it.\n",
    "\n",
    "---\n",
    "\n",
    "another model could be helpful is `SVM` (support vector machine), which is common for classification tasks, especially with data with low to medium number of features, as seen after transforming the data we have vectors of size $768$.\n"
   ]
  },
  {
   "cell_type": "code",
   "execution_count": 8,
   "id": "a402bb16",
   "metadata": {
    "execution": {
     "iopub.execute_input": "2022-06-30T01:11:32.707407Z",
     "iopub.status.busy": "2022-06-30T01:11:32.706427Z",
     "iopub.status.idle": "2022-06-30T01:11:32.714027Z",
     "shell.execute_reply": "2022-06-30T01:11:32.712912Z"
    },
    "papermill": {
     "duration": 0.0152,
     "end_time": "2022-06-30T01:11:32.716314",
     "exception": false,
     "start_time": "2022-06-30T01:11:32.701114",
     "status": "completed"
    },
    "tags": []
   },
   "outputs": [],
   "source": [
    "import joblib\n",
    "\n",
    "_ = joblib.dump(lr, \"logistic-regression.joblib\")\n"
   ]
  },
  {
   "cell_type": "code",
   "execution_count": 9,
   "id": "9e148967",
   "metadata": {
    "execution": {
     "iopub.execute_input": "2022-06-30T01:11:32.726413Z",
     "iopub.status.busy": "2022-06-30T01:11:32.726061Z",
     "iopub.status.idle": "2022-06-30T01:11:32.777045Z",
     "shell.execute_reply": "2022-06-30T01:11:32.776082Z"
    },
    "papermill": {
     "duration": 0.058819,
     "end_time": "2022-06-30T01:11:32.779216",
     "exception": false,
     "start_time": "2022-06-30T01:11:32.720397",
     "status": "completed"
    },
    "tags": []
   },
   "outputs": [],
   "source": [
    "from sklearn.kernel_approximation import Nystroem\n",
    "from sklearn.svm import LinearSVC\n",
    "from sklearn.pipeline import make_pipeline\n",
    "\n",
    "# kernel approximation is recommended\n",
    "nystroem = Nystroem(random_state=42, n_components=features.shape[1])\n",
    "svm = LinearSVC(random_state=42)\n",
    "pipeline = make_pipeline(nystroem, svm)\n"
   ]
  },
  {
   "cell_type": "code",
   "execution_count": 10,
   "id": "cf71ddbc",
   "metadata": {
    "execution": {
     "iopub.execute_input": "2022-06-30T01:11:32.789152Z",
     "iopub.status.busy": "2022-06-30T01:11:32.788756Z",
     "iopub.status.idle": "2022-06-30T01:13:08.288214Z",
     "shell.execute_reply": "2022-06-30T01:13:08.287306Z"
    },
    "papermill": {
     "duration": 95.509587,
     "end_time": "2022-06-30T01:13:08.293293",
     "exception": false,
     "start_time": "2022-06-30T01:11:32.783706",
     "status": "completed"
    },
    "tags": []
   },
   "outputs": [
    {
     "data": {
      "text/plain": [
       "0.8925669642857142"
      ]
     },
     "execution_count": 10,
     "metadata": {},
     "output_type": "execute_result"
    }
   ],
   "source": [
    "_ = pipeline.fit(X_train, y_train)\n",
    "pipeline.score(X_train, y_train)\n"
   ]
  },
  {
   "cell_type": "code",
   "execution_count": 11,
   "id": "98ed8952",
   "metadata": {
    "execution": {
     "iopub.execute_input": "2022-06-30T01:13:08.302285Z",
     "iopub.status.busy": "2022-06-30T01:13:08.301976Z",
     "iopub.status.idle": "2022-06-30T01:13:16.658421Z",
     "shell.execute_reply": "2022-06-30T01:13:16.657616Z"
    },
    "papermill": {
     "duration": 8.363389,
     "end_time": "2022-06-30T01:13:16.660542",
     "exception": false,
     "start_time": "2022-06-30T01:13:08.297153",
     "status": "completed"
    },
    "tags": []
   },
   "outputs": [
    {
     "name": "stdout",
     "output_type": "stream",
     "text": [
      "              precision    recall  f1-score   support\n",
      "\n",
      "         NEG     0.8922    0.8903    0.8912     56000\n",
      "         POS     0.8906    0.8924    0.8915     56000\n",
      "\n",
      "    accuracy                         0.8914    112000\n",
      "   macro avg     0.8914    0.8914    0.8914    112000\n",
      "weighted avg     0.8914    0.8914    0.8914    112000\n",
      "\n"
     ]
    }
   ],
   "source": [
    "y_pred = pipeline.predict(X_test)\n",
    "\n",
    "print(classification_report(y_test, y_pred, digits=4))\n"
   ]
  },
  {
   "cell_type": "markdown",
   "id": "0e2c7f3e",
   "metadata": {
    "papermill": {
     "duration": 0.006046,
     "end_time": "2022-06-30T01:13:16.673360",
     "exception": false,
     "start_time": "2022-06-30T01:13:16.667314",
     "status": "completed"
    },
    "tags": []
   },
   "source": [
    "the `SVM` classsifier is closer to the logistic regression at $0.89$\n",
    "\n",
    "notice the warning, asking to increase the `max_iter` parameter\n",
    "\n",
    "> TODO: perform RandomizedSearch for hyper-parameter tuning to obtain best results possible from classical models\n"
   ]
  },
  {
   "cell_type": "code",
   "execution_count": 12,
   "id": "0b1ecd16",
   "metadata": {
    "execution": {
     "iopub.execute_input": "2022-06-30T01:13:16.687167Z",
     "iopub.status.busy": "2022-06-30T01:13:16.686858Z",
     "iopub.status.idle": "2022-06-30T01:13:16.695753Z",
     "shell.execute_reply": "2022-06-30T01:13:16.694960Z"
    },
    "papermill": {
     "duration": 0.018487,
     "end_time": "2022-06-30T01:13:16.697972",
     "exception": false,
     "start_time": "2022-06-30T01:13:16.679485",
     "status": "completed"
    },
    "tags": []
   },
   "outputs": [],
   "source": [
    "_ = joblib.dump(pipeline, \"linearsvm.joblib\")\n"
   ]
  }
 ],
 "metadata": {
  "kernelspec": {
   "display_name": "Python 3",
   "language": "python",
   "name": "python3"
  },
  "language_info": {
   "codemirror_mode": {
    "name": "ipython",
    "version": 3
   },
   "file_extension": ".py",
   "mimetype": "text/x-python",
   "name": "python",
   "nbconvert_exporter": "python",
   "pygments_lexer": "ipython3",
   "version": "3.7.12"
  },
  "papermill": {
   "default_parameters": {},
   "duration": 898.676531,
   "end_time": "2022-06-30T01:13:19.324529",
   "environment_variables": {},
   "exception": null,
   "input_path": "__notebook__.ipynb",
   "output_path": "__notebook__.ipynb",
   "parameters": {},
   "start_time": "2022-06-30T00:58:20.647998",
   "version": "2.3.4"
  }
 },
 "nbformat": 4,
 "nbformat_minor": 5
}
