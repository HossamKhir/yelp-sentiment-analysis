{
 "cells": [
  {
   "cell_type": "markdown",
   "id": "935c771d",
   "metadata": {
    "papermill": {
     "duration": 0.004748,
     "end_time": "2022-06-26T13:09:54.109173",
     "exception": false,
     "start_time": "2022-06-26T13:09:54.104425",
     "status": "completed"
    },
    "tags": []
   },
   "source": [
    "# Sentiment Analysis on Yelp dataset\n",
    "\n",
    "## Loading libraries\n"
   ]
  },
  {
   "cell_type": "code",
   "execution_count": 2,
   "id": "0e6c9970",
   "metadata": {
    "execution": {
     "iopub.execute_input": "2022-06-26T13:09:54.120745Z",
     "iopub.status.busy": "2022-06-26T13:09:54.120051Z",
     "iopub.status.idle": "2022-06-26T13:10:06.719687Z",
     "shell.execute_reply": "2022-06-26T13:10:06.718614Z"
    },
    "papermill": {
     "duration": 12.607979,
     "end_time": "2022-06-26T13:10:06.721953",
     "exception": false,
     "start_time": "2022-06-26T13:09:54.113974",
     "status": "completed"
    },
    "tags": []
   },
   "outputs": [],
   "source": [
    "import numpy as np\n",
    "import pandas as pd\n"
   ]
  },
  {
   "cell_type": "markdown",
   "id": "e195e443",
   "metadata": {
    "papermill": {
     "duration": 0.004878,
     "end_time": "2022-06-26T13:10:06.732059",
     "exception": false,
     "start_time": "2022-06-26T13:10:06.727181",
     "status": "completed"
    },
    "tags": []
   },
   "source": [
    "## Loading the dataset\n"
   ]
  },
  {
   "cell_type": "code",
   "execution_count": 3,
   "id": "7d7b4f8a",
   "metadata": {
    "execution": {
     "iopub.execute_input": "2022-06-26T13:10:06.744324Z",
     "iopub.status.busy": "2022-06-26T13:10:06.743656Z",
     "iopub.status.idle": "2022-06-26T13:10:15.684033Z",
     "shell.execute_reply": "2022-06-26T13:10:15.682940Z"
    },
    "papermill": {
     "duration": 8.949327,
     "end_time": "2022-06-26T13:10:15.686489",
     "exception": false,
     "start_time": "2022-06-26T13:10:06.737162",
     "status": "completed"
    },
    "tags": []
   },
   "outputs": [
    {
     "data": {
      "text/html": [
       "<div>\n",
       "<style scoped>\n",
       "    .dataframe tbody tr th:only-of-type {\n",
       "        vertical-align: middle;\n",
       "    }\n",
       "\n",
       "    .dataframe tbody tr th {\n",
       "        vertical-align: top;\n",
       "    }\n",
       "\n",
       "    .dataframe thead th {\n",
       "        text-align: right;\n",
       "    }\n",
       "</style>\n",
       "<table border=\"1\" class=\"dataframe\">\n",
       "  <thead>\n",
       "    <tr style=\"text-align: right;\">\n",
       "      <th></th>\n",
       "      <th>sentiment</th>\n",
       "      <th>review</th>\n",
       "    </tr>\n",
       "  </thead>\n",
       "  <tbody>\n",
       "    <tr>\n",
       "      <th>0</th>\n",
       "      <td>1</td>\n",
       "      <td>Unfortunately, the frustration of being Dr. Go...</td>\n",
       "    </tr>\n",
       "    <tr>\n",
       "      <th>1</th>\n",
       "      <td>2</td>\n",
       "      <td>Been going to Dr. Goldberg for over 10 years. ...</td>\n",
       "    </tr>\n",
       "    <tr>\n",
       "      <th>2</th>\n",
       "      <td>1</td>\n",
       "      <td>I don't know what Dr. Goldberg was like before...</td>\n",
       "    </tr>\n",
       "    <tr>\n",
       "      <th>3</th>\n",
       "      <td>1</td>\n",
       "      <td>I'm writing this review to give you a heads up...</td>\n",
       "    </tr>\n",
       "    <tr>\n",
       "      <th>4</th>\n",
       "      <td>2</td>\n",
       "      <td>All the food is great here. But the best thing...</td>\n",
       "    </tr>\n",
       "  </tbody>\n",
       "</table>\n",
       "</div>"
      ],
      "text/plain": [
       "   sentiment                                             review\n",
       "0          1  Unfortunately, the frustration of being Dr. Go...\n",
       "1          2  Been going to Dr. Goldberg for over 10 years. ...\n",
       "2          1  I don't know what Dr. Goldberg was like before...\n",
       "3          1  I'm writing this review to give you a heads up...\n",
       "4          2  All the food is great here. But the best thing..."
      ]
     },
     "execution_count": 3,
     "metadata": {},
     "output_type": "execute_result"
    }
   ],
   "source": [
    "IO_TRAIN = \"../input/yelp-sent-analysis-preprocess/train_processed.csv\"\n",
    "ylp_processed = pd.read_csv(IO_TRAIN)\n",
    "ylp_processed.head()\n"
   ]
  },
  {
   "cell_type": "markdown",
   "id": "24cccb64",
   "metadata": {
    "papermill": {
     "duration": 0.015338,
     "end_time": "2022-06-26T13:28:15.013466",
     "exception": false,
     "start_time": "2022-06-26T13:28:14.998128",
     "status": "completed"
    },
    "tags": []
   },
   "source": [
    "---\n",
    "\n",
    "## Benchmark model\n",
    "\n",
    "Will start by using a naive Bayes classifier with unigram\n",
    "\n",
    "naive Bayes is one of the oldest & fastest classifiers for text classifications\n"
   ]
  },
  {
   "cell_type": "code",
   "execution_count": 13,
   "id": "98723986",
   "metadata": {
    "execution": {
     "iopub.execute_input": "2022-06-26T13:28:15.025474Z",
     "iopub.status.busy": "2022-06-26T13:28:15.025113Z",
     "iopub.status.idle": "2022-06-26T13:28:15.035386Z",
     "shell.execute_reply": "2022-06-26T13:28:15.034235Z"
    },
    "papermill": {
     "duration": 0.018616,
     "end_time": "2022-06-26T13:28:15.037550",
     "exception": false,
     "start_time": "2022-06-26T13:28:15.018934",
     "status": "completed"
    },
    "tags": []
   },
   "outputs": [],
   "source": [
    "from sklearn.naive_bayes import MultinomialNB\n",
    "from sklearn.feature_extraction.text import TfidfVectorizer\n",
    "from sklearn.model_selection import cross_validate, train_test_split\n",
    "from sklearn.pipeline import make_pipeline\n",
    "from sklearn.metrics import classification_report\n"
   ]
  },
  {
   "cell_type": "code",
   "execution_count": 14,
   "id": "b8b7bcc2",
   "metadata": {
    "execution": {
     "iopub.execute_input": "2022-06-26T13:28:15.050127Z",
     "iopub.status.busy": "2022-06-26T13:28:15.049613Z",
     "iopub.status.idle": "2022-06-26T13:28:15.629406Z",
     "shell.execute_reply": "2022-06-26T13:28:15.628730Z"
    },
    "papermill": {
     "duration": 0.58852,
     "end_time": "2022-06-26T13:28:15.631517",
     "exception": false,
     "start_time": "2022-06-26T13:28:15.042997",
     "status": "completed"
    },
    "tags": []
   },
   "outputs": [],
   "source": [
    "X = ylp_processed[\"review\"]\n",
    "y = ylp_processed[\"sentiment\"]\n",
    "\n",
    "X_train, X_test, y_train, y_test = train_test_split(\n",
    "    X, y, test_size=0.2, random_state=42, stratify=y\n",
    ")\n",
    "\n",
    "benchmark = make_pipeline(TfidfVectorizer(), MultinomialNB())\n"
   ]
  },
  {
   "cell_type": "code",
   "execution_count": 15,
   "id": "dd6f9836",
   "metadata": {
    "execution": {
     "iopub.execute_input": "2022-06-26T13:28:15.644007Z",
     "iopub.status.busy": "2022-06-26T13:28:15.643045Z",
     "iopub.status.idle": "2022-06-26T13:29:49.588023Z",
     "shell.execute_reply": "2022-06-26T13:29:49.586628Z"
    },
    "papermill": {
     "duration": 93.963239,
     "end_time": "2022-06-26T13:29:49.600070",
     "exception": false,
     "start_time": "2022-06-26T13:28:15.636831",
     "status": "completed"
    },
    "tags": []
   },
   "outputs": [
    {
     "name": "stderr",
     "output_type": "stream",
     "text": [
      "[Parallel(n_jobs=-1)]: Using backend LokyBackend with 4 concurrent workers.\n",
      "[Parallel(n_jobs=-1)]: Done   5 out of   5 | elapsed:  1.6min finished\n"
     ]
    },
    {
     "data": {
      "text/plain": [
       "0.8749453136757473"
      ]
     },
     "execution_count": 15,
     "metadata": {},
     "output_type": "execute_result"
    }
   ],
   "source": [
    "scores = cross_validate(benchmark, X, y, cv=5, n_jobs=-1, verbose=1)\n",
    "np.mean(scores[\"test_score\"])\n"
   ]
  },
  {
   "cell_type": "markdown",
   "id": "99ad25c8",
   "metadata": {
    "papermill": {
     "duration": 0.005226,
     "end_time": "2022-06-26T13:29:49.610846",
     "exception": false,
     "start_time": "2022-06-26T13:29:49.605620",
     "status": "completed"
    },
    "tags": []
   },
   "source": [
    "The benchmark model gives accuracy of $0.875$\n"
   ]
  },
  {
   "cell_type": "code",
   "execution_count": 16,
   "id": "457f1c3d",
   "metadata": {
    "execution": {
     "iopub.execute_input": "2022-06-26T13:29:49.625731Z",
     "iopub.status.busy": "2022-06-26T13:29:49.623809Z",
     "iopub.status.idle": "2022-06-26T13:30:23.000632Z",
     "shell.execute_reply": "2022-06-26T13:30:22.999659Z"
    },
    "papermill": {
     "duration": 33.391684,
     "end_time": "2022-06-26T13:30:23.008506",
     "exception": false,
     "start_time": "2022-06-26T13:29:49.616822",
     "status": "completed"
    },
    "tags": []
   },
   "outputs": [
    {
     "name": "stdout",
     "output_type": "stream",
     "text": [
      "              precision    recall  f1-score   support\n",
      "\n",
      "         NEG     0.8790    0.8778    0.8784     55986\n",
      "         POS     0.8780    0.8791    0.8786     55996\n",
      "\n",
      "    accuracy                         0.8785    111982\n",
      "   macro avg     0.8785    0.8785    0.8785    111982\n",
      "weighted avg     0.8785    0.8785    0.8785    111982\n",
      "\n"
     ]
    }
   ],
   "source": [
    "_ = benchmark.fit(X_train, y_train)\n",
    "y_pred = benchmark.predict(X_test)\n",
    "print(classification_report(y_test, y_pred, digits=4))\n"
   ]
  },
  {
   "cell_type": "code",
   "execution_count": null,
   "id": "b6f3f97f",
   "metadata": {},
   "outputs": [],
   "source": [
    "import joblib\n",
    "\n",
    "joblib.dump(benchmark, \"benchmark.joblib\")\n"
   ]
  }
 ],
 "metadata": {
  "kernelspec": {
   "display_name": "Python 3",
   "language": "python",
   "name": "python3"
  },
  "language_info": {
   "codemirror_mode": {
    "name": "ipython",
    "version": 3
   },
   "file_extension": ".py",
   "mimetype": "text/x-python",
   "name": "python",
   "nbconvert_exporter": "python",
   "pygments_lexer": "ipython3",
   "version": "3.7.12"
  },
  "papermill": {
   "default_parameters": {},
   "duration": 1240.974974,
   "end_time": "2022-06-26T13:30:26.042797",
   "environment_variables": {},
   "exception": null,
   "input_path": "__notebook__.ipynb",
   "output_path": "__notebook__.ipynb",
   "parameters": {},
   "start_time": "2022-06-26T13:09:45.067823",
   "version": "2.3.4"
  }
 },
 "nbformat": 4,
 "nbformat_minor": 5
}
